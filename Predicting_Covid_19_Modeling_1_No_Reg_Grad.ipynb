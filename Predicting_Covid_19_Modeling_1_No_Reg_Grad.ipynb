{
 "cells": [
  {
   "cell_type": "code",
   "execution_count": null,
   "metadata": {
    "colab": {
     "base_uri": "https://localhost:8080/"
    },
    "id": "oGnly3XaY4pu",
    "outputId": "e0c3b8b3-c474-4b8e-cc72-feb52399647f"
   },
   "outputs": [
    {
     "name": "stdout",
     "output_type": "stream",
     "text": [
      "2.4.0\n"
     ]
    }
   ],
   "source": [
    "# run the vgg16 model without regularization to see\n",
    "# if we can improve the loss and accuracy curves\n",
    "# verify the gradient tape is being recorded\n",
    "# although it is a default setting in tf.2\n",
    "# we plan to choose this model if things\n",
    "# don't get worse or if things improve with \n",
    "# better, closer fitting training and \n",
    "# validation. This is to make sure we don't\n",
    "# run into issues with unseen data\n",
    "\n",
    "# first import the desired libraries\n",
    "\n",
    "import tensorflow as tf\n",
    "print(tf.__version__)"
   ]
  },
  {
   "cell_type": "code",
   "execution_count": null,
   "metadata": {
    "id": "TbhCXDY1ZXLk"
   },
   "outputs": [],
   "source": [
    "import pandas as pd\n",
    "import numpy as np"
   ]
  },
  {
   "cell_type": "code",
   "execution_count": null,
   "metadata": {
    "colab": {
     "base_uri": "https://localhost:8080/"
    },
    "id": "WDnp9bx5ZgW-",
    "outputId": "9a7825c2-fa46-4341-b996-8364207c35fb"
   },
   "outputs": [
    {
     "name": "stdout",
     "output_type": "stream",
     "text": [
      "Mounted at /gdrive\n"
     ]
    }
   ],
   "source": [
    "# mount drive\n",
    "\n",
    "from google.colab import drive\n",
    "drive.mount('/gdrive')"
   ]
  },
  {
   "cell_type": "code",
   "execution_count": null,
   "metadata": {
    "id": "ihR5BU-mZh7Y"
   },
   "outputs": [],
   "source": [
    "# previously constructed dataframes that split the data\n",
    "\n",
    "training_covid = pd.read_csv('/gdrive/My Drive/training_covid')\n",
    "validation_covid = pd.read_csv('/gdrive/My Drive/validation_covid')\n",
    "X_test_covid = pd.read_csv('/gdrive/My Drive/X_test_covid')\n",
    "y_test_covid = pd.read_csv('/gdrive/My Drive/y_test_covid')"
   ]
  },
  {
   "cell_type": "code",
   "execution_count": null,
   "metadata": {
    "id": "kWTTAuU-CtP7"
   },
   "outputs": [],
   "source": [
    "testing_covid = pd.concat([X_test_covid, y_test_covid], axis=1)"
   ]
  },
  {
   "cell_type": "code",
   "execution_count": null,
   "metadata": {
    "id": "N0Y2Qqua4Nau"
   },
   "outputs": [],
   "source": [
    "# Now we create generators without the original class imbalance and with\n",
    "# The normalized features, with 0 mean and a standard deviation of 1\n",
    "\n",
    "import os\n",
    "from keras.preprocessing.image import ImageDataGenerator\n",
    "\n",
    "# Recall that the images were moved to a folder names XRays. \n",
    "image_dir = '/gdrive/My Drive/XRays'"
   ]
  },
  {
   "cell_type": "code",
   "execution_count": null,
   "metadata": {
    "id": "IasyNOY9xz66"
   },
   "outputs": [],
   "source": [
    "\n",
    "def get_train_generator(train_df, image_dir, x_col, y_col, shuffle=True, batch_size=8, target_w = 224, target_h = 224):\n",
    "  \"\"\"\n",
    "  Return generator for training set, normalizing using batch\n",
    "  statistics.\n",
    "\n",
    "  Args:\n",
    "    train_df (dataframe): dataframe specifying training data.\n",
    "    image_dir (str): directory where image files are held.\n",
    "    x_col (str): name of column in df that holds filenames.\n",
    "    y_cols (list): list of strings that hold y labels for images.\n",
    "    batch_size (int): images per batch to be fed into model during training.\n",
    "    seed (int): random seed.\n",
    "    target_w (int): final width of input images.\n",
    "    target_h (int): final height of input images.\n",
    "    \n",
    "    Returns:\n",
    "      train_generator (DataFrameIterator): iterator over training set\n",
    "    \"\"\" \n",
    "  # The folder contains a subfolder for each class of shape\n",
    "    \n",
    "  classes = sorted(os.listdir(image_dir))\n",
    "  print(classes)\n",
    "  train_datagen = ImageDataGenerator(samplewise_center=True, # Set each sample mean to 0 \n",
    "                             samplewise_std_normalization=True, # Divide each input by its standard deviation\n",
    "  )\n",
    "\n",
    "  print(\"Preparing training dataset...\\n\")\n",
    "\n",
    "  # Flow from directory with specified batch size and target image size\n",
    "  train_generator = train_datagen.flow_from_dataframe(\n",
    "        dataframe=train_df,\n",
    "        directory='/gdrive/My Drive/XRaysCombo',\n",
    "        x_col=x_col, # features\n",
    "        y_col=y_col, # labels\n",
    "        class_mode='categorical', # 3 classes\n",
    "        batch_size= batch_size, # images per batch\n",
    "        shuffle=shuffle, # shuffle the rows or not\n",
    "        target_size=(target_w, target_h) # width and height of output image this one matches vgg16\n",
    "  )\n",
    "  return train_generator"
   ]
  },
  {
   "cell_type": "code",
   "execution_count": null,
   "metadata": {
    "id": "DOMF9x4fyNmA"
   },
   "outputs": [],
   "source": [
    "def get_test_and_valid_generator(valid_df, test_df, train_df, image_dir, x_col, y_col, sample_batch_size=305, batch_size=8, target_w = 224, target_h = 224):\n",
    "  \"\"\"\n",
    "  Return generator for validation set and test test set using \n",
    "  normalization statistics from training set.\n",
    "\n",
    "  Args:\n",
    "    valid_df (dataframe): dataframe specifying validation data.\n",
    "    test_df (dataframe): dataframe specifying test data.\n",
    "    train_df (dataframe): dataframe specifying training data.\n",
    "    image_dir (str): directory where image files are held.\n",
    "    x_col (str): name of column in df that holds filenames.\n",
    "    y_cols (list): list of strings that hold y labels for images.\n",
    "    sample_size (int): size of sample to use for normalization statistics.\n",
    "    batch_size (int): images per batch to be fed into model during training.\n",
    "    seed (int): random seed.\n",
    "    target_w (int): final width of input images.\n",
    "    target_h (int): final height of input images.\n",
    "    \n",
    "  Returns:\n",
    "      test_generator (DataFrameIterator) and valid_generator: iterators over test set and validation set respectively\n",
    "    \"\"\"\n",
    "\n",
    "  # create validation set using normalization statistics from\n",
    "  # the training set only\n",
    "\n",
    "  print(\"\\nSampling normalization statistics from training only...\\n\")\n",
    "\n",
    "  \n",
    "  \n",
    "  # Flow from directory with specified batch size and target image size\n",
    "  sample_generator = ImageDataGenerator().flow_from_dataframe(\n",
    "        dataframe=train_df,\n",
    "        directory='/gdrive/My Drive/XRaysCombo',\n",
    "        x_col=x_col, # features\n",
    "        y_col=y_col, # labels\n",
    "        class_mode='categorical', # 3 classes\n",
    "        batch_size= batch_size, # images per batch\n",
    "        shuffle=True, # shuffle the rows or not\n",
    "        target_size=(target_w, target_h) # width and height of output image this one matches VGG16\n",
    "  \n",
    "  )\n",
    "  # get data sample\n",
    "  batch = sample_generator.next()\n",
    "  data_sample = batch[0]\n",
    "\n",
    "\n",
    "  # generator fitted with training set only\n",
    "\n",
    "  # use sample to fit mean and std for test set generator\n",
    "  test_datagen = ImageDataGenerator(\n",
    "        featurewise_center=True,\n",
    "        featurewise_std_normalization= True)\n",
    "  \n",
    "  test_datagen.fit(data_sample)\n",
    "\n",
    "\n",
    "  print(\"\\nPreparing validation dataset...\\n\")\n",
    "\n",
    "  # Flow from directory with specified batch size and target image size\n",
    "  validation_generator = test_datagen.flow_from_dataframe(\n",
    "        dataframe=valid_df,\n",
    "        directory='/gdrive/My Drive/XRaysCombo',\n",
    "        x_col=x_col, # features\n",
    "        y_col= y_col, # labels\n",
    "        class_mode='categorical', # 3 classes\n",
    "        batch_size= batch_size, # images per batch\n",
    "        shuffle=False, # shuffle the rows or not\n",
    "        target_size=(target_w, target_h) # width and height of output image this one matches VGG16\n",
    "  )\n",
    "\n",
    "  print(\"\\nPreparing testing dataset...\\n\")\n",
    "\n",
    "  # Flow from directory with specified batch size and target image size\n",
    "  test_generator = test_datagen.flow_from_dataframe(\n",
    "        dataframe=test_df,\n",
    "        directory='/gdrive/My Drive/XRaysCombo',\n",
    "        x_col=x_col, # features\n",
    "        y_col=y_col, # labels\n",
    "        class_mode='categorical', # 3 classes\n",
    "        batch_size= batch_size, # images per batch\n",
    "        shuffle=False, # shuffle the rows or not\n",
    "        target_size=(target_w, target_h) # width and height of output image this one matches VGG16\n",
    "  )\n",
    "  return validation_generator, test_generator\n"
   ]
  },
  {
   "cell_type": "code",
   "execution_count": null,
   "metadata": {
    "colab": {
     "base_uri": "https://localhost:8080/"
    },
    "id": "gWnZ2uCjxQoa",
    "outputId": "fe6feeab-3d86-48d6-9270-459d5e682316"
   },
   "outputs": [
    {
     "name": "stdout",
     "output_type": "stream",
     "text": [
      "['COVID-19', 'Normal', 'Viral Pneumonia']\n",
      "Preparing training dataset...\n",
      "\n",
      "Found 305 validated image filenames belonging to 3 classes.\n",
      "\n",
      "Sampling normalization statistics from training only...\n",
      "\n",
      "Found 305 validated image filenames belonging to 3 classes.\n",
      "\n",
      "Preparing validation dataset...\n",
      "\n",
      "Found 54 validated image filenames belonging to 3 classes.\n",
      "\n",
      "Preparing testing dataset...\n",
      "\n",
      "Found 40 validated image filenames belonging to 3 classes.\n"
     ]
    }
   ],
   "source": [
    "train_df = training_covid \n",
    "valid_df = validation_covid\n",
    "test_df = testing_covid\n",
    "x_col = \"FILE NAME\"\n",
    "y_col = 'Class'\n",
    "\n",
    "train_generator = get_train_generator(train_df, image_dir, x_col, y_col)\n",
    "valid_generator, test_generator = get_test_and_valid_generator(valid_df, test_df, train_df, image_dir, x_col, y_col)"
   ]
  },
  {
   "cell_type": "code",
   "execution_count": null,
   "metadata": {
    "id": "7PIIW0wferGv"
   },
   "outputs": [],
   "source": [
    "def create_model():\n",
    "  \"\"\"\n",
    "  This function returns a base VGG16 transfer learning model trained on\n",
    "  imagenet connected to a head adapted to a 3 class softmax probability\n",
    "  \"\"\"\n",
    "  # we will start by building a VGG16 model\n",
    "  # Build model freezing top layers and adding a dense layer \n",
    "  # with the number of classes\n",
    "  model = tf.keras.Sequential()\n",
    "  # load the VGG16 network, ensuring the head FC layer sets are left\n",
    "  # off\n",
    "  base = tf.keras.applications.VGG16(weights=\"imagenet\", include_top=False,\n",
    "\t  input_tensor=tf.keras.Input(shape=(224,224,3)))\n",
    "\n",
    "  # construct the head of the model that will be placed on top of the\n",
    "  # the base model\n",
    "  head = base.output\n",
    "  head = tf.keras.layers.AveragePooling2D(pool_size=(4, 4))(head)\n",
    "  head = tf.keras.layers.Flatten()(head)\n",
    "  head = tf.keras.layers.Dense(64, activation=\"relu\")(head)\n",
    "  #head = tf.keras.layers.Dropout(0.5)(head) # remove dropout\n",
    "  head = tf.keras.layers.Dense(3, activation=\"softmax\")(head)\n",
    "\n",
    "  # place the head FC model on top of the base model (this will become\n",
    "  # the actual model we will train)\n",
    "  model = tf.keras.Model(inputs=base.input, outputs=head)\n",
    "\n",
    "  # loop over all layers in the base model and freeze them \n",
    "  for layer in base.layers:\n",
    "\t  layer.trainable = False\n",
    "\n",
    "\n",
    "\n",
    "  \n",
    "  # compile model\n",
    "  model.compile(optimizer=tf.keras.optimizers.Adam(), loss='categorical_crossentropy', metrics=['accuracy'], run_eagerly=False)\n",
    "  return model\n",
    "\n"
   ]
  },
  {
   "cell_type": "code",
   "execution_count": null,
   "metadata": {
    "id": "zTENTlsib8SC"
   },
   "outputs": [],
   "source": [
    "# call back to save best weights only (entire model)\n",
    "\n",
    "def get_checkpoint_best_only_conv():\n",
    "    \"\"\"\n",
    "    This function returns a ModelCheckpoint object that:\n",
    "    - saves only the weights that generate the highest validation (testing) accuracy\n",
    "    \"\"\"\n",
    "    checkpoint_path = '/gdrive/My Drive/covid_vgg16_no_reg_grad.pb'\n",
    "    model_checkpoint_callback = tf.keras.callbacks.ModelCheckpoint(\n",
    "        filepath=checkpoint_path,\n",
    "        save_weights_only=False,\n",
    "        monitor='val_accuracy',\n",
    "        mode='max',\n",
    "        save_best_only=True\n",
    "        )\n",
    "  \n",
    "    return model_checkpoint_callback"
   ]
  },
  {
   "cell_type": "code",
   "execution_count": null,
   "metadata": {
    "id": "_Dd3cGk_lwsB"
   },
   "outputs": [],
   "source": [
    "# callback to stop training if no further improvement\n",
    "def get_early_stopping():\n",
    "    \"\"\"\n",
    "    This function should return an EarlyStopping callback that stops training when\n",
    "    the validation (testing) accuracy has not improved in the last 3 epochs.\n",
    "    \n",
    "    \"\"\"\n",
    "    return tf.keras.callbacks.EarlyStopping(monitor='val_accuracy', mode=\"max\", patience=3)"
   ]
  },
  {
   "cell_type": "code",
   "execution_count": null,
   "metadata": {
    "id": "w1vfcO47cRAc"
   },
   "outputs": [],
   "source": [
    "# call back to reduce the learning rate if the model plateaus using recommended parameters\n",
    "# for the Adam optimizer (reduce_on_plateau)\n",
    "\n",
    "# call back to reduce the learning rate (lr_schedule) by the function given every epoch\n",
    "# we can plot the schedule against the loss to set the learning rate\n",
    "\n",
    "checkpoint_best_only = get_checkpoint_best_only_conv()\n",
    "reduce_on_plateau = tf.keras.callbacks.ReduceLROnPlateau(\n",
    "                              monitor='val_loss', \n",
    "                              factor=0.1, patience=2,\n",
    "                              verbose=1, mode='auto', min_delta=0.0001,\n",
    "                              cooldown=0, min_lr=0)\n",
    "lr_schedule = tf.keras.callbacks.LearningRateScheduler(\n",
    "    lambda epoch: 1e-3 * 10**(epoch / 30))\n",
    "\n",
    "# at first, set the lr only\n",
    "\n",
    "callbacks = [lr_schedule]"
   ]
  },
  {
   "cell_type": "code",
   "execution_count": null,
   "metadata": {
    "colab": {
     "base_uri": "https://localhost:8080/"
    },
    "id": "HebVTGPMhl5h",
    "outputId": "4046d21e-f4fe-4dac-c81d-90e9a67ca79a"
   },
   "outputs": [
    {
     "name": "stdout",
     "output_type": "stream",
     "text": [
      "Downloading data from https://storage.googleapis.com/tensorflow/keras-applications/vgg16/vgg16_weights_tf_dim_ordering_tf_kernels_notop.h5\n",
      "58892288/58889256 [==============================] - 1s 0us/step\n",
      "Epoch 1/10\n",
      "38/38 [==============================] - 202s 5s/step - loss: 0.9751 - accuracy: 0.5841 - val_loss: 0.7365 - val_accuracy: 0.7083\n",
      "Epoch 2/10\n",
      "38/38 [==============================] - 9s 227ms/step - loss: 0.6014 - accuracy: 0.8117 - val_loss: 0.5121 - val_accuracy: 0.8125\n",
      "Epoch 3/10\n",
      "38/38 [==============================] - 9s 228ms/step - loss: 0.4593 - accuracy: 0.8550 - val_loss: 0.4271 - val_accuracy: 0.8750\n",
      "Epoch 4/10\n",
      "38/38 [==============================] - 9s 227ms/step - loss: 0.3440 - accuracy: 0.9031 - val_loss: 0.4038 - val_accuracy: 0.8750\n",
      "Epoch 5/10\n",
      "38/38 [==============================] - 9s 227ms/step - loss: 0.2672 - accuracy: 0.9159 - val_loss: 0.3487 - val_accuracy: 0.8958\n",
      "Epoch 6/10\n",
      "38/38 [==============================] - 9s 230ms/step - loss: 0.2071 - accuracy: 0.9770 - val_loss: 0.3140 - val_accuracy: 0.8958\n",
      "Epoch 7/10\n",
      "38/38 [==============================] - 9s 229ms/step - loss: 0.1746 - accuracy: 0.9649 - val_loss: 0.2575 - val_accuracy: 0.9375\n",
      "Epoch 8/10\n",
      "38/38 [==============================] - 9s 229ms/step - loss: 0.1767 - accuracy: 0.9598 - val_loss: 0.3109 - val_accuracy: 0.8958\n",
      "Epoch 9/10\n",
      "38/38 [==============================] - 9s 228ms/step - loss: 0.1653 - accuracy: 0.9430 - val_loss: 0.2614 - val_accuracy: 0.9167\n",
      "Epoch 10/10\n",
      "38/38 [==============================] - 9s 225ms/step - loss: 0.1180 - accuracy: 0.9683 - val_loss: 0.2648 - val_accuracy: 0.9167\n"
     ]
    }
   ],
   "source": [
    "tf.keras.backend.clear_session()\n",
    "tf.random.set_seed(51)\n",
    "np.random.seed(51)\n",
    "\n",
    "# create the model\n",
    "model = create_model()\n",
    "\n",
    "# Fit the model to the training data\n",
    "history = model.fit(train_generator, \n",
    "                              validation_data=valid_generator,\n",
    "                              steps_per_epoch=305//8, \n",
    "                              validation_steps=54//8, \n",
    "                              epochs = 10,\n",
    "                              callbacks=callbacks)"
   ]
  },
  {
   "cell_type": "code",
   "execution_count": null,
   "metadata": {
    "colab": {
     "base_uri": "https://localhost:8080/",
     "height": 290
    },
    "id": "4-rVuCMDjFOh",
    "outputId": "a5364a93-255d-486a-f184-5f01064bffb6"
   },
   "outputs": [
    {
     "data": {
      "text/plain": [
       "(0.001, 0.003, 0.0, 2.0)"
      ]
     },
     "execution_count": 15,
     "metadata": {
      "tags": []
     },
     "output_type": "execute_result"
    },
    {
     "data": {
      "image/png": "[encoded data removed]",
      "text/plain": [
       "<Figure size 432x288 with 1 Axes>"
      ]
     },
     "metadata": {
      "needs_background": "light",
      "tags": []
     },
     "output_type": "display_data"
    }
   ],
   "source": [
    "# Check for best rate\n",
    "import matplotlib.pyplot as plt\n",
    "plt.semilogx(history.history[\"lr\"], history.history[\"loss\"])\n",
    "plt.axis([1e-3, 3*1e-3, 0, 2])"
   ]
  },
  {
   "cell_type": "code",
   "execution_count": null,
   "metadata": {
    "id": "Cg_PfGaet3zH"
   },
   "outputs": [],
   "source": [
    "# keep the learning rate at 1e-3 and decrease rate on plateau slightly\n",
    "# save best model, stop training if no further improvement (early stopping callback)\n",
    "\n",
    "checkpoint_best_only = get_checkpoint_best_only_conv()\n",
    "early_stopping = get_early_stopping()\n",
    "reduce_on_plateau = tf.keras.callbacks.ReduceLROnPlateau(\n",
    "                              monitor='val_loss', \n",
    "                              factor=1/30., patience=2,\n",
    "                              verbose=1, mode='auto', min_delta=0.0001,\n",
    "                              cooldown=0, min_lr=0)\n",
    "lr_schedule = tf.keras.callbacks.LearningRateScheduler(\n",
    "    lambda epoch: 1e-3 * 10**(epoch / 30))\n",
    "\n",
    "# at first, set the lr only\n",
    "\n",
    "callbacks = [checkpoint_best_only, early_stopping, reduce_on_plateau]"
   ]
  },
  {
   "cell_type": "code",
   "execution_count": null,
   "metadata": {
    "colab": {
     "base_uri": "https://localhost:8080/"
    },
    "id": "of0x9IEjubME",
    "outputId": "c8891d5c-19d1-42c4-bc20-d4c6b98304a5"
   },
   "outputs": [
    {
     "name": "stdout",
     "output_type": "stream",
     "text": [
      "Epoch 1/30\n",
      "38/38 [==============================] - 10s 239ms/step - loss: 0.9852 - accuracy: 0.5595 - val_loss: 0.7458 - val_accuracy: 0.7917\n",
      "INFO:tensorflow:Assets written to: /gdrive/My Drive/covid_vgg16_no_reg_grad.pb/assets\n",
      "Epoch 2/30\n",
      "38/38 [==============================] - 9s 230ms/step - loss: 0.6600 - accuracy: 0.8376 - val_loss: 0.5393 - val_accuracy: 0.8958\n",
      "INFO:tensorflow:Assets written to: /gdrive/My Drive/covid_vgg16_no_reg_grad.pb/assets\n",
      "Epoch 3/30\n",
      "38/38 [==============================] - 9s 232ms/step - loss: 0.4864 - accuracy: 0.8644 - val_loss: 0.4580 - val_accuracy: 0.8750\n",
      "Epoch 4/30\n",
      "38/38 [==============================] - 9s 232ms/step - loss: 0.3988 - accuracy: 0.8844 - val_loss: 0.3683 - val_accuracy: 0.9167\n",
      "INFO:tensorflow:Assets written to: /gdrive/My Drive/covid_vgg16_no_reg_grad.pb/assets\n",
      "Epoch 5/30\n",
      "38/38 [==============================] - 9s 227ms/step - loss: 0.2830 - accuracy: 0.9527 - val_loss: 0.3694 - val_accuracy: 0.8958\n",
      "Epoch 6/30\n",
      "38/38 [==============================] - 9s 230ms/step - loss: 0.2624 - accuracy: 0.9123 - val_loss: 0.3136 - val_accuracy: 0.9167\n",
      "Epoch 7/30\n",
      "38/38 [==============================] - 9s 224ms/step - loss: 0.2445 - accuracy: 0.9477 - val_loss: 0.2831 - val_accuracy: 0.9375\n",
      "INFO:tensorflow:Assets written to: /gdrive/My Drive/covid_vgg16_no_reg_grad.pb/assets\n",
      "Epoch 8/30\n",
      "38/38 [==============================] - 8s 223ms/step - loss: 0.1998 - accuracy: 0.9366 - val_loss: 0.2653 - val_accuracy: 0.9167\n",
      "Epoch 9/30\n",
      "38/38 [==============================] - 9s 225ms/step - loss: 0.1894 - accuracy: 0.9507 - val_loss: 0.2509 - val_accuracy: 0.9375\n",
      "Epoch 10/30\n",
      "38/38 [==============================] - 8s 220ms/step - loss: 0.1499 - accuracy: 0.9809 - val_loss: 0.2642 - val_accuracy: 0.8958\n"
     ]
    }
   ],
   "source": [
    "tf.keras.backend.clear_session()\n",
    "tf.random.set_seed(51)\n",
    "np.random.seed(51)\n",
    "\n",
    "# create the model\n",
    "model = create_model()\n",
    "\n",
    "# Fit the model to the training data\n",
    "history = model.fit(train_generator, \n",
    "                              validation_data=valid_generator,\n",
    "                              steps_per_epoch=305//8, \n",
    "                              validation_steps=54//8, \n",
    "                              epochs = 30,\n",
    "                              callbacks=callbacks)"
   ]
  },
  {
   "cell_type": "code",
   "execution_count": null,
   "metadata": {
    "id": "vERXPT7PI9fa"
   },
   "outputs": [],
   "source": [
    "\n",
    "# delete current model variable\n",
    "del model"
   ]
  },
  {
   "cell_type": "code",
   "execution_count": null,
   "metadata": {
    "id": "ZBs4i3USLcgc"
   },
   "outputs": [],
   "source": [
    "from tensorflow.keras.models import load_model"
   ]
  },
  {
   "cell_type": "code",
   "execution_count": null,
   "metadata": {
    "id": "s9UMiKLAI_Cx"
   },
   "outputs": [],
   "source": [
    "# Reload model from scratch this way we test our saved model\n",
    "\n",
    "model = load_model('/gdrive/My Drive/covid_vgg16_no_reg_grad.pb')\n",
    "\n"
   ]
  },
  {
   "cell_type": "code",
   "execution_count": null,
   "metadata": {
    "id": "ROxZ03MiQdGa"
   },
   "outputs": [],
   "source": [
    "# predictions with unseen test data\n",
    "prediction = model.predict(test_generator, steps = len(test_generator))"
   ]
  },
  {
   "cell_type": "code",
   "execution_count": null,
   "metadata": {
    "colab": {
     "base_uri": "https://localhost:8080/"
    },
    "id": "aKYZkL7kidrv",
    "outputId": "f266299f-69f9-4e65-999d-3a0563a31351"
   },
   "outputs": [
    {
     "data": {
      "text/plain": [
       "array([2, 1, 2, 2, 1, 2, 2, 2, 0, 0, 2, 1, 1, 1, 1, 2, 1, 0, 0, 1, 0, 0,\n",
       "       0, 1, 1, 2, 2, 0, 1, 2, 2, 2, 1, 0, 0, 0, 0, 0, 0, 2])"
      ]
     },
     "execution_count": 22,
     "metadata": {
      "tags": []
     },
     "output_type": "execute_result"
    }
   ],
   "source": [
    "y_pred = np.argmax(prediction, axis = 1)\n",
    "y_pred"
   ]
  },
  {
   "cell_type": "code",
   "execution_count": null,
   "metadata": {
    "id": "LwX1yhwxksoX"
   },
   "outputs": [],
   "source": [
    "# make a list of the class names\n",
    "class_names = ['COVID-19', 'Normal', 'Viral Pneumonia']"
   ]
  },
  {
   "cell_type": "code",
   "execution_count": null,
   "metadata": {
    "colab": {
     "base_uri": "https://localhost:8080/"
    },
    "id": "EWI6AhdXiiW8",
    "outputId": "c2b2d585-46c7-446c-f394-be47aa76217b"
   },
   "outputs": [
    {
     "data": {
      "text/plain": [
       "2    14\n",
       "1    13\n",
       "0    13\n",
       "Name: y_true, dtype: int64"
      ]
     },
     "execution_count": 24,
     "metadata": {
      "tags": []
     },
     "output_type": "execute_result"
    }
   ],
   "source": [
    "# convert test entries to integers for comparison with predictions\n",
    "classcategories = {'COVID-19': 0,'Normal':1,'Viral Pneumonia':2}\n",
    "y_test_covid['y_true'] = [classcategories[x] for x in y_test_covid['Class']]\n",
    "y_test_covid['y_true'].value_counts()"
   ]
  },
  {
   "cell_type": "code",
   "execution_count": null,
   "metadata": {
    "colab": {
     "base_uri": "https://localhost:8080/"
    },
    "id": "5D8TxayOm_G1",
    "outputId": "d633aa04-b0c3-47a2-8110-83dbcc7f4065"
   },
   "outputs": [
    {
     "data": {
      "text/plain": [
       "array([2, 1, 2, 2, 1, 2, 2, 2, 0, 0, 2, 1, 1, 1, 1, 2, 1, 0, 0, 1, 0, 0,\n",
       "       0, 1, 1, 2, 2, 0, 1, 2, 2, 2, 1, 0, 1, 0, 0, 0, 0, 2])"
      ]
     },
     "execution_count": 25,
     "metadata": {
      "tags": []
     },
     "output_type": "execute_result"
    }
   ],
   "source": [
    "# true values\n",
    "y_test = y_test_covid['y_true'].values\n",
    "y_test"
   ]
  },
  {
   "cell_type": "code",
   "execution_count": null,
   "metadata": {
    "colab": {
     "base_uri": "https://localhost:8080/",
     "height": 711
    },
    "id": "i0Yqw3_XjC7U",
    "outputId": "1e3a34d1-3a54-40e0-c3d9-63204e369290"
   },
   "outputs": [
    {
     "name": "stdout",
     "output_type": "stream",
     "text": [
      "Confusion matrix, without normalization\n",
      "[[13  0  0]\n",
      " [ 1 12  0]\n",
      " [ 0  0 14]]\n",
      "Normalized confusion matrix\n",
      "[[1.   0.   0.  ]\n",
      " [0.08 0.92 0.  ]\n",
      " [0.   0.   1.  ]]\n"
     ]
    },
    {
     "data": {
      "image/png": "[encoded data removed]",
      "text/plain": [
       "<Figure size 432x288 with 2 Axes>"
      ]
     },
     "metadata": {
      "needs_background": "light",
      "tags": []
     },
     "output_type": "display_data"
    },
    {
     "data": {
      "image/png": "[encoded data removed]",
      "text/plain": [
       "<Figure size 432x288 with 2 Axes>"
      ]
     },
     "metadata": {
      "needs_background": "light",
      "tags": []
     },
     "output_type": "display_data"
    }
   ],
   "source": [
    "# confusion matrix\n",
    "\n",
    "import itertools\n",
    "import numpy as np\n",
    "import matplotlib.pyplot as plt\n",
    "\n",
    "from sklearn import svm, datasets\n",
    "from sklearn.model_selection import train_test_split\n",
    "from sklearn.metrics import confusion_matrix\n",
    "\n",
    "def plot_confusion_matrix(cm, classes,\n",
    "                          normalize=False,\n",
    "                          title='Confusion matrix',\n",
    "                          cmap=plt.cm.Blues):\n",
    "    \"\"\"\n",
    "    This function prints and plots the confusion matrix.\n",
    "    Normalization can be applied by setting `normalize=True`.\n",
    "    \"\"\"\n",
    "    if normalize:\n",
    "        cm = cm.astype('float') / cm.sum(axis=1)[:, np.newaxis]\n",
    "        print(\"Normalized confusion matrix\")\n",
    "    else:\n",
    "        print('Confusion matrix, without normalization')\n",
    "\n",
    "    print(cm)\n",
    "\n",
    "    plt.imshow(cm, interpolation='nearest', cmap=cmap)\n",
    "    plt.title(title)\n",
    "    plt.colorbar()\n",
    "    tick_marks = np.arange(len(classes))\n",
    "    plt.xticks(tick_marks, classes, rotation=45)\n",
    "    plt.yticks(tick_marks, classes)\n",
    "\n",
    "    fmt = '.2f' if normalize else 'd'\n",
    "    thresh = cm.max() / 2.\n",
    "    for i, j in itertools.product(range(cm.shape[0]), range(cm.shape[1])):\n",
    "        plt.text(j, i, format(cm[i, j], fmt),\n",
    "                 horizontalalignment=\"center\",\n",
    "                 color=\"white\" if cm[i, j] > thresh else \"black\")\n",
    "\n",
    "    plt.ylabel('True label')\n",
    "    plt.xlabel('Predicted label')\n",
    "    plt.tight_layout()\n",
    "\n",
    "\n",
    "# Compute confusion matrix\n",
    "cnf_matrix = confusion_matrix(y_test, y_pred)\n",
    "np.set_printoptions(precision=2)\n",
    "\n",
    "# Plot non-normalized confusion matrix\n",
    "plt.figure()\n",
    "plot_confusion_matrix(cnf_matrix, classes=class_names,\n",
    "                      title='Confusion matrix, without normalization')\n",
    "#plt.savefig('figures/RF_cm_multi_class.png')\n",
    "\n",
    "# Plot normalized confusion matrix\n",
    "plt.figure()\n",
    "plot_confusion_matrix(cnf_matrix, classes=class_names, normalize=True,\n",
    "                      title='Normalized confusion matrix')\n",
    "#plt.savefig('figures/RF_cm_proportion_multi_class.png', bbox_inches=\"tight\")"
   ]
  },
  {
   "cell_type": "code",
   "execution_count": null,
   "metadata": {
    "colab": {
     "base_uri": "https://localhost:8080/"
    },
    "id": "NGqRbE_WqDow",
    "outputId": "1ab883c4-d789-487c-b62b-6906e7212e67"
   },
   "outputs": [
    {
     "name": "stdout",
     "output_type": "stream",
     "text": [
      "                 precision    recall  f1-score   support\n",
      "\n",
      "       COVID-19       0.93      1.00      0.96        13\n",
      "         Normal       1.00      0.92      0.96        13\n",
      "Viral Pneumonia       1.00      1.00      1.00        14\n",
      "\n",
      "       accuracy                           0.97        40\n",
      "      macro avg       0.98      0.97      0.97        40\n",
      "   weighted avg       0.98      0.97      0.97        40\n",
      "\n"
     ]
    }
   ],
   "source": [
    "\n",
    "\n",
    "\n",
    "from sklearn.metrics import classification_report\n",
    "\n",
    "print(classification_report(y_test, y_pred, target_names=class_names))"
   ]
  },
  {
   "cell_type": "code",
   "execution_count": null,
   "metadata": {
    "colab": {
     "base_uri": "https://localhost:8080/",
     "height": 295
    },
    "id": "FwfW5_jyTLt5",
    "outputId": "63a9c77c-bec7-46a4-f8e7-0cb1d553a330"
   },
   "outputs": [
    {
     "data": {
      "image/png": "[encoded data removed]",
      "text/plain": [
       "<Figure size 432x288 with 1 Axes>"
      ]
     },
     "metadata": {
      "needs_background": "light",
      "tags": []
     },
     "output_type": "display_data"
    }
   ],
   "source": [
    "# Visualize training and testing loss (validation set)\n",
    "\n",
    "def plot_loss(history):\n",
    "    '''Function to plot the loss vs. epoch'''\n",
    "    train_loss = history.history['loss'][:7]\n",
    "    test_loss = history.history['val_loss'][:7]\n",
    "    x = list(range(1, len(test_loss) + 1))\n",
    "    plt.plot(x, test_loss, color = 'red', label = 'Test loss')\n",
    "    plt.plot(x, train_loss, label = 'Training losss')\n",
    "    plt.legend()\n",
    "    plt.xlabel('Epoch')\n",
    "    plt.ylabel('Loss')\n",
    "    plt.title('Loss vs. Epoch')\n",
    "    \n",
    "plot_loss(history) "
   ]
  },
  {
   "cell_type": "code",
   "execution_count": null,
   "metadata": {
    "colab": {
     "base_uri": "https://localhost:8080/",
     "height": 295
    },
    "id": "YGcvcK8GTZDQ",
    "outputId": "432900b2-eff0-4a7f-d356-de69214c0192"
   },
   "outputs": [
    {
     "data": {
      "image/png": "[encoded data removed]",
      "text/plain": [
       "<Figure size 432x288 with 1 Axes>"
      ]
     },
     "metadata": {
      "needs_background": "light",
      "tags": []
     },
     "output_type": "display_data"
    }
   ],
   "source": [
    "# Visualize training and testing accuracy (validation set)\n",
    "\n",
    "# curves look much better. I feel more confident about predictions \n",
    "# on unseen data now.\n",
    "\n",
    "def plot_accuracy(history):\n",
    "    train_acc = history.history['accuracy'][:7]\n",
    "    test_acc = history.history['val_accuracy'][:7]\n",
    "    x = list(range(1, len(test_acc) + 1))\n",
    "    plt.plot(x, test_acc, color = 'red', label = 'Test accuracy')\n",
    "    plt.plot(x, train_acc, label = 'Training accuracy')\n",
    "    plt.legend()\n",
    "    plt.xlabel('Epoch')\n",
    "    plt.ylabel('Accuracy')\n",
    "    plt.title('Accuracy vs. Epoch')  \n",
    "    \n",
    "plot_accuracy(history) "
   ]
  }
 ],
 "metadata": {
  "accelerator": "GPU",
  "colab": {
   "collapsed_sections": [],
   "name": "Predicting Covid 19 Modeling 1 No Reg Grad.ipynb",
   "provenance": []
  },
  "kernelspec": {
   "display_name": "Python 3",
   "language": "python",
   "name": "python3"
  },
  "language_info": {
   "codemirror_mode": {
    "name": "ipython",
    "version": 3
   },
   "file_extension": ".py",
   "mimetype": "text/x-python",
   "name": "python",
   "nbconvert_exporter": "python",
   "pygments_lexer": "ipython3",
   "version": "3.7.3"
  }
 },
 "nbformat": 4,
 "nbformat_minor": 1
}
