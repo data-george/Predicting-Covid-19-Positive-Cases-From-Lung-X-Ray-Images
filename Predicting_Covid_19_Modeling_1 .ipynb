{
 "cells": [
  {
   "cell_type": "code",
   "execution_count": 1,
   "metadata": {
    "colab": {
     "base_uri": "https://localhost:8080/"
    },
    "id": "oGnly3XaY4pu",
    "outputId": "63ff5cb6-2da5-4f8f-f5de-6050a4d3ae8d"
   },
   "outputs": [
    {
     "name": "stdout",
     "output_type": "stream",
     "text": [
      "2.4.0\n"
     ]
    }
   ],
   "source": [
    "# We will first construct a VGG16 transfer learning model with \n",
    "# a VGG16 base and a custom head\n",
    "\n",
    "# Let's first import all necessary libraries\n",
    "\n",
    "import tensorflow as tf\n",
    "print(tf.__version__)"
   ]
  },
  {
   "cell_type": "code",
   "execution_count": 2,
   "metadata": {
    "id": "TbhCXDY1ZXLk"
   },
   "outputs": [],
   "source": [
    "import pandas as pd\n",
    "import numpy as np"
   ]
  },
  {
   "cell_type": "code",
   "execution_count": 3,
   "metadata": {
    "colab": {
     "base_uri": "https://localhost:8080/"
    },
    "id": "WDnp9bx5ZgW-",
    "outputId": "a4a25b27-6ead-4e50-f13d-7f2014927753"
   },
   "outputs": [
    {
     "name": "stdout",
     "output_type": "stream",
     "text": [
      "Mounted at /gdrive\n"
     ]
    }
   ],
   "source": [
    "# mount drive\n",
    "\n",
    "from google.colab import drive\n",
    "drive.mount('/gdrive')"
   ]
  },
  {
   "cell_type": "code",
   "execution_count": 4,
   "metadata": {
    "id": "ihR5BU-mZh7Y"
   },
   "outputs": [],
   "source": [
    "# previously constructed dataframes that split the data\n",
    "\n",
    "training_covid = pd.read_csv('/gdrive/My Drive/training_covid')\n",
    "validation_covid = pd.read_csv('/gdrive/My Drive/validation_covid')\n",
    "X_test_covid = pd.read_csv('/gdrive/My Drive/X_test_covid')\n",
    "y_test_covid = pd.read_csv('/gdrive/My Drive/y_test_covid')"
   ]
  },
  {
   "cell_type": "code",
   "execution_count": 5,
   "metadata": {
    "id": "kWTTAuU-CtP7"
   },
   "outputs": [],
   "source": [
    "testing_covid = pd.concat([X_test_covid, y_test_covid], axis=1)"
   ]
  },
  {
   "cell_type": "code",
   "execution_count": 6,
   "metadata": {
    "id": "N0Y2Qqua4Nau"
   },
   "outputs": [],
   "source": [
    "# Now we create generators without the original class imbalance and with\n",
    "# The normalized features, with 0 mean and a standard deviation of 1\n",
    "\n",
    "import os\n",
    "from keras.preprocessing.image import ImageDataGenerator\n",
    "\n",
    "# Recall that the images were moved to a folder names XRays. \n",
    "image_dir = '/gdrive/My Drive/XRays'"
   ]
  },
  {
   "cell_type": "code",
   "execution_count": 7,
   "metadata": {
    "id": "IasyNOY9xz66"
   },
   "outputs": [],
   "source": [
    "\n",
    "def get_train_generator(train_df, image_dir, x_col, y_col, shuffle=True, batch_size=8, target_w = 224, target_h = 224):\n",
    "  \"\"\"\n",
    "  Return generator for training set, normalizing using batch\n",
    "  statistics.\n",
    "\n",
    "  Args:\n",
    "    train_df (dataframe): dataframe specifying training data.\n",
    "    image_dir (str): directory where image files are held.\n",
    "    x_col (str): name of column in df that holds filenames.\n",
    "    y_cols (list): list of strings that hold y labels for images.\n",
    "    batch_size (int): images per batch to be fed into model during training.\n",
    "    seed (int): random seed.\n",
    "    target_w (int): final width of input images.\n",
    "    target_h (int): final height of input images.\n",
    "    \n",
    "    Returns:\n",
    "      train_generator (DataFrameIterator): iterator over training set\n",
    "    \"\"\" \n",
    "  # The folder contains a subfolder for each class of shape\n",
    "    \n",
    "  classes = sorted(os.listdir(image_dir))\n",
    "  print(classes)\n",
    "  train_datagen = ImageDataGenerator(samplewise_center=True, # Set each sample mean to 0 \n",
    "                             samplewise_std_normalization=True, # Divide each input by its standard deviation\n",
    "  )\n",
    "\n",
    "  print(\"Preparing training dataset...\\n\")\n",
    "\n",
    "  # Flow from directory with specified batch size and target image size\n",
    "  train_generator = train_datagen.flow_from_dataframe(\n",
    "        dataframe=train_df,\n",
    "        directory='/gdrive/My Drive/XRaysCombo',\n",
    "        x_col=x_col, # features\n",
    "        y_col=y_col, # labels\n",
    "        class_mode='categorical', # 3 classes\n",
    "        batch_size= batch_size, # images per batch\n",
    "        shuffle=shuffle, # shuffle the rows or not\n",
    "        target_size=(target_w, target_h) # width and height of output image this one matches RESNET50\n",
    "  )\n",
    "  return train_generator"
   ]
  },
  {
   "cell_type": "code",
   "execution_count": 8,
   "metadata": {
    "id": "DOMF9x4fyNmA"
   },
   "outputs": [],
   "source": [
    "def get_test_and_valid_generator(valid_df, test_df, train_df, image_dir, x_col, y_col, sample_batch_size=305, batch_size=8, target_w = 224, target_h = 224):\n",
    "  \"\"\"\n",
    "  Return generator for validation set and test test set using \n",
    "  normalization statistics from training set.\n",
    "\n",
    "  Args:\n",
    "    valid_df (dataframe): dataframe specifying validation data.\n",
    "    test_df (dataframe): dataframe specifying test data.\n",
    "    train_df (dataframe): dataframe specifying training data.\n",
    "    image_dir (str): directory where image files are held.\n",
    "    x_col (str): name of column in df that holds filenames.\n",
    "    y_cols (list): list of strings that hold y labels for images.\n",
    "    sample_size (int): size of sample to use for normalization statistics.\n",
    "    batch_size (int): images per batch to be fed into model during training.\n",
    "    seed (int): random seed.\n",
    "    target_w (int): final width of input images.\n",
    "    target_h (int): final height of input images.\n",
    "    \n",
    "  Returns:\n",
    "      test_generator (DataFrameIterator) and valid_generator: iterators over test set and validation set respectively\n",
    "    \"\"\"\n",
    "\n",
    "  # create validation set using normalization statistics from\n",
    "  # the training set only\n",
    "\n",
    "  print(\"\\nSampling normalization statistics from training only...\\n\")\n",
    "\n",
    "  \n",
    "  \n",
    "  # Flow from directory with specified batch size and target image size\n",
    "  sample_generator = ImageDataGenerator().flow_from_dataframe(\n",
    "        dataframe=train_df,\n",
    "        directory='/gdrive/My Drive/XRaysCombo',\n",
    "        x_col=x_col, # features\n",
    "        y_col=y_col, # labels\n",
    "        class_mode='categorical', # 3 classes\n",
    "        batch_size= batch_size, # images per batch\n",
    "        shuffle=True, # shuffle the rows or not\n",
    "        target_size=(target_w, target_h) # width and height of output image this one matches VGG16\n",
    "  \n",
    "  )\n",
    "  # get data sample\n",
    "  batch = sample_generator.next()\n",
    "  data_sample = batch[0]\n",
    "\n",
    "\n",
    "  # generator fitted with training set only\n",
    "\n",
    "  # use sample to fit mean and std for test set generator\n",
    "  test_datagen = ImageDataGenerator(\n",
    "        featurewise_center=True,\n",
    "        featurewise_std_normalization= True)\n",
    "  \n",
    "  test_datagen.fit(data_sample)\n",
    "\n",
    "\n",
    "  print(\"\\nPreparing validation dataset...\\n\")\n",
    "\n",
    "  # Flow from directory with specified batch size and target image size\n",
    "  validation_generator = test_datagen.flow_from_dataframe(\n",
    "        dataframe=valid_df,\n",
    "        directory='/gdrive/My Drive/XRaysCombo',\n",
    "        x_col=x_col, # features\n",
    "        y_col= y_col, # labels\n",
    "        class_mode='categorical', # 3 classes\n",
    "        batch_size= batch_size, # images per batch\n",
    "        shuffle=False, # shuffle the rows or not\n",
    "        target_size=(target_w, target_h) # width and height of output image this one matches VGG16\n",
    "  )\n",
    "\n",
    "  print(\"\\nPreparing testing dataset...\\n\")\n",
    "\n",
    "  # Flow from directory with specified batch size and target image size\n",
    "  test_generator = test_datagen.flow_from_dataframe(\n",
    "        dataframe=test_df,\n",
    "        directory='/gdrive/My Drive/XRaysCombo',\n",
    "        x_col=x_col, # features\n",
    "        y_col=y_col, # labels\n",
    "        class_mode='categorical', # 3 classes\n",
    "        batch_size= batch_size, # images per batch\n",
    "        shuffle=False, # shuffle the rows or not\n",
    "        target_size=(target_w, target_h) # width and height of output image this one matches VGG16\n",
    "  )\n",
    "  return validation_generator, test_generator\n"
   ]
  },
  {
   "cell_type": "code",
   "execution_count": 9,
   "metadata": {
    "colab": {
     "base_uri": "https://localhost:8080/"
    },
    "id": "gWnZ2uCjxQoa",
    "outputId": "7ae99a07-d98d-4810-b824-ec1774bac981"
   },
   "outputs": [
    {
     "name": "stdout",
     "output_type": "stream",
     "text": [
      "['COVID-19', 'Normal', 'Viral Pneumonia']\n",
      "Preparing training dataset...\n",
      "\n",
      "Found 305 validated image filenames belonging to 3 classes.\n",
      "\n",
      "Sampling normalization statistics from training only...\n",
      "\n",
      "Found 305 validated image filenames belonging to 3 classes.\n",
      "\n",
      "Preparing validation dataset...\n",
      "\n",
      "Found 54 validated image filenames belonging to 3 classes.\n",
      "\n",
      "Preparing testing dataset...\n",
      "\n",
      "Found 40 validated image filenames belonging to 3 classes.\n"
     ]
    }
   ],
   "source": [
    "train_df = training_covid \n",
    "valid_df = validation_covid\n",
    "test_df = testing_covid\n",
    "x_col = \"FILE NAME\"\n",
    "y_col = 'Class'\n",
    "\n",
    "train_generator = get_train_generator(train_df, image_dir, x_col, y_col)\n",
    "valid_generator, test_generator = get_test_and_valid_generator(valid_df, test_df, train_df, image_dir, x_col, y_col)"
   ]
  },
  {
   "cell_type": "code",
   "execution_count": 10,
   "metadata": {
    "id": "7PIIW0wferGv"
   },
   "outputs": [],
   "source": [
    "def create_model():\n",
    "  \"\"\"\n",
    "  This function returns a base VGG16 transfer learning model trained on\n",
    "  imagenet connected to a head adapted to a 3 class softmax probability\n",
    "  \"\"\"\n",
    "  # we will start by building a VGG16 model\n",
    "  # Build model freezing top layers and adding a dense layer \n",
    "  # with the number of classes\n",
    "  model = tf.keras.Sequential()\n",
    "  # load the VGG16 network, ensuring the head FC layer sets are left\n",
    "  # off\n",
    "  base = tf.keras.applications.VGG16(weights=\"imagenet\", include_top=False,\n",
    "\t  input_tensor=tf.keras.Input(shape=(224,224,3)))\n",
    "\n",
    "  # construct custom head of the model that will be placed on top of the\n",
    "  # the base model\n",
    "  head = base.output\n",
    "  head = tf.keras.layers.AveragePooling2D(pool_size=(4, 4))(head)\n",
    "  head = tf.keras.layers.Flatten()(head)\n",
    "  head = tf.keras.layers.Dense(64, activation=\"relu\")(head)\n",
    "  head = tf.keras.layers.Dropout(0.5)(head)\n",
    "  head = tf.keras.layers.Dense(3, activation=\"softmax\")(head)\n",
    "\n",
    "  # place the head FC model on top of the base model (this will become\n",
    "  # the actual model we will train)\n",
    "  model = tf.keras.Model(inputs=base.input, outputs=head)\n",
    "\n",
    "  # loop over all layers in the base model and freeze them \n",
    "  for layer in base.layers:\n",
    "\t  layer.trainable = False\n",
    "\n",
    "\n",
    "\n",
    "  # compile model\n",
    "  model.compile(optimizer=tf.keras.optimizers.Adam(), loss='categorical_crossentropy', metrics=['accuracy'])\n",
    "  return model\n",
    "\n"
   ]
  },
  {
   "cell_type": "code",
   "execution_count": 11,
   "metadata": {
    "id": "zTENTlsib8SC"
   },
   "outputs": [],
   "source": [
    "# call back to save best weights only (entire model)\n",
    "\n",
    "def get_checkpoint_best_only_conv():\n",
    "    \"\"\"\n",
    "    This function returns a ModelCheckpoint object that:\n",
    "    - saves only the weights that generate the highest validation (testing) accuracy\n",
    "    \"\"\"\n",
    "    checkpoint_path = '/gdrive/My Drive/covid_vgg16.pb'\n",
    "    model_checkpoint_callback = tf.keras.callbacks.ModelCheckpoint(\n",
    "        filepath=checkpoint_path,\n",
    "        save_weights_only=False,\n",
    "        monitor='val_accuracy',\n",
    "        mode='max',\n",
    "        save_best_only=True\n",
    "        )\n",
    "  \n",
    "    return model_checkpoint_callback"
   ]
  },
  {
   "cell_type": "code",
   "execution_count": 12,
   "metadata": {
    "id": "_Dd3cGk_lwsB"
   },
   "outputs": [],
   "source": [
    "# callback to stop training if no further improvement\n",
    "def get_early_stopping():\n",
    "    \"\"\"\n",
    "    This function should return an EarlyStopping callback that stops training when\n",
    "    the validation (testing) accuracy has not improved in the last 3 epochs.\n",
    "    \n",
    "    \"\"\"\n",
    "    return tf.keras.callbacks.EarlyStopping(monitor='val_accuracy', mode=\"max\", patience=3)"
   ]
  },
  {
   "cell_type": "code",
   "execution_count": 13,
   "metadata": {
    "id": "w1vfcO47cRAc"
   },
   "outputs": [],
   "source": [
    "# call back to reduce the learning rate if the model plateaus using recommended parameters\n",
    "# for the Adam optimizer (reduce_on_plateau)\n",
    "\n",
    "# call back to reduce the learning rate (lr_schedule) by the function given every epoch\n",
    "# we can plot the schedule against the loss to set the learning rate\n",
    "\n",
    "checkpoint_best_only = get_checkpoint_best_only_conv()\n",
    "reduce_on_plateau = tf.keras.callbacks.ReduceLROnPlateau(\n",
    "                              monitor='val_loss', \n",
    "                              factor=0.1, patience=2,\n",
    "                              verbose=1, mode='auto', min_delta=0.0001,\n",
    "                              cooldown=0, min_lr=0)\n",
    "lr_schedule = tf.keras.callbacks.LearningRateScheduler(\n",
    "    lambda epoch: 1e-3 * 10**(epoch / 30))\n",
    "\n",
    "# at first, set the lr only\n",
    "\n",
    "callbacks = [lr_schedule]"
   ]
  },
  {
   "cell_type": "code",
   "execution_count": 14,
   "metadata": {
    "colab": {
     "base_uri": "https://localhost:8080/"
    },
    "id": "HebVTGPMhl5h",
    "outputId": "25eb9130-d80f-4a28-ebe7-d0879f382c58"
   },
   "outputs": [
    {
     "name": "stdout",
     "output_type": "stream",
     "text": [
      "Downloading data from https://storage.googleapis.com/tensorflow/keras-applications/vgg16/vgg16_weights_tf_dim_ordering_tf_kernels_notop.h5\n",
      "58892288/58889256 [==============================] - 1s 0us/step\n",
      "Epoch 1/10\n",
      "38/38 [==============================] - 213s 5s/step - loss: 1.1831 - accuracy: 0.3590 - val_loss: 0.8458 - val_accuracy: 0.7292\n",
      "Epoch 2/10\n",
      "38/38 [==============================] - 7s 190ms/step - loss: 0.7721 - accuracy: 0.6858 - val_loss: 0.6664 - val_accuracy: 0.8125\n",
      "Epoch 3/10\n",
      "38/38 [==============================] - 7s 191ms/step - loss: 0.6426 - accuracy: 0.7501 - val_loss: 0.5051 - val_accuracy: 0.8958\n",
      "Epoch 4/10\n",
      "38/38 [==============================] - 7s 191ms/step - loss: 0.5060 - accuracy: 0.8169 - val_loss: 0.4153 - val_accuracy: 0.9167\n",
      "Epoch 5/10\n",
      "38/38 [==============================] - 7s 192ms/step - loss: 0.4523 - accuracy: 0.8767 - val_loss: 0.4083 - val_accuracy: 0.8542\n",
      "Epoch 6/10\n",
      "38/38 [==============================] - 7s 193ms/step - loss: 0.3414 - accuracy: 0.9239 - val_loss: 0.3571 - val_accuracy: 0.8958\n",
      "Epoch 7/10\n",
      "38/38 [==============================] - 7s 194ms/step - loss: 0.4167 - accuracy: 0.8546 - val_loss: 0.3744 - val_accuracy: 0.8750\n",
      "Epoch 8/10\n",
      "38/38 [==============================] - 7s 193ms/step - loss: 0.3382 - accuracy: 0.8879 - val_loss: 0.3271 - val_accuracy: 0.8958\n",
      "Epoch 9/10\n",
      "38/38 [==============================] - 7s 194ms/step - loss: 0.2906 - accuracy: 0.8854 - val_loss: 0.3040 - val_accuracy: 0.9167\n",
      "Epoch 10/10\n",
      "38/38 [==============================] - 7s 193ms/step - loss: 0.2069 - accuracy: 0.9526 - val_loss: 0.2586 - val_accuracy: 0.9167\n"
     ]
    }
   ],
   "source": [
    "tf.keras.backend.clear_session()\n",
    "tf.random.set_seed(51)\n",
    "np.random.seed(51)\n",
    "\n",
    "# create the model\n",
    "model = create_model()\n",
    "\n",
    "# Fit the model to the training data\n",
    "history = model.fit(train_generator, \n",
    "                              validation_data=valid_generator,\n",
    "                              steps_per_epoch=305//8, \n",
    "                              validation_steps=54//8, \n",
    "                              epochs = 10,\n",
    "                              callbacks=callbacks)"
   ]
  },
  {
   "cell_type": "code",
   "execution_count": 18,
   "metadata": {
    "colab": {
     "base_uri": "https://localhost:8080/",
     "height": 290
    },
    "id": "4-rVuCMDjFOh",
    "outputId": "421f2aff-9537-4e8a-def2-4f2c2b094cbb"
   },
   "outputs": [
    {
     "data": {
      "text/plain": [
       "(0.001, 0.003, 0.0, 2.0)"
      ]
     },
     "execution_count": 18,
     "metadata": {
      "tags": []
     },
     "output_type": "execute_result"
    },
    {
     "data": {
      "image/png": "[encoded data removed]",
      "text/plain": [
       "<Figure size 432x288 with 1 Axes>"
      ]
     },
     "metadata": {
      "needs_background": "light",
      "tags": []
     },
     "output_type": "display_data"
    }
   ],
   "source": [
    "# Check for best rate\n",
    "import matplotlib.pyplot as plt\n",
    "plt.semilogx(history.history[\"lr\"], history.history[\"loss\"])\n",
    "plt.axis([1e-3, 3*1e-3, 0, 2])"
   ]
  },
  {
   "cell_type": "code",
   "execution_count": 22,
   "metadata": {
    "id": "Cg_PfGaet3zH"
   },
   "outputs": [],
   "source": [
    "# keep the learning rate at 1e-3 and decrease rate on plateau slightly\n",
    "# save best model, stop training if no further improvement (early stopping callback)\n",
    "\n",
    "checkpoint_best_only = get_checkpoint_best_only_conv()\n",
    "early_stopping = get_early_stopping()\n",
    "reduce_on_plateau = tf.keras.callbacks.ReduceLROnPlateau(\n",
    "                              monitor='val_loss', \n",
    "                              factor=1/30., patience=2,\n",
    "                              verbose=1, mode='auto', min_delta=0.0001,\n",
    "                              cooldown=0, min_lr=0)\n",
    "lr_schedule = tf.keras.callbacks.LearningRateScheduler(\n",
    "    lambda epoch: 1e-3 * 10**(epoch / 30))\n",
    "\n",
    "# now that the range for the best lr is known\n",
    "# use all callbacks\n",
    "\n",
    "callbacks = [checkpoint_best_only, early_stopping, reduce_on_plateau]"
   ]
  },
  {
   "cell_type": "code",
   "execution_count": 23,
   "metadata": {
    "colab": {
     "base_uri": "https://localhost:8080/"
    },
    "id": "of0x9IEjubME",
    "outputId": "ea34734a-0169-4719-ece6-5801cd96649e"
   },
   "outputs": [
    {
     "name": "stdout",
     "output_type": "stream",
     "text": [
      "Epoch 1/30\n",
      "38/38 [==============================] - 9s 212ms/step - loss: 1.1158 - accuracy: 0.4156 - val_loss: 0.8537 - val_accuracy: 0.7708\n",
      "INFO:tensorflow:Assets written to: /gdrive/My Drive/covid_vgg16.pb/assets\n",
      "Epoch 2/30\n",
      "38/38 [==============================] - 8s 202ms/step - loss: 0.8489 - accuracy: 0.6254 - val_loss: 0.7200 - val_accuracy: 0.7500\n",
      "Epoch 3/30\n",
      "38/38 [==============================] - 8s 200ms/step - loss: 0.6641 - accuracy: 0.7366 - val_loss: 0.5538 - val_accuracy: 0.8542\n",
      "INFO:tensorflow:Assets written to: /gdrive/My Drive/covid_vgg16.pb/assets\n",
      "Epoch 4/30\n",
      "38/38 [==============================] - 7s 198ms/step - loss: 0.5611 - accuracy: 0.8023 - val_loss: 0.4867 - val_accuracy: 0.9375\n",
      "INFO:tensorflow:Assets written to: /gdrive/My Drive/covid_vgg16.pb/assets\n",
      "Epoch 5/30\n",
      "38/38 [==============================] - 8s 205ms/step - loss: 0.5213 - accuracy: 0.8450 - val_loss: 0.4225 - val_accuracy: 0.9167\n",
      "Epoch 6/30\n",
      "38/38 [==============================] - 8s 204ms/step - loss: 0.4389 - accuracy: 0.8496 - val_loss: 0.3727 - val_accuracy: 0.9583\n",
      "INFO:tensorflow:Assets written to: /gdrive/My Drive/covid_vgg16.pb/assets\n",
      "Epoch 7/30\n",
      "38/38 [==============================] - 8s 199ms/step - loss: 0.3895 - accuracy: 0.8834 - val_loss: 0.3810 - val_accuracy: 0.8750\n",
      "Epoch 8/30\n",
      "38/38 [==============================] - 8s 203ms/step - loss: 0.3449 - accuracy: 0.9079 - val_loss: 0.3297 - val_accuracy: 0.9375\n",
      "Epoch 9/30\n",
      "38/38 [==============================] - 7s 197ms/step - loss: 0.3202 - accuracy: 0.9051 - val_loss: 0.3042 - val_accuracy: 0.8958\n"
     ]
    }
   ],
   "source": [
    "tf.keras.backend.clear_session()\n",
    "tf.random.set_seed(51)\n",
    "np.random.seed(51)\n",
    "\n",
    "# create the model\n",
    "model = create_model()\n",
    "\n",
    "# Fit the model to the training data\n",
    "history = model.fit(train_generator, \n",
    "                              validation_data=valid_generator,\n",
    "                              steps_per_epoch=305//8, \n",
    "                              validation_steps=54//8, \n",
    "                              epochs = 30,\n",
    "                              callbacks=callbacks)"
   ]
  },
  {
   "cell_type": "code",
   "execution_count": 24,
   "metadata": {
    "id": "vERXPT7PI9fa"
   },
   "outputs": [],
   "source": [
    "# note how the model was last saved at at epoch #6 with a validation accuracy of 0.9583\n",
    "# delete current model variable\n",
    "del model"
   ]
  },
  {
   "cell_type": "code",
   "execution_count": 25,
   "metadata": {
    "id": "ZBs4i3USLcgc"
   },
   "outputs": [],
   "source": [
    "from tensorflow.keras.models import load_model"
   ]
  },
  {
   "cell_type": "code",
   "execution_count": 26,
   "metadata": {
    "id": "s9UMiKLAI_Cx"
   },
   "outputs": [],
   "source": [
    "# Reload model from scratch this way we test our saved model\n",
    "\n",
    "model = load_model('/gdrive/MyDrive/covid_vgg16.pb')\n",
    "\n"
   ]
  },
  {
   "cell_type": "code",
   "execution_count": 27,
   "metadata": {
    "id": "ROxZ03MiQdGa"
   },
   "outputs": [],
   "source": [
    "# predictions with unseen test data\n",
    "prediction = model.predict(test_generator, steps = len(test_generator))"
   ]
  },
  {
   "cell_type": "code",
   "execution_count": 28,
   "metadata": {
    "colab": {
     "base_uri": "https://localhost:8080/"
    },
    "id": "aKYZkL7kidrv",
    "outputId": "89225b1c-6665-418c-d01f-3e520f1ae7e1"
   },
   "outputs": [
    {
     "data": {
      "text/plain": [
       "array([2, 1, 2, 2, 1, 2, 2, 2, 0, 0, 2, 1, 1, 1, 1, 2, 1, 0, 0, 1, 0, 0,\n",
       "       0, 1, 1, 2, 2, 0, 1, 2, 2, 2, 1, 0, 0, 0, 0, 0, 0, 2])"
      ]
     },
     "execution_count": 28,
     "metadata": {
      "tags": []
     },
     "output_type": "execute_result"
    }
   ],
   "source": [
    "y_pred = np.argmax(prediction, axis = 1)\n",
    "y_pred"
   ]
  },
  {
   "cell_type": "code",
   "execution_count": 29,
   "metadata": {
    "id": "LwX1yhwxksoX"
   },
   "outputs": [],
   "source": [
    "# make a list of the class names\n",
    "class_names = ['COVID-19', 'Normal', 'Viral Pneumonia']"
   ]
  },
  {
   "cell_type": "code",
   "execution_count": 30,
   "metadata": {
    "colab": {
     "base_uri": "https://localhost:8080/"
    },
    "id": "EWI6AhdXiiW8",
    "outputId": "988cc021-2269-4751-82f3-2ba75af36dc6"
   },
   "outputs": [
    {
     "data": {
      "text/plain": [
       "2    14\n",
       "1    13\n",
       "0    13\n",
       "Name: y_true, dtype: int64"
      ]
     },
     "execution_count": 30,
     "metadata": {
      "tags": []
     },
     "output_type": "execute_result"
    }
   ],
   "source": [
    "# convert test entries to integers for comparison with predictions\n",
    "classcategories = {'COVID-19': 0,'Normal':1,'Viral Pneumonia':2}\n",
    "y_test_covid['y_true'] = [classcategories[x] for x in y_test_covid['Class']]\n",
    "y_test_covid['y_true'].value_counts()"
   ]
  },
  {
   "cell_type": "code",
   "execution_count": 31,
   "metadata": {
    "colab": {
     "base_uri": "https://localhost:8080/"
    },
    "id": "5D8TxayOm_G1",
    "outputId": "cae84ede-c848-41ca-bff4-b5739711f1af"
   },
   "outputs": [
    {
     "data": {
      "text/plain": [
       "array([2, 1, 2, 2, 1, 2, 2, 2, 0, 0, 2, 1, 1, 1, 1, 2, 1, 0, 0, 1, 0, 0,\n",
       "       0, 1, 1, 2, 2, 0, 1, 2, 2, 2, 1, 0, 1, 0, 0, 0, 0, 2])"
      ]
     },
     "execution_count": 31,
     "metadata": {
      "tags": []
     },
     "output_type": "execute_result"
    }
   ],
   "source": [
    "# true values\n",
    "y_test = y_test_covid['y_true'].values\n",
    "y_test"
   ]
  },
  {
   "cell_type": "code",
   "execution_count": 32,
   "metadata": {
    "colab": {
     "base_uri": "https://localhost:8080/",
     "height": 711
    },
    "id": "i0Yqw3_XjC7U",
    "outputId": "1dff72a8-8b8e-4e49-f396-0976319108f5"
   },
   "outputs": [
    {
     "name": "stdout",
     "output_type": "stream",
     "text": [
      "Confusion matrix, without normalization\n",
      "[[13  0  0]\n",
      " [ 1 12  0]\n",
      " [ 0  0 14]]\n",
      "Normalized confusion matrix\n",
      "[[1.   0.   0.  ]\n",
      " [0.08 0.92 0.  ]\n",
      " [0.   0.   1.  ]]\n"
     ]
    },
    {
     "data": {
      "image/png": "[encoded data removed]",
      "text/plain": [
       "<Figure size 432x288 with 2 Axes>"
      ]
     },
     "metadata": {
      "needs_background": "light",
      "tags": []
     },
     "output_type": "display_data"
    },
    {
     "data": {
      "image/png": "[encoded data removed]",
      "text/plain": [
       "<Figure size 432x288 with 2 Axes>"
      ]
     },
     "metadata": {
      "needs_background": "light",
      "tags": []
     },
     "output_type": "display_data"
    }
   ],
   "source": [
    "# confusion matrix\n",
    "\n",
    "import itertools\n",
    "import numpy as np\n",
    "import matplotlib.pyplot as plt\n",
    "\n",
    "from sklearn import svm, datasets\n",
    "from sklearn.model_selection import train_test_split\n",
    "from sklearn.metrics import confusion_matrix\n",
    "\n",
    "def plot_confusion_matrix(cm, classes,\n",
    "                          normalize=False,\n",
    "                          title='Confusion matrix',\n",
    "                          cmap=plt.cm.Blues):\n",
    "    \"\"\"\n",
    "    This function prints and plots the confusion matrix.\n",
    "    Normalization can be applied by setting `normalize=True`.\n",
    "    \"\"\"\n",
    "    if normalize:\n",
    "        cm = cm.astype('float') / cm.sum(axis=1)[:, np.newaxis]\n",
    "        print(\"Normalized confusion matrix\")\n",
    "    else:\n",
    "        print('Confusion matrix, without normalization')\n",
    "\n",
    "    print(cm)\n",
    "\n",
    "    plt.imshow(cm, interpolation='nearest', cmap=cmap)\n",
    "    plt.title(title)\n",
    "    plt.colorbar()\n",
    "    tick_marks = np.arange(len(classes))\n",
    "    plt.xticks(tick_marks, classes, rotation=45)\n",
    "    plt.yticks(tick_marks, classes)\n",
    "\n",
    "    fmt = '.2f' if normalize else 'd'\n",
    "    thresh = cm.max() / 2.\n",
    "    for i, j in itertools.product(range(cm.shape[0]), range(cm.shape[1])):\n",
    "        plt.text(j, i, format(cm[i, j], fmt),\n",
    "                 horizontalalignment=\"center\",\n",
    "                 color=\"white\" if cm[i, j] > thresh else \"black\")\n",
    "\n",
    "    plt.ylabel('True label')\n",
    "    plt.xlabel('Predicted label')\n",
    "    plt.tight_layout()\n",
    "\n",
    "\n",
    "# Compute confusion matrix\n",
    "cnf_matrix = confusion_matrix(y_test, y_pred)\n",
    "np.set_printoptions(precision=2)\n",
    "\n",
    "# Plot non-normalized confusion matrix\n",
    "plt.figure()\n",
    "plot_confusion_matrix(cnf_matrix, classes=class_names,\n",
    "                      title='Confusion matrix, without normalization')\n",
    "#plt.savefig('figures/RF_cm_multi_class.png')\n",
    "\n",
    "# Plot normalized confusion matrix\n",
    "plt.figure()\n",
    "plot_confusion_matrix(cnf_matrix, classes=class_names, normalize=True,\n",
    "                      title='Normalized confusion matrix')\n",
    "#plt.savefig('figures/RF_cm_proportion_multi_class.png', bbox_inches=\"tight\")"
   ]
  },
  {
   "cell_type": "code",
   "execution_count": 33,
   "metadata": {
    "colab": {
     "base_uri": "https://localhost:8080/"
    },
    "id": "NGqRbE_WqDow",
    "outputId": "64fc3094-b8a3-49b6-b4e9-5f72a1542b80"
   },
   "outputs": [
    {
     "name": "stdout",
     "output_type": "stream",
     "text": [
      "                 precision    recall  f1-score   support\n",
      "\n",
      "       COVID-19       0.93      1.00      0.96        13\n",
      "         Normal       1.00      0.92      0.96        13\n",
      "Viral Pneumonia       1.00      1.00      1.00        14\n",
      "\n",
      "       accuracy                           0.97        40\n",
      "      macro avg       0.98      0.97      0.97        40\n",
      "   weighted avg       0.98      0.97      0.97        40\n",
      "\n"
     ]
    }
   ],
   "source": [
    "\n",
    "# We would like the Covid cases to have a higher recall if possible\n",
    "# on the classification report (actually on diseases to maximize patients that are\n",
    "# actually positive getting the correct treatment) this looks like it is going\n",
    "# in the right direction as we don't have too many samples \n",
    "# and the score is likely to improve as we get more data\n",
    "# either way it looks like the vgg16 model is doing a good job with\n",
    "# classification with this small amount of data\n",
    "# to verify, of course with the right computation resources\n",
    "# optimized for neural networks\n",
    "# a cross validation study can be set up when modeling\n",
    "# to verify the robustness of the metrics with averages\n",
    "\n",
    "from sklearn.metrics import classification_report\n",
    "\n",
    "print(classification_report(y_test, y_pred, target_names=class_names))"
   ]
  },
  {
   "cell_type": "code",
   "execution_count": 38,
   "metadata": {
    "colab": {
     "base_uri": "https://localhost:8080/",
     "height": 295
    },
    "id": "FwfW5_jyTLt5",
    "outputId": "efff6dfb-522b-4f3e-acfa-f088f16d8f21"
   },
   "outputs": [
    {
     "data": {
      "image/png": "[encoded data removed]",
      "text/plain": [
       "<Figure size 432x288 with 1 Axes>"
      ]
     },
     "metadata": {
      "needs_background": "light",
      "tags": []
     },
     "output_type": "display_data"
    }
   ],
   "source": [
    "# Visualize training and testing loss (validation set)\n",
    "\n",
    "def plot_loss(history):\n",
    "    '''Function to plot the loss vs. epoch'''\n",
    "    train_loss = history.history['loss'][:6]\n",
    "    test_loss = history.history['val_loss'][:6]\n",
    "    x = list(range(1, len(test_loss) + 1))\n",
    "    plt.plot(x, test_loss, color = 'red', label = 'Test loss')\n",
    "    plt.plot(x, train_loss, label = 'Training losss')\n",
    "    plt.legend()\n",
    "    plt.xlabel('Epoch')\n",
    "    plt.ylabel('Loss')\n",
    "    plt.title('Loss vs. Epoch')\n",
    "    \n",
    "plot_loss(history) "
   ]
  },
  {
   "cell_type": "code",
   "execution_count": 37,
   "metadata": {
    "colab": {
     "base_uri": "https://localhost:8080/",
     "height": 295
    },
    "id": "YGcvcK8GTZDQ",
    "outputId": "e25e81b7-5e5b-46fe-d5d3-64a88e5ce983"
   },
   "outputs": [
    {
     "data": {
      "image/png": "[encoded data removed]",
      "text/plain": [
       "<Figure size 432x288 with 1 Axes>"
      ]
     },
     "metadata": {
      "needs_background": "light",
      "tags": []
     },
     "output_type": "display_data"
    }
   ],
   "source": [
    "# Visualize training and testing accuracy (validation set)\n",
    "\n",
    "# note that the training curves are worse than the testing curves in these plots, this denotes\n",
    "# a form of underfitting, specifically in this case the model could be learning\n",
    "# the validation data too easily compared to training but regularization could be\n",
    "# affecting this due to the small size of the validation set, meaning the \n",
    "# regularization affects it negatively, the curves should be close together.\n",
    "# we will revisit this.\n",
    "\n",
    "def plot_accuracy(history):\n",
    "    train_acc = history.history['accuracy'][:6]\n",
    "    test_acc = history.history['val_accuracy'][:6]\n",
    "    x = list(range(1, len(test_acc) + 1))\n",
    "    plt.plot(x, test_acc, color = 'red', label = 'Test accuracy')\n",
    "    plt.plot(x, train_acc, label = 'Training accuracy')\n",
    "    plt.legend()\n",
    "    plt.xlabel('Epoch')\n",
    "    plt.ylabel('Accuracy')\n",
    "    plt.title('Accuracy vs. Epoch')  \n",
    "    \n",
    "plot_accuracy(history) "
   ]
  }
 ],
 "metadata": {
  "accelerator": "GPU",
  "colab": {
   "collapsed_sections": [],
   "name": "Predicting Covid 19 Modeling 1.ipynb",
   "provenance": []
  },
  "kernelspec": {
   "display_name": "Python 3",
   "language": "python",
   "name": "python3"
  },
  "language_info": {
   "codemirror_mode": {
    "name": "ipython",
    "version": 3
   },
   "file_extension": ".py",
   "mimetype": "text/x-python",
   "name": "python",
   "nbconvert_exporter": "python",
   "pygments_lexer": "ipython3",
   "version": "3.7.3"
  }
 },
 "nbformat": 4,
 "nbformat_minor": 1
}
