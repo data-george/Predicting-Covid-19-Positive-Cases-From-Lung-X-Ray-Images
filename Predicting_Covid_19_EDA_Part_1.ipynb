{
  "nbformat": 4,
  "nbformat_minor": 0,
  "metadata": {
    "colab": {
      "name": "Predicting Covid 19 EDA Part 1.ipynb",
      "provenance": [],
      "collapsed_sections": []
    },
    "kernelspec": {
      "name": "python3",
      "display_name": "Python 3"
    }
  },
  "cells": [
    {
      "cell_type": "code",
      "metadata": {
        "id": "SH6Ns6hiP_UI",
        "outputId": "3cb6b0ad-38de-406b-ba4b-47bcade32a0a",
        "colab": {
          "base_uri": "https://localhost:8080/"
        }
      },
      "source": [
        "# Let's import the libraries we need, first we'll check the class counts, data types, null values,\n",
        "# basically make sure we can work with this data\n",
        "\n",
        "import tensorflow\n",
        "print(tensorflow.__version__)"
      ],
      "execution_count": 1,
      "outputs": [
        {
          "output_type": "stream",
          "text": [
            "2.3.0\n"
          ],
          "name": "stdout"
        }
      ]
    },
    {
      "cell_type": "code",
      "metadata": {
        "id": "VDLtOstzQXty",
        "outputId": "bbed419e-ec9f-484f-d575-8087fba6ed15",
        "colab": {
          "base_uri": "https://localhost:8080/"
        }
      },
      "source": [
        "import keras\n",
        "from keras import backend as K\n",
        "\n",
        "print('Keras version:',keras.__version__)"
      ],
      "execution_count": 2,
      "outputs": [
        {
          "output_type": "stream",
          "text": [
            "Keras version: 2.4.3\n"
          ],
          "name": "stdout"
        }
      ]
    },
    {
      "cell_type": "code",
      "metadata": {
        "id": "2DqhtGsxQjS0"
      },
      "source": [
        "import pandas as pd\n",
        "import numpy as np"
      ],
      "execution_count": 3,
      "outputs": []
    },
    {
      "cell_type": "code",
      "metadata": {
        "id": "MO_0yVENQr9B",
        "outputId": "5bf1ea0e-7bd3-4741-8103-e0044acc86b0",
        "colab": {
          "base_uri": "https://localhost:8080/"
        }
      },
      "source": [
        "from google.colab import drive\n",
        "drive.mount('/gdrive')"
      ],
      "execution_count": 4,
      "outputs": [
        {
          "output_type": "stream",
          "text": [
            "Mounted at /gdrive\n"
          ],
          "name": "stdout"
        }
      ]
    },
    {
      "cell_type": "code",
      "metadata": {
        "id": "7qDz_qQnQ4UB",
        "outputId": "9355e8a1-ebd9-4a13-dd13-191e03c372e2",
        "colab": {
          "base_uri": "https://localhost:8080/",
          "height": 195
        }
      },
      "source": [
        "# Let's look at the researchers metadata starting with COVID-19\n",
        "covid = pd.read_excel('/gdrive/My Drive/Covid Metadata/COVID-19.metadata.xlsx')\n",
        "covid.head()"
      ],
      "execution_count": 5,
      "outputs": [
        {
          "output_type": "execute_result",
          "data": {
            "text/html": [
              "<div>\n",
              "<style scoped>\n",
              "    .dataframe tbody tr th:only-of-type {\n",
              "        vertical-align: middle;\n",
              "    }\n",
              "\n",
              "    .dataframe tbody tr th {\n",
              "        vertical-align: top;\n",
              "    }\n",
              "\n",
              "    .dataframe thead th {\n",
              "        text-align: right;\n",
              "    }\n",
              "</style>\n",
              "<table border=\"1\" class=\"dataframe\">\n",
              "  <thead>\n",
              "    <tr style=\"text-align: right;\">\n",
              "      <th></th>\n",
              "      <th>FILE NAME</th>\n",
              "      <th>FORMAT</th>\n",
              "      <th>SIZE</th>\n",
              "      <th>URL</th>\n",
              "    </tr>\n",
              "  </thead>\n",
              "  <tbody>\n",
              "    <tr>\n",
              "      <th>0</th>\n",
              "      <td>COVID-19(1)</td>\n",
              "      <td>PNG</td>\n",
              "      <td>1024*1024</td>\n",
              "      <td>https://www.sciencedirect.com/science/article/...</td>\n",
              "    </tr>\n",
              "    <tr>\n",
              "      <th>1</th>\n",
              "      <td>COVID-19(2)</td>\n",
              "      <td>PNG</td>\n",
              "      <td>1024*1024</td>\n",
              "      <td>https://www.sciencedirect.com/science/article/...</td>\n",
              "    </tr>\n",
              "    <tr>\n",
              "      <th>2</th>\n",
              "      <td>COVID-19(3)</td>\n",
              "      <td>PNG</td>\n",
              "      <td>1024*1024</td>\n",
              "      <td>https://www.sciencedirect.com/science/article/...</td>\n",
              "    </tr>\n",
              "    <tr>\n",
              "      <th>3</th>\n",
              "      <td>COVID-19(4)</td>\n",
              "      <td>PNG</td>\n",
              "      <td>1024*1024</td>\n",
              "      <td>https://www.sciencedirect.com/science/article/...</td>\n",
              "    </tr>\n",
              "    <tr>\n",
              "      <th>4</th>\n",
              "      <td>COVID-19(5)</td>\n",
              "      <td>PNG</td>\n",
              "      <td>1024*1024</td>\n",
              "      <td>https://www.sciencedirect.com/science/article/...</td>\n",
              "    </tr>\n",
              "  </tbody>\n",
              "</table>\n",
              "</div>"
            ],
            "text/plain": [
              "     FILE NAME  ...                                                URL\n",
              "0  COVID-19(1)  ...  https://www.sciencedirect.com/science/article/...\n",
              "1  COVID-19(2)  ...  https://www.sciencedirect.com/science/article/...\n",
              "2  COVID-19(3)  ...  https://www.sciencedirect.com/science/article/...\n",
              "3  COVID-19(4)  ...  https://www.sciencedirect.com/science/article/...\n",
              "4  COVID-19(5)  ...  https://www.sciencedirect.com/science/article/...\n",
              "\n",
              "[5 rows x 4 columns]"
            ]
          },
          "metadata": {
            "tags": []
          },
          "execution_count": 5
        }
      ]
    },
    {
      "cell_type": "code",
      "metadata": {
        "id": "em5vZxgSR3TJ",
        "outputId": "28b7e7a7-b168-4348-e2ca-6be02f402ba1",
        "colab": {
          "base_uri": "https://localhost:8080/"
        }
      },
      "source": [
        "covid.info() # note we have 219 entries, which match the images we examined, let's check the data types"
      ],
      "execution_count": 6,
      "outputs": [
        {
          "output_type": "stream",
          "text": [
            "<class 'pandas.core.frame.DataFrame'>\n",
            "RangeIndex: 219 entries, 0 to 218\n",
            "Data columns (total 4 columns):\n",
            " #   Column     Non-Null Count  Dtype \n",
            "---  ------     --------------  ----- \n",
            " 0   FILE NAME  219 non-null    object\n",
            " 1   FORMAT     219 non-null    object\n",
            " 2   SIZE       219 non-null    object\n",
            " 3   URL        219 non-null    object\n",
            "dtypes: object(4)\n",
            "memory usage: 7.0+ KB\n"
          ],
          "name": "stdout"
        }
      ]
    },
    {
      "cell_type": "code",
      "metadata": {
        "id": "ioARii0uPenu"
      },
      "source": [
        "covid['FILE NAME'] = covid['FILE NAME'].str.replace(\"(\",\" (\") # the images in the folders\n",
        "                                                              # have a space before the parenthesis"
      ],
      "execution_count": 7,
      "outputs": []
    },
    {
      "cell_type": "code",
      "metadata": {
        "id": "SjxY0vzHQHk3",
        "outputId": "8162f4e9-1e5c-4e0d-cf30-dcdf8346f412",
        "colab": {
          "base_uri": "https://localhost:8080/"
        }
      },
      "source": [
        "covid['FILE NAME']"
      ],
      "execution_count": 8,
      "outputs": [
        {
          "output_type": "execute_result",
          "data": {
            "text/plain": [
              "0        COVID-19 (1)\n",
              "1        COVID-19 (2)\n",
              "2        COVID-19 (3)\n",
              "3        COVID-19 (4)\n",
              "4        COVID-19 (5)\n",
              "            ...      \n",
              "214    COVID-19 (215)\n",
              "215    COVID-19 (216)\n",
              "216    COVID-19 (217)\n",
              "217    COVID-19 (218)\n",
              "218    COVID-19 (219)\n",
              "Name: FILE NAME, Length: 219, dtype: object"
            ]
          },
          "metadata": {
            "tags": []
          },
          "execution_count": 8
        }
      ]
    },
    {
      "cell_type": "code",
      "metadata": {
        "id": "DFOJuqlsR5BI",
        "outputId": "d5de3900-07c7-4513-c926-2ae08c0527dd",
        "colab": {
          "base_uri": "https://localhost:8080/",
          "height": 195
        }
      },
      "source": [
        "# metadata for class #2\n",
        "normal = pd.read_excel('/gdrive/My Drive/Covid Metadata/Normal.metadata.xlsx')\n",
        "normal.head()"
      ],
      "execution_count": 9,
      "outputs": [
        {
          "output_type": "execute_result",
          "data": {
            "text/html": [
              "<div>\n",
              "<style scoped>\n",
              "    .dataframe tbody tr th:only-of-type {\n",
              "        vertical-align: middle;\n",
              "    }\n",
              "\n",
              "    .dataframe tbody tr th {\n",
              "        vertical-align: top;\n",
              "    }\n",
              "\n",
              "    .dataframe thead th {\n",
              "        text-align: right;\n",
              "    }\n",
              "</style>\n",
              "<table border=\"1\" class=\"dataframe\">\n",
              "  <thead>\n",
              "    <tr style=\"text-align: right;\">\n",
              "      <th></th>\n",
              "      <th>FILE NAME</th>\n",
              "      <th>FORMAT</th>\n",
              "      <th>SIZE</th>\n",
              "      <th>URL</th>\n",
              "    </tr>\n",
              "  </thead>\n",
              "  <tbody>\n",
              "    <tr>\n",
              "      <th>0</th>\n",
              "      <td>NORMAL-1</td>\n",
              "      <td>PNG</td>\n",
              "      <td>1024*1024</td>\n",
              "      <td>https://www.kaggle.com/paultimothymooney/chest...</td>\n",
              "    </tr>\n",
              "    <tr>\n",
              "      <th>1</th>\n",
              "      <td>NORMAL-2</td>\n",
              "      <td>PNG</td>\n",
              "      <td>1024*1024</td>\n",
              "      <td>https://www.kaggle.com/paultimothymooney/chest...</td>\n",
              "    </tr>\n",
              "    <tr>\n",
              "      <th>2</th>\n",
              "      <td>NORMAL-3</td>\n",
              "      <td>PNG</td>\n",
              "      <td>1024*1024</td>\n",
              "      <td>https://www.kaggle.com/paultimothymooney/chest...</td>\n",
              "    </tr>\n",
              "    <tr>\n",
              "      <th>3</th>\n",
              "      <td>NORMAL-4</td>\n",
              "      <td>PNG</td>\n",
              "      <td>1024*1024</td>\n",
              "      <td>https://www.kaggle.com/paultimothymooney/chest...</td>\n",
              "    </tr>\n",
              "    <tr>\n",
              "      <th>4</th>\n",
              "      <td>NORMAL-5</td>\n",
              "      <td>PNG</td>\n",
              "      <td>1024*1024</td>\n",
              "      <td>https://www.kaggle.com/paultimothymooney/chest...</td>\n",
              "    </tr>\n",
              "  </tbody>\n",
              "</table>\n",
              "</div>"
            ],
            "text/plain": [
              "  FILE NAME  ...                                                URL\n",
              "0  NORMAL-1  ...  https://www.kaggle.com/paultimothymooney/chest...\n",
              "1  NORMAL-2  ...  https://www.kaggle.com/paultimothymooney/chest...\n",
              "2  NORMAL-3  ...  https://www.kaggle.com/paultimothymooney/chest...\n",
              "3  NORMAL-4  ...  https://www.kaggle.com/paultimothymooney/chest...\n",
              "4  NORMAL-5  ...  https://www.kaggle.com/paultimothymooney/chest...\n",
              "\n",
              "[5 rows x 4 columns]"
            ]
          },
          "metadata": {
            "tags": []
          },
          "execution_count": 9
        }
      ]
    },
    {
      "cell_type": "code",
      "metadata": {
        "id": "tTvInpnkSmXL",
        "outputId": "8afa3287-e611-48d4-cbcd-b9e87d884914",
        "colab": {
          "base_uri": "https://localhost:8080/"
        }
      },
      "source": [
        "normal.info() # 1341 entries of normal xrays, which also match the folders"
      ],
      "execution_count": 10,
      "outputs": [
        {
          "output_type": "stream",
          "text": [
            "<class 'pandas.core.frame.DataFrame'>\n",
            "RangeIndex: 1341 entries, 0 to 1340\n",
            "Data columns (total 4 columns):\n",
            " #   Column     Non-Null Count  Dtype \n",
            "---  ------     --------------  ----- \n",
            " 0   FILE NAME  1341 non-null   object\n",
            " 1   FORMAT     1341 non-null   object\n",
            " 2   SIZE       1341 non-null   object\n",
            " 3   URL        1341 non-null   object\n",
            "dtypes: object(4)\n",
            "memory usage: 42.0+ KB\n"
          ],
          "name": "stdout"
        }
      ]
    },
    {
      "cell_type": "code",
      "metadata": {
        "id": "GoNltc9WK6OD"
      },
      "source": [
        "# remove dash and add parenthesis to match the image files in the folders\n",
        "normal['FILE NAME'] = normal['FILE NAME'].str.replace('-',' (') + \")\""
      ],
      "execution_count": 11,
      "outputs": []
    },
    {
      "cell_type": "code",
      "metadata": {
        "id": "YFJxf8dcTEbo",
        "outputId": "92012eab-228d-455a-fcee-4de96e5ac572",
        "colab": {
          "base_uri": "https://localhost:8080/",
          "height": 195
        }
      },
      "source": [
        "# class #3\n",
        "pneumonia = pd.read_excel('/gdrive/My Drive/Covid Metadata/Viral Pneumonia.metadata.xlsx')\n",
        "pneumonia.head()"
      ],
      "execution_count": 12,
      "outputs": [
        {
          "output_type": "execute_result",
          "data": {
            "text/html": [
              "<div>\n",
              "<style scoped>\n",
              "    .dataframe tbody tr th:only-of-type {\n",
              "        vertical-align: middle;\n",
              "    }\n",
              "\n",
              "    .dataframe tbody tr th {\n",
              "        vertical-align: top;\n",
              "    }\n",
              "\n",
              "    .dataframe thead th {\n",
              "        text-align: right;\n",
              "    }\n",
              "</style>\n",
              "<table border=\"1\" class=\"dataframe\">\n",
              "  <thead>\n",
              "    <tr style=\"text-align: right;\">\n",
              "      <th></th>\n",
              "      <th>FILE NAME</th>\n",
              "      <th>FORMAT</th>\n",
              "      <th>SIZE</th>\n",
              "      <th>URL</th>\n",
              "    </tr>\n",
              "  </thead>\n",
              "  <tbody>\n",
              "    <tr>\n",
              "      <th>0</th>\n",
              "      <td>Viral Pneumonia-1</td>\n",
              "      <td>PNG</td>\n",
              "      <td>1024*1024</td>\n",
              "      <td>https://www.kaggle.com/paultimothymooney/chest...</td>\n",
              "    </tr>\n",
              "    <tr>\n",
              "      <th>1</th>\n",
              "      <td>Viral Pneumonia-2</td>\n",
              "      <td>PNG</td>\n",
              "      <td>1024*1024</td>\n",
              "      <td>https://www.kaggle.com/paultimothymooney/chest...</td>\n",
              "    </tr>\n",
              "    <tr>\n",
              "      <th>2</th>\n",
              "      <td>Viral Pneumonia-3</td>\n",
              "      <td>PNG</td>\n",
              "      <td>1024*1024</td>\n",
              "      <td>https://www.kaggle.com/paultimothymooney/chest...</td>\n",
              "    </tr>\n",
              "    <tr>\n",
              "      <th>3</th>\n",
              "      <td>Viral Pneumonia-4</td>\n",
              "      <td>PNG</td>\n",
              "      <td>1024*1024</td>\n",
              "      <td>https://www.kaggle.com/paultimothymooney/chest...</td>\n",
              "    </tr>\n",
              "    <tr>\n",
              "      <th>4</th>\n",
              "      <td>Viral Pneumonia-5</td>\n",
              "      <td>PNG</td>\n",
              "      <td>1024*1024</td>\n",
              "      <td>https://www.kaggle.com/paultimothymooney/chest...</td>\n",
              "    </tr>\n",
              "  </tbody>\n",
              "</table>\n",
              "</div>"
            ],
            "text/plain": [
              "           FILE NAME  ...                                                URL\n",
              "0  Viral Pneumonia-1  ...  https://www.kaggle.com/paultimothymooney/chest...\n",
              "1  Viral Pneumonia-2  ...  https://www.kaggle.com/paultimothymooney/chest...\n",
              "2  Viral Pneumonia-3  ...  https://www.kaggle.com/paultimothymooney/chest...\n",
              "3  Viral Pneumonia-4  ...  https://www.kaggle.com/paultimothymooney/chest...\n",
              "4  Viral Pneumonia-5  ...  https://www.kaggle.com/paultimothymooney/chest...\n",
              "\n",
              "[5 rows x 4 columns]"
            ]
          },
          "metadata": {
            "tags": []
          },
          "execution_count": 12
        }
      ]
    },
    {
      "cell_type": "code",
      "metadata": {
        "id": "6P5tVXiLTvUO",
        "outputId": "53407253-fea3-4b01-8f0d-51cef18d39d5",
        "colab": {
          "base_uri": "https://localhost:8080/"
        }
      },
      "source": [
        "pneumonia.info() # 1345 entries which also match the folders"
      ],
      "execution_count": 13,
      "outputs": [
        {
          "output_type": "stream",
          "text": [
            "<class 'pandas.core.frame.DataFrame'>\n",
            "RangeIndex: 1345 entries, 0 to 1344\n",
            "Data columns (total 4 columns):\n",
            " #   Column     Non-Null Count  Dtype \n",
            "---  ------     --------------  ----- \n",
            " 0   FILE NAME  1345 non-null   object\n",
            " 1   FORMAT     1345 non-null   object\n",
            " 2   SIZE       1345 non-null   object\n",
            " 3   URL        1345 non-null   object\n",
            "dtypes: object(4)\n",
            "memory usage: 42.2+ KB\n"
          ],
          "name": "stdout"
        }
      ]
    },
    {
      "cell_type": "code",
      "metadata": {
        "id": "JZhJIOpSMO-q"
      },
      "source": [
        "# remove dash and add parenthesis to match the image files in the folders\n",
        "pneumonia['FILE NAME'] = pneumonia['FILE NAME'].str.replace('-',' (') + \")\""
      ],
      "execution_count": 14,
      "outputs": []
    },
    {
      "cell_type": "code",
      "metadata": {
        "id": "BPuHqi3qTym2"
      },
      "source": [
        "# No data type issues, no null values, what we don't have is a class column \n",
        "# We'll get the class names exactly as shown on the data generator and the image folders\n",
        "covid['Class'] = 'COVID-19'\n",
        "normal['Class'] ='Normal'\n",
        "pneumonia['Class'] = 'Viral Pneumonia'"
      ],
      "execution_count": 15,
      "outputs": []
    },
    {
      "cell_type": "code",
      "metadata": {
        "id": "eh_Rp1ZjWLvl",
        "outputId": "b5cd5e63-7d6d-4e4b-ac7f-b46e3e55dabe",
        "colab": {
          "base_uri": "https://localhost:8080/",
          "height": 195
        }
      },
      "source": [
        "covid.head()"
      ],
      "execution_count": 16,
      "outputs": [
        {
          "output_type": "execute_result",
          "data": {
            "text/html": [
              "<div>\n",
              "<style scoped>\n",
              "    .dataframe tbody tr th:only-of-type {\n",
              "        vertical-align: middle;\n",
              "    }\n",
              "\n",
              "    .dataframe tbody tr th {\n",
              "        vertical-align: top;\n",
              "    }\n",
              "\n",
              "    .dataframe thead th {\n",
              "        text-align: right;\n",
              "    }\n",
              "</style>\n",
              "<table border=\"1\" class=\"dataframe\">\n",
              "  <thead>\n",
              "    <tr style=\"text-align: right;\">\n",
              "      <th></th>\n",
              "      <th>FILE NAME</th>\n",
              "      <th>FORMAT</th>\n",
              "      <th>SIZE</th>\n",
              "      <th>URL</th>\n",
              "      <th>Class</th>\n",
              "    </tr>\n",
              "  </thead>\n",
              "  <tbody>\n",
              "    <tr>\n",
              "      <th>0</th>\n",
              "      <td>COVID-19 (1)</td>\n",
              "      <td>PNG</td>\n",
              "      <td>1024*1024</td>\n",
              "      <td>https://www.sciencedirect.com/science/article/...</td>\n",
              "      <td>COVID-19</td>\n",
              "    </tr>\n",
              "    <tr>\n",
              "      <th>1</th>\n",
              "      <td>COVID-19 (2)</td>\n",
              "      <td>PNG</td>\n",
              "      <td>1024*1024</td>\n",
              "      <td>https://www.sciencedirect.com/science/article/...</td>\n",
              "      <td>COVID-19</td>\n",
              "    </tr>\n",
              "    <tr>\n",
              "      <th>2</th>\n",
              "      <td>COVID-19 (3)</td>\n",
              "      <td>PNG</td>\n",
              "      <td>1024*1024</td>\n",
              "      <td>https://www.sciencedirect.com/science/article/...</td>\n",
              "      <td>COVID-19</td>\n",
              "    </tr>\n",
              "    <tr>\n",
              "      <th>3</th>\n",
              "      <td>COVID-19 (4)</td>\n",
              "      <td>PNG</td>\n",
              "      <td>1024*1024</td>\n",
              "      <td>https://www.sciencedirect.com/science/article/...</td>\n",
              "      <td>COVID-19</td>\n",
              "    </tr>\n",
              "    <tr>\n",
              "      <th>4</th>\n",
              "      <td>COVID-19 (5)</td>\n",
              "      <td>PNG</td>\n",
              "      <td>1024*1024</td>\n",
              "      <td>https://www.sciencedirect.com/science/article/...</td>\n",
              "      <td>COVID-19</td>\n",
              "    </tr>\n",
              "  </tbody>\n",
              "</table>\n",
              "</div>"
            ],
            "text/plain": [
              "      FILE NAME  ...     Class\n",
              "0  COVID-19 (1)  ...  COVID-19\n",
              "1  COVID-19 (2)  ...  COVID-19\n",
              "2  COVID-19 (3)  ...  COVID-19\n",
              "3  COVID-19 (4)  ...  COVID-19\n",
              "4  COVID-19 (5)  ...  COVID-19\n",
              "\n",
              "[5 rows x 5 columns]"
            ]
          },
          "metadata": {
            "tags": []
          },
          "execution_count": 16
        }
      ]
    },
    {
      "cell_type": "code",
      "metadata": {
        "id": "CpFvVXBNWOMP",
        "outputId": "bc054d69-f5e6-4ccb-8ee0-7ff04587498b",
        "colab": {
          "base_uri": "https://localhost:8080/",
          "height": 195
        }
      },
      "source": [
        "normal.head()"
      ],
      "execution_count": 17,
      "outputs": [
        {
          "output_type": "execute_result",
          "data": {
            "text/html": [
              "<div>\n",
              "<style scoped>\n",
              "    .dataframe tbody tr th:only-of-type {\n",
              "        vertical-align: middle;\n",
              "    }\n",
              "\n",
              "    .dataframe tbody tr th {\n",
              "        vertical-align: top;\n",
              "    }\n",
              "\n",
              "    .dataframe thead th {\n",
              "        text-align: right;\n",
              "    }\n",
              "</style>\n",
              "<table border=\"1\" class=\"dataframe\">\n",
              "  <thead>\n",
              "    <tr style=\"text-align: right;\">\n",
              "      <th></th>\n",
              "      <th>FILE NAME</th>\n",
              "      <th>FORMAT</th>\n",
              "      <th>SIZE</th>\n",
              "      <th>URL</th>\n",
              "      <th>Class</th>\n",
              "    </tr>\n",
              "  </thead>\n",
              "  <tbody>\n",
              "    <tr>\n",
              "      <th>0</th>\n",
              "      <td>NORMAL (1)</td>\n",
              "      <td>PNG</td>\n",
              "      <td>1024*1024</td>\n",
              "      <td>https://www.kaggle.com/paultimothymooney/chest...</td>\n",
              "      <td>Normal</td>\n",
              "    </tr>\n",
              "    <tr>\n",
              "      <th>1</th>\n",
              "      <td>NORMAL (2)</td>\n",
              "      <td>PNG</td>\n",
              "      <td>1024*1024</td>\n",
              "      <td>https://www.kaggle.com/paultimothymooney/chest...</td>\n",
              "      <td>Normal</td>\n",
              "    </tr>\n",
              "    <tr>\n",
              "      <th>2</th>\n",
              "      <td>NORMAL (3)</td>\n",
              "      <td>PNG</td>\n",
              "      <td>1024*1024</td>\n",
              "      <td>https://www.kaggle.com/paultimothymooney/chest...</td>\n",
              "      <td>Normal</td>\n",
              "    </tr>\n",
              "    <tr>\n",
              "      <th>3</th>\n",
              "      <td>NORMAL (4)</td>\n",
              "      <td>PNG</td>\n",
              "      <td>1024*1024</td>\n",
              "      <td>https://www.kaggle.com/paultimothymooney/chest...</td>\n",
              "      <td>Normal</td>\n",
              "    </tr>\n",
              "    <tr>\n",
              "      <th>4</th>\n",
              "      <td>NORMAL (5)</td>\n",
              "      <td>PNG</td>\n",
              "      <td>1024*1024</td>\n",
              "      <td>https://www.kaggle.com/paultimothymooney/chest...</td>\n",
              "      <td>Normal</td>\n",
              "    </tr>\n",
              "  </tbody>\n",
              "</table>\n",
              "</div>"
            ],
            "text/plain": [
              "    FILE NAME FORMAT  ...                                                URL   Class\n",
              "0  NORMAL (1)    PNG  ...  https://www.kaggle.com/paultimothymooney/chest...  Normal\n",
              "1  NORMAL (2)    PNG  ...  https://www.kaggle.com/paultimothymooney/chest...  Normal\n",
              "2  NORMAL (3)    PNG  ...  https://www.kaggle.com/paultimothymooney/chest...  Normal\n",
              "3  NORMAL (4)    PNG  ...  https://www.kaggle.com/paultimothymooney/chest...  Normal\n",
              "4  NORMAL (5)    PNG  ...  https://www.kaggle.com/paultimothymooney/chest...  Normal\n",
              "\n",
              "[5 rows x 5 columns]"
            ]
          },
          "metadata": {
            "tags": []
          },
          "execution_count": 17
        }
      ]
    },
    {
      "cell_type": "code",
      "metadata": {
        "id": "pDmjic7dWPxz",
        "outputId": "0d0deba8-a6ca-438c-8e89-2a38c7d2d289",
        "colab": {
          "base_uri": "https://localhost:8080/",
          "height": 195
        }
      },
      "source": [
        "pneumonia.head()"
      ],
      "execution_count": 18,
      "outputs": [
        {
          "output_type": "execute_result",
          "data": {
            "text/html": [
              "<div>\n",
              "<style scoped>\n",
              "    .dataframe tbody tr th:only-of-type {\n",
              "        vertical-align: middle;\n",
              "    }\n",
              "\n",
              "    .dataframe tbody tr th {\n",
              "        vertical-align: top;\n",
              "    }\n",
              "\n",
              "    .dataframe thead th {\n",
              "        text-align: right;\n",
              "    }\n",
              "</style>\n",
              "<table border=\"1\" class=\"dataframe\">\n",
              "  <thead>\n",
              "    <tr style=\"text-align: right;\">\n",
              "      <th></th>\n",
              "      <th>FILE NAME</th>\n",
              "      <th>FORMAT</th>\n",
              "      <th>SIZE</th>\n",
              "      <th>URL</th>\n",
              "      <th>Class</th>\n",
              "    </tr>\n",
              "  </thead>\n",
              "  <tbody>\n",
              "    <tr>\n",
              "      <th>0</th>\n",
              "      <td>Viral Pneumonia (1)</td>\n",
              "      <td>PNG</td>\n",
              "      <td>1024*1024</td>\n",
              "      <td>https://www.kaggle.com/paultimothymooney/chest...</td>\n",
              "      <td>Viral Pneumonia</td>\n",
              "    </tr>\n",
              "    <tr>\n",
              "      <th>1</th>\n",
              "      <td>Viral Pneumonia (2)</td>\n",
              "      <td>PNG</td>\n",
              "      <td>1024*1024</td>\n",
              "      <td>https://www.kaggle.com/paultimothymooney/chest...</td>\n",
              "      <td>Viral Pneumonia</td>\n",
              "    </tr>\n",
              "    <tr>\n",
              "      <th>2</th>\n",
              "      <td>Viral Pneumonia (3)</td>\n",
              "      <td>PNG</td>\n",
              "      <td>1024*1024</td>\n",
              "      <td>https://www.kaggle.com/paultimothymooney/chest...</td>\n",
              "      <td>Viral Pneumonia</td>\n",
              "    </tr>\n",
              "    <tr>\n",
              "      <th>3</th>\n",
              "      <td>Viral Pneumonia (4)</td>\n",
              "      <td>PNG</td>\n",
              "      <td>1024*1024</td>\n",
              "      <td>https://www.kaggle.com/paultimothymooney/chest...</td>\n",
              "      <td>Viral Pneumonia</td>\n",
              "    </tr>\n",
              "    <tr>\n",
              "      <th>4</th>\n",
              "      <td>Viral Pneumonia (5)</td>\n",
              "      <td>PNG</td>\n",
              "      <td>1024*1024</td>\n",
              "      <td>https://www.kaggle.com/paultimothymooney/chest...</td>\n",
              "      <td>Viral Pneumonia</td>\n",
              "    </tr>\n",
              "  </tbody>\n",
              "</table>\n",
              "</div>"
            ],
            "text/plain": [
              "             FILE NAME  ...            Class\n",
              "0  Viral Pneumonia (1)  ...  Viral Pneumonia\n",
              "1  Viral Pneumonia (2)  ...  Viral Pneumonia\n",
              "2  Viral Pneumonia (3)  ...  Viral Pneumonia\n",
              "3  Viral Pneumonia (4)  ...  Viral Pneumonia\n",
              "4  Viral Pneumonia (5)  ...  Viral Pneumonia\n",
              "\n",
              "[5 rows x 5 columns]"
            ]
          },
          "metadata": {
            "tags": []
          },
          "execution_count": 18
        }
      ]
    },
    {
      "cell_type": "code",
      "metadata": {
        "id": "vbCAC5MfX7GN",
        "outputId": "3b4621bd-c5e5-48c9-835b-b615dfcbd664",
        "colab": {
          "base_uri": "https://localhost:8080/"
        }
      },
      "source": [
        "# create ratio to make take a random sample from the normal data set the same size as the covid set\n",
        "normal_new = 219/1341\n",
        "normal_new"
      ],
      "execution_count": 19,
      "outputs": [
        {
          "output_type": "execute_result",
          "data": {
            "text/plain": [
              "0.16331096196868009"
            ]
          },
          "metadata": {
            "tags": []
          },
          "execution_count": 19
        }
      ]
    },
    {
      "cell_type": "code",
      "metadata": {
        "id": "yU21MKONXOgB",
        "outputId": "edc06dc2-0c85-44f4-b0f4-4f22b22a3813",
        "colab": {
          "base_uri": "https://localhost:8080/"
        }
      },
      "source": [
        "# address the class imbalance by taking a random sample of the normal \n",
        "# and pneumonia data sets of the same size as the covid data set\n",
        "# making them equal\n",
        "normal = normal.sample(frac=normal_new).reset_index(drop=True)\n",
        "normal.shape[0]"
      ],
      "execution_count": 20,
      "outputs": [
        {
          "output_type": "execute_result",
          "data": {
            "text/plain": [
              "219"
            ]
          },
          "metadata": {
            "tags": []
          },
          "execution_count": 20
        }
      ]
    },
    {
      "cell_type": "code",
      "metadata": {
        "id": "b21ovOh-al41",
        "outputId": "18c0125a-f82f-41f7-d097-e2b71ba6498e",
        "colab": {
          "base_uri": "https://localhost:8080/",
          "height": 195
        }
      },
      "source": [
        "normal.head()"
      ],
      "execution_count": 21,
      "outputs": [
        {
          "output_type": "execute_result",
          "data": {
            "text/html": [
              "<div>\n",
              "<style scoped>\n",
              "    .dataframe tbody tr th:only-of-type {\n",
              "        vertical-align: middle;\n",
              "    }\n",
              "\n",
              "    .dataframe tbody tr th {\n",
              "        vertical-align: top;\n",
              "    }\n",
              "\n",
              "    .dataframe thead th {\n",
              "        text-align: right;\n",
              "    }\n",
              "</style>\n",
              "<table border=\"1\" class=\"dataframe\">\n",
              "  <thead>\n",
              "    <tr style=\"text-align: right;\">\n",
              "      <th></th>\n",
              "      <th>FILE NAME</th>\n",
              "      <th>FORMAT</th>\n",
              "      <th>SIZE</th>\n",
              "      <th>URL</th>\n",
              "      <th>Class</th>\n",
              "    </tr>\n",
              "  </thead>\n",
              "  <tbody>\n",
              "    <tr>\n",
              "      <th>0</th>\n",
              "      <td>NORMAL (568)</td>\n",
              "      <td>PNG</td>\n",
              "      <td>1024*1024</td>\n",
              "      <td>https://www.kaggle.com/paultimothymooney/chest...</td>\n",
              "      <td>Normal</td>\n",
              "    </tr>\n",
              "    <tr>\n",
              "      <th>1</th>\n",
              "      <td>NORMAL (1237)</td>\n",
              "      <td>PNG</td>\n",
              "      <td>1024*1024</td>\n",
              "      <td>https://www.kaggle.com/paultimothymooney/chest...</td>\n",
              "      <td>Normal</td>\n",
              "    </tr>\n",
              "    <tr>\n",
              "      <th>2</th>\n",
              "      <td>NORMAL (789)</td>\n",
              "      <td>PNG</td>\n",
              "      <td>1024*1024</td>\n",
              "      <td>https://www.kaggle.com/paultimothymooney/chest...</td>\n",
              "      <td>Normal</td>\n",
              "    </tr>\n",
              "    <tr>\n",
              "      <th>3</th>\n",
              "      <td>NORMAL (433)</td>\n",
              "      <td>PNG</td>\n",
              "      <td>1024*1024</td>\n",
              "      <td>https://www.kaggle.com/paultimothymooney/chest...</td>\n",
              "      <td>Normal</td>\n",
              "    </tr>\n",
              "    <tr>\n",
              "      <th>4</th>\n",
              "      <td>NORMAL (663)</td>\n",
              "      <td>PNG</td>\n",
              "      <td>1024*1024</td>\n",
              "      <td>https://www.kaggle.com/paultimothymooney/chest...</td>\n",
              "      <td>Normal</td>\n",
              "    </tr>\n",
              "  </tbody>\n",
              "</table>\n",
              "</div>"
            ],
            "text/plain": [
              "       FILE NAME  ...   Class\n",
              "0   NORMAL (568)  ...  Normal\n",
              "1  NORMAL (1237)  ...  Normal\n",
              "2   NORMAL (789)  ...  Normal\n",
              "3   NORMAL (433)  ...  Normal\n",
              "4   NORMAL (663)  ...  Normal\n",
              "\n",
              "[5 rows x 5 columns]"
            ]
          },
          "metadata": {
            "tags": []
          },
          "execution_count": 21
        }
      ]
    },
    {
      "cell_type": "code",
      "metadata": {
        "id": "O8TPd_AOYoPz",
        "outputId": "ecc64560-4529-408c-d41b-a0b27e2073cd",
        "colab": {
          "base_uri": "https://localhost:8080/"
        }
      },
      "source": [
        "# do the same with the pneumonia data set\n",
        "pneumonia_new = 219/1345\n",
        "pneumonia = pneumonia.sample(frac=pneumonia_new).reset_index(drop=True)\n",
        "pneumonia.shape[0]"
      ],
      "execution_count": 22,
      "outputs": [
        {
          "output_type": "execute_result",
          "data": {
            "text/plain": [
              "219"
            ]
          },
          "metadata": {
            "tags": []
          },
          "execution_count": 22
        }
      ]
    },
    {
      "cell_type": "code",
      "metadata": {
        "id": "aMxT3m8Xb2fz",
        "outputId": "473ee4ab-4fba-4f6b-e610-6194ecd10bbd",
        "colab": {
          "base_uri": "https://localhost:8080/",
          "height": 195
        }
      },
      "source": [
        "# combine the two new dataframes vertically\n",
        "noncovid = pd.concat([normal, pneumonia]).reset_index(drop=True)\n",
        "noncovid.head()"
      ],
      "execution_count": 23,
      "outputs": [
        {
          "output_type": "execute_result",
          "data": {
            "text/html": [
              "<div>\n",
              "<style scoped>\n",
              "    .dataframe tbody tr th:only-of-type {\n",
              "        vertical-align: middle;\n",
              "    }\n",
              "\n",
              "    .dataframe tbody tr th {\n",
              "        vertical-align: top;\n",
              "    }\n",
              "\n",
              "    .dataframe thead th {\n",
              "        text-align: right;\n",
              "    }\n",
              "</style>\n",
              "<table border=\"1\" class=\"dataframe\">\n",
              "  <thead>\n",
              "    <tr style=\"text-align: right;\">\n",
              "      <th></th>\n",
              "      <th>FILE NAME</th>\n",
              "      <th>FORMAT</th>\n",
              "      <th>SIZE</th>\n",
              "      <th>URL</th>\n",
              "      <th>Class</th>\n",
              "    </tr>\n",
              "  </thead>\n",
              "  <tbody>\n",
              "    <tr>\n",
              "      <th>0</th>\n",
              "      <td>NORMAL (568)</td>\n",
              "      <td>PNG</td>\n",
              "      <td>1024*1024</td>\n",
              "      <td>https://www.kaggle.com/paultimothymooney/chest...</td>\n",
              "      <td>Normal</td>\n",
              "    </tr>\n",
              "    <tr>\n",
              "      <th>1</th>\n",
              "      <td>NORMAL (1237)</td>\n",
              "      <td>PNG</td>\n",
              "      <td>1024*1024</td>\n",
              "      <td>https://www.kaggle.com/paultimothymooney/chest...</td>\n",
              "      <td>Normal</td>\n",
              "    </tr>\n",
              "    <tr>\n",
              "      <th>2</th>\n",
              "      <td>NORMAL (789)</td>\n",
              "      <td>PNG</td>\n",
              "      <td>1024*1024</td>\n",
              "      <td>https://www.kaggle.com/paultimothymooney/chest...</td>\n",
              "      <td>Normal</td>\n",
              "    </tr>\n",
              "    <tr>\n",
              "      <th>3</th>\n",
              "      <td>NORMAL (433)</td>\n",
              "      <td>PNG</td>\n",
              "      <td>1024*1024</td>\n",
              "      <td>https://www.kaggle.com/paultimothymooney/chest...</td>\n",
              "      <td>Normal</td>\n",
              "    </tr>\n",
              "    <tr>\n",
              "      <th>4</th>\n",
              "      <td>NORMAL (663)</td>\n",
              "      <td>PNG</td>\n",
              "      <td>1024*1024</td>\n",
              "      <td>https://www.kaggle.com/paultimothymooney/chest...</td>\n",
              "      <td>Normal</td>\n",
              "    </tr>\n",
              "  </tbody>\n",
              "</table>\n",
              "</div>"
            ],
            "text/plain": [
              "       FILE NAME  ...   Class\n",
              "0   NORMAL (568)  ...  Normal\n",
              "1  NORMAL (1237)  ...  Normal\n",
              "2   NORMAL (789)  ...  Normal\n",
              "3   NORMAL (433)  ...  Normal\n",
              "4   NORMAL (663)  ...  Normal\n",
              "\n",
              "[5 rows x 5 columns]"
            ]
          },
          "metadata": {
            "tags": []
          },
          "execution_count": 23
        }
      ]
    },
    {
      "cell_type": "code",
      "metadata": {
        "id": "_95eiVfIdVV7",
        "outputId": "1fb44527-624f-4711-d905-b20dde60f56d",
        "colab": {
          "base_uri": "https://localhost:8080/",
          "height": 195
        }
      },
      "source": [
        "# add the covid dataframe vertically as well\n",
        "allclasses = pd.concat([covid, noncovid]).reset_index(drop=True)\n",
        "allclasses.head()"
      ],
      "execution_count": 24,
      "outputs": [
        {
          "output_type": "execute_result",
          "data": {
            "text/html": [
              "<div>\n",
              "<style scoped>\n",
              "    .dataframe tbody tr th:only-of-type {\n",
              "        vertical-align: middle;\n",
              "    }\n",
              "\n",
              "    .dataframe tbody tr th {\n",
              "        vertical-align: top;\n",
              "    }\n",
              "\n",
              "    .dataframe thead th {\n",
              "        text-align: right;\n",
              "    }\n",
              "</style>\n",
              "<table border=\"1\" class=\"dataframe\">\n",
              "  <thead>\n",
              "    <tr style=\"text-align: right;\">\n",
              "      <th></th>\n",
              "      <th>FILE NAME</th>\n",
              "      <th>FORMAT</th>\n",
              "      <th>SIZE</th>\n",
              "      <th>URL</th>\n",
              "      <th>Class</th>\n",
              "    </tr>\n",
              "  </thead>\n",
              "  <tbody>\n",
              "    <tr>\n",
              "      <th>0</th>\n",
              "      <td>COVID-19 (1)</td>\n",
              "      <td>PNG</td>\n",
              "      <td>1024*1024</td>\n",
              "      <td>https://www.sciencedirect.com/science/article/...</td>\n",
              "      <td>COVID-19</td>\n",
              "    </tr>\n",
              "    <tr>\n",
              "      <th>1</th>\n",
              "      <td>COVID-19 (2)</td>\n",
              "      <td>PNG</td>\n",
              "      <td>1024*1024</td>\n",
              "      <td>https://www.sciencedirect.com/science/article/...</td>\n",
              "      <td>COVID-19</td>\n",
              "    </tr>\n",
              "    <tr>\n",
              "      <th>2</th>\n",
              "      <td>COVID-19 (3)</td>\n",
              "      <td>PNG</td>\n",
              "      <td>1024*1024</td>\n",
              "      <td>https://www.sciencedirect.com/science/article/...</td>\n",
              "      <td>COVID-19</td>\n",
              "    </tr>\n",
              "    <tr>\n",
              "      <th>3</th>\n",
              "      <td>COVID-19 (4)</td>\n",
              "      <td>PNG</td>\n",
              "      <td>1024*1024</td>\n",
              "      <td>https://www.sciencedirect.com/science/article/...</td>\n",
              "      <td>COVID-19</td>\n",
              "    </tr>\n",
              "    <tr>\n",
              "      <th>4</th>\n",
              "      <td>COVID-19 (5)</td>\n",
              "      <td>PNG</td>\n",
              "      <td>1024*1024</td>\n",
              "      <td>https://www.sciencedirect.com/science/article/...</td>\n",
              "      <td>COVID-19</td>\n",
              "    </tr>\n",
              "  </tbody>\n",
              "</table>\n",
              "</div>"
            ],
            "text/plain": [
              "      FILE NAME  ...     Class\n",
              "0  COVID-19 (1)  ...  COVID-19\n",
              "1  COVID-19 (2)  ...  COVID-19\n",
              "2  COVID-19 (3)  ...  COVID-19\n",
              "3  COVID-19 (4)  ...  COVID-19\n",
              "4  COVID-19 (5)  ...  COVID-19\n",
              "\n",
              "[5 rows x 5 columns]"
            ]
          },
          "metadata": {
            "tags": []
          },
          "execution_count": 24
        }
      ]
    },
    {
      "cell_type": "code",
      "metadata": {
        "id": "PPmZ_Rhwd6v7",
        "outputId": "f38b7c29-8629-45f1-afdc-7b7987ca59a1",
        "colab": {
          "base_uri": "https://localhost:8080/",
          "height": 195
        }
      },
      "source": [
        "# take a random sample of the entire data set to randomize the entries\n",
        "allclasses = allclasses.sample(frac=1).reset_index(drop=True)\n",
        "allclasses.head()"
      ],
      "execution_count": 25,
      "outputs": [
        {
          "output_type": "execute_result",
          "data": {
            "text/html": [
              "<div>\n",
              "<style scoped>\n",
              "    .dataframe tbody tr th:only-of-type {\n",
              "        vertical-align: middle;\n",
              "    }\n",
              "\n",
              "    .dataframe tbody tr th {\n",
              "        vertical-align: top;\n",
              "    }\n",
              "\n",
              "    .dataframe thead th {\n",
              "        text-align: right;\n",
              "    }\n",
              "</style>\n",
              "<table border=\"1\" class=\"dataframe\">\n",
              "  <thead>\n",
              "    <tr style=\"text-align: right;\">\n",
              "      <th></th>\n",
              "      <th>FILE NAME</th>\n",
              "      <th>FORMAT</th>\n",
              "      <th>SIZE</th>\n",
              "      <th>URL</th>\n",
              "      <th>Class</th>\n",
              "    </tr>\n",
              "  </thead>\n",
              "  <tbody>\n",
              "    <tr>\n",
              "      <th>0</th>\n",
              "      <td>Viral Pneumonia (1320)</td>\n",
              "      <td>PNG</td>\n",
              "      <td>1024*1024</td>\n",
              "      <td>https://www.kaggle.com/paultimothymooney/chest...</td>\n",
              "      <td>Viral Pneumonia</td>\n",
              "    </tr>\n",
              "    <tr>\n",
              "      <th>1</th>\n",
              "      <td>Viral Pneumonia (57)</td>\n",
              "      <td>PNG</td>\n",
              "      <td>1024*1024</td>\n",
              "      <td>https://www.kaggle.com/paultimothymooney/chest...</td>\n",
              "      <td>Viral Pneumonia</td>\n",
              "    </tr>\n",
              "    <tr>\n",
              "      <th>2</th>\n",
              "      <td>COVID-19 (150)</td>\n",
              "      <td>PNG</td>\n",
              "      <td>1024*1024</td>\n",
              "      <td>https://www.sirm.org/2020/03/07/covid-19-caso-12/</td>\n",
              "      <td>COVID-19</td>\n",
              "    </tr>\n",
              "    <tr>\n",
              "      <th>3</th>\n",
              "      <td>NORMAL (78)</td>\n",
              "      <td>PNG</td>\n",
              "      <td>1024*1024</td>\n",
              "      <td>https://www.kaggle.com/paultimothymooney/chest...</td>\n",
              "      <td>Normal</td>\n",
              "    </tr>\n",
              "    <tr>\n",
              "      <th>4</th>\n",
              "      <td>NORMAL (667)</td>\n",
              "      <td>PNG</td>\n",
              "      <td>1024*1024</td>\n",
              "      <td>https://www.kaggle.com/paultimothymooney/chest...</td>\n",
              "      <td>Normal</td>\n",
              "    </tr>\n",
              "  </tbody>\n",
              "</table>\n",
              "</div>"
            ],
            "text/plain": [
              "                FILE NAME  ...            Class\n",
              "0  Viral Pneumonia (1320)  ...  Viral Pneumonia\n",
              "1    Viral Pneumonia (57)  ...  Viral Pneumonia\n",
              "2          COVID-19 (150)  ...         COVID-19\n",
              "3             NORMAL (78)  ...           Normal\n",
              "4            NORMAL (667)  ...           Normal\n",
              "\n",
              "[5 rows x 5 columns]"
            ]
          },
          "metadata": {
            "tags": []
          },
          "execution_count": 25
        }
      ]
    },
    {
      "cell_type": "code",
      "metadata": {
        "id": "Wk_UnI_yfBpq",
        "outputId": "30a666c0-9474-436f-8ea0-667104ff9171",
        "colab": {
          "base_uri": "https://localhost:8080/"
        }
      },
      "source": [
        "# Check the size of each set of classes is equal\n",
        "len(allclasses)/3"
      ],
      "execution_count": 26,
      "outputs": [
        {
          "output_type": "execute_result",
          "data": {
            "text/plain": [
              "219.0"
            ]
          },
          "metadata": {
            "tags": []
          },
          "execution_count": 26
        }
      ]
    },
    {
      "cell_type": "code",
      "metadata": {
        "id": "FPeUYBmMYYYR"
      },
      "source": [
        "# add .png to all the class names to match the image names\n",
        "allclasses['FILE NAME'] = allclasses['FILE NAME'].astype(str) + '.png'"
      ],
      "execution_count": 27,
      "outputs": []
    },
    {
      "cell_type": "code",
      "metadata": {
        "id": "0Y1DWRO5ir8N",
        "outputId": "8605750e-23a3-4753-b8ae-0dc5c94c3199",
        "colab": {
          "base_uri": "https://localhost:8080/",
          "height": 195
        }
      },
      "source": [
        "allclasses.head()"
      ],
      "execution_count": 28,
      "outputs": [
        {
          "output_type": "execute_result",
          "data": {
            "text/html": [
              "<div>\n",
              "<style scoped>\n",
              "    .dataframe tbody tr th:only-of-type {\n",
              "        vertical-align: middle;\n",
              "    }\n",
              "\n",
              "    .dataframe tbody tr th {\n",
              "        vertical-align: top;\n",
              "    }\n",
              "\n",
              "    .dataframe thead th {\n",
              "        text-align: right;\n",
              "    }\n",
              "</style>\n",
              "<table border=\"1\" class=\"dataframe\">\n",
              "  <thead>\n",
              "    <tr style=\"text-align: right;\">\n",
              "      <th></th>\n",
              "      <th>FILE NAME</th>\n",
              "      <th>FORMAT</th>\n",
              "      <th>SIZE</th>\n",
              "      <th>URL</th>\n",
              "      <th>Class</th>\n",
              "    </tr>\n",
              "  </thead>\n",
              "  <tbody>\n",
              "    <tr>\n",
              "      <th>0</th>\n",
              "      <td>Viral Pneumonia (1320).png</td>\n",
              "      <td>PNG</td>\n",
              "      <td>1024*1024</td>\n",
              "      <td>https://www.kaggle.com/paultimothymooney/chest...</td>\n",
              "      <td>Viral Pneumonia</td>\n",
              "    </tr>\n",
              "    <tr>\n",
              "      <th>1</th>\n",
              "      <td>Viral Pneumonia (57).png</td>\n",
              "      <td>PNG</td>\n",
              "      <td>1024*1024</td>\n",
              "      <td>https://www.kaggle.com/paultimothymooney/chest...</td>\n",
              "      <td>Viral Pneumonia</td>\n",
              "    </tr>\n",
              "    <tr>\n",
              "      <th>2</th>\n",
              "      <td>COVID-19 (150).png</td>\n",
              "      <td>PNG</td>\n",
              "      <td>1024*1024</td>\n",
              "      <td>https://www.sirm.org/2020/03/07/covid-19-caso-12/</td>\n",
              "      <td>COVID-19</td>\n",
              "    </tr>\n",
              "    <tr>\n",
              "      <th>3</th>\n",
              "      <td>NORMAL (78).png</td>\n",
              "      <td>PNG</td>\n",
              "      <td>1024*1024</td>\n",
              "      <td>https://www.kaggle.com/paultimothymooney/chest...</td>\n",
              "      <td>Normal</td>\n",
              "    </tr>\n",
              "    <tr>\n",
              "      <th>4</th>\n",
              "      <td>NORMAL (667).png</td>\n",
              "      <td>PNG</td>\n",
              "      <td>1024*1024</td>\n",
              "      <td>https://www.kaggle.com/paultimothymooney/chest...</td>\n",
              "      <td>Normal</td>\n",
              "    </tr>\n",
              "  </tbody>\n",
              "</table>\n",
              "</div>"
            ],
            "text/plain": [
              "                    FILE NAME  ...            Class\n",
              "0  Viral Pneumonia (1320).png  ...  Viral Pneumonia\n",
              "1    Viral Pneumonia (57).png  ...  Viral Pneumonia\n",
              "2          COVID-19 (150).png  ...         COVID-19\n",
              "3             NORMAL (78).png  ...           Normal\n",
              "4            NORMAL (667).png  ...           Normal\n",
              "\n",
              "[5 rows x 5 columns]"
            ]
          },
          "metadata": {
            "tags": []
          },
          "execution_count": 28
        }
      ]
    },
    {
      "cell_type": "code",
      "metadata": {
        "id": "bizhCEZlfKz0"
      },
      "source": [
        "# save data for later use\n",
        "allclasses = allclasses.to_csv('/gdrive/My Drive/allclasses', header=True)\n",
        "allclasses"
      ],
      "execution_count": 29,
      "outputs": []
    }
  ]
}