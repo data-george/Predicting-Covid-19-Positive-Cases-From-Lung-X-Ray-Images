{
  "nbformat": 4,
  "nbformat_minor": 0,
  "metadata": {
    "colab": {
      "name": "Predicting Covid 19 Pre-processing and Training Data Development.ipynb",
      "provenance": [],
      "collapsed_sections": []
    },
    "kernelspec": {
      "name": "python3",
      "display_name": "Python 3"
    }
  },
  "cells": [
    {
      "cell_type": "code",
      "metadata": {
        "colab": {
          "base_uri": "https://localhost:8080/"
        },
        "id": "QEbF3OZlN3dZ",
        "outputId": "df6c6e0f-5fc1-4aca-bd50-9b9ef5171878"
      },
      "source": [
        "# Let's first import all necessary libraries\r\n",
        "\r\n",
        "import tensorflow\r\n",
        "print(tensorflow.__version__)"
      ],
      "execution_count": 1,
      "outputs": [
        {
          "output_type": "stream",
          "text": [
            "2.3.0\n"
          ],
          "name": "stdout"
        }
      ]
    },
    {
      "cell_type": "code",
      "metadata": {
        "colab": {
          "base_uri": "https://localhost:8080/"
        },
        "id": "dtDE0-ygQvEU",
        "outputId": "1af21e71-0152-414f-d457-7d1bdf27a8c7"
      },
      "source": [
        "import keras\r\n",
        "from keras import backend as K\r\n",
        "\r\n",
        "print('Keras version:',keras.__version__)"
      ],
      "execution_count": 2,
      "outputs": [
        {
          "output_type": "stream",
          "text": [
            "Keras version: 2.4.3\n"
          ],
          "name": "stdout"
        }
      ]
    },
    {
      "cell_type": "code",
      "metadata": {
        "id": "Z117Z_apQ50y"
      },
      "source": [
        "import pandas as pd\r\n",
        "import numpy as np"
      ],
      "execution_count": 3,
      "outputs": []
    },
    {
      "cell_type": "code",
      "metadata": {
        "colab": {
          "base_uri": "https://localhost:8080/"
        },
        "id": "LifEK3GfQ_Wr",
        "outputId": "312adc21-5860-4664-cd51-c5579ce53383"
      },
      "source": [
        "# mount drive\r\n",
        "\r\n",
        "from google.colab import drive\r\n",
        "drive.mount('/gdrive')"
      ],
      "execution_count": 4,
      "outputs": [
        {
          "output_type": "stream",
          "text": [
            "Mounted at /gdrive\n"
          ],
          "name": "stdout"
        }
      ]
    },
    {
      "cell_type": "code",
      "metadata": {
        "id": "Hp1PkYgSRNNs"
      },
      "source": [
        "# Import previously constructed dataset with equal ratio of classes\r\n",
        "\r\n",
        "allclasses = pd.read_csv('/gdrive/MyDrive/allclasses')"
      ],
      "execution_count": 5,
      "outputs": []
    },
    {
      "cell_type": "code",
      "metadata": {
        "colab": {
          "base_uri": "https://localhost:8080/",
          "height": 195
        },
        "id": "7jcl6mAjRY95",
        "outputId": "e5543b77-440a-4e22-dc7b-ef0c56e5c047"
      },
      "source": [
        "allclasses.head()"
      ],
      "execution_count": 6,
      "outputs": [
        {
          "output_type": "execute_result",
          "data": {
            "text/html": [
              "<div>\n",
              "<style scoped>\n",
              "    .dataframe tbody tr th:only-of-type {\n",
              "        vertical-align: middle;\n",
              "    }\n",
              "\n",
              "    .dataframe tbody tr th {\n",
              "        vertical-align: top;\n",
              "    }\n",
              "\n",
              "    .dataframe thead th {\n",
              "        text-align: right;\n",
              "    }\n",
              "</style>\n",
              "<table border=\"1\" class=\"dataframe\">\n",
              "  <thead>\n",
              "    <tr style=\"text-align: right;\">\n",
              "      <th></th>\n",
              "      <th>Unnamed: 0</th>\n",
              "      <th>FILE NAME</th>\n",
              "      <th>FORMAT</th>\n",
              "      <th>SIZE</th>\n",
              "      <th>URL</th>\n",
              "      <th>Class</th>\n",
              "    </tr>\n",
              "  </thead>\n",
              "  <tbody>\n",
              "    <tr>\n",
              "      <th>0</th>\n",
              "      <td>0</td>\n",
              "      <td>Viral Pneumonia (375).png</td>\n",
              "      <td>PNG</td>\n",
              "      <td>1024*1024</td>\n",
              "      <td>https://www.kaggle.com/paultimothymooney/chest...</td>\n",
              "      <td>Viral Pneumonia</td>\n",
              "    </tr>\n",
              "    <tr>\n",
              "      <th>1</th>\n",
              "      <td>1</td>\n",
              "      <td>COVID-19 (24).png</td>\n",
              "      <td>PNG</td>\n",
              "      <td>1024*1024</td>\n",
              "      <td>https://academic.oup.com/cid/advance-article/d...</td>\n",
              "      <td>COVID-19</td>\n",
              "    </tr>\n",
              "    <tr>\n",
              "      <th>2</th>\n",
              "      <td>2</td>\n",
              "      <td>COVID-19 (17).png</td>\n",
              "      <td>PNG</td>\n",
              "      <td>1024*1024</td>\n",
              "      <td>https://onlinelibrary.wiley.com/doi/full/10.11...</td>\n",
              "      <td>COVID-19</td>\n",
              "    </tr>\n",
              "    <tr>\n",
              "      <th>3</th>\n",
              "      <td>3</td>\n",
              "      <td>NORMAL (53).png</td>\n",
              "      <td>PNG</td>\n",
              "      <td>1024*1024</td>\n",
              "      <td>https://www.kaggle.com/paultimothymooney/chest...</td>\n",
              "      <td>Normal</td>\n",
              "    </tr>\n",
              "    <tr>\n",
              "      <th>4</th>\n",
              "      <td>4</td>\n",
              "      <td>COVID-19 (115).png</td>\n",
              "      <td>PNG</td>\n",
              "      <td>1024*1024</td>\n",
              "      <td>https://www.sciencedirect.com/science/article/...</td>\n",
              "      <td>COVID-19</td>\n",
              "    </tr>\n",
              "  </tbody>\n",
              "</table>\n",
              "</div>"
            ],
            "text/plain": [
              "   Unnamed: 0  ...            Class\n",
              "0           0  ...  Viral Pneumonia\n",
              "1           1  ...         COVID-19\n",
              "2           2  ...         COVID-19\n",
              "3           3  ...           Normal\n",
              "4           4  ...         COVID-19\n",
              "\n",
              "[5 rows x 6 columns]"
            ]
          },
          "metadata": {
            "tags": []
          },
          "execution_count": 6
        }
      ]
    },
    {
      "cell_type": "code",
      "metadata": {
        "id": "NrFezWm8TqqT"
      },
      "source": [
        "X = allclasses['FILE NAME']\r\n",
        "y = allclasses['Class']"
      ],
      "execution_count": 7,
      "outputs": []
    },
    {
      "cell_type": "code",
      "metadata": {
        "id": "XI_OupPMSS7O"
      },
      "source": [
        "# Split at 10% test, we will use the training split for validation as well\r\n",
        "\r\n",
        "\r\n",
        "from sklearn.model_selection import train_test_split\r\n",
        "\r\n",
        "X_train, X_test, y_train, y_test = train_test_split(X, y,\r\n",
        "                                                stratify=y, \r\n",
        "                                                test_size=0.10)"
      ],
      "execution_count": 8,
      "outputs": []
    },
    {
      "cell_type": "code",
      "metadata": {
        "colab": {
          "base_uri": "https://localhost:8080/"
        },
        "id": "zpd9Do8RUMoN",
        "outputId": "755ba00e-347a-4ca9-dc17-31e98c501ff4"
      },
      "source": [
        "# Check sizes\r\n",
        "\r\n",
        "print('X_train: ',X_train.shape)\r\n",
        "print('X_test: ',X_test.shape)\r\n",
        "print('y_train: ',y_train.shape)\r\n",
        "print('y_test: ',y_test.shape)\r\n"
      ],
      "execution_count": 9,
      "outputs": [
        {
          "output_type": "stream",
          "text": [
            "X_train:  (359,)\n",
            "X_test:  (40,)\n",
            "y_train:  (359,)\n",
            "y_test:  (40,)\n"
          ],
          "name": "stdout"
        }
      ]
    },
    {
      "cell_type": "code",
      "metadata": {
        "colab": {
          "base_uri": "https://localhost:8080/"
        },
        "id": "TGXf3vqVUN_f",
        "outputId": "922214ec-b473-4e13-cd23-29c0564c75e8"
      },
      "source": [
        "# Check class ratios\r\n",
        "\r\n",
        "print(y_train.value_counts())\r\n",
        "print()\r\n",
        "print(y_test.value_counts())"
      ],
      "execution_count": 10,
      "outputs": [
        {
          "output_type": "stream",
          "text": [
            "Viral Pneumonia    120\n",
            "COVID-19           120\n",
            "Normal             119\n",
            "Name: Class, dtype: int64\n",
            "\n",
            "Normal             14\n",
            "Viral Pneumonia    13\n",
            "COVID-19           13\n",
            "Name: Class, dtype: int64\n"
          ],
          "name": "stdout"
        }
      ]
    },
    {
      "cell_type": "code",
      "metadata": {
        "colab": {
          "base_uri": "https://localhost:8080/"
        },
        "id": "kdCPYPxOVaR5",
        "outputId": "97be52a3-afbd-47cb-abba-e900d4793501"
      },
      "source": [
        "# Check unique feature counts\r\n",
        "\r\n",
        "print(len(X_train.unique()))\r\n",
        "print(len(X_test.unique()))"
      ],
      "execution_count": 11,
      "outputs": [
        {
          "output_type": "stream",
          "text": [
            "359\n",
            "40\n"
          ],
          "name": "stdout"
        }
      ]
    },
    {
      "cell_type": "code",
      "metadata": {
        "colab": {
          "base_uri": "https://localhost:8080/"
        },
        "id": "ipRN9NoqX4uq",
        "outputId": "a019d4f6-8a8e-45a3-ae3c-5fff1d8e769c"
      },
      "source": [
        "# Check no data leakage between train and test sets\r\n",
        "\r\n",
        "X_train_unique = set(X_train.values)\r\n",
        "X_test_unique = set(X_test.values)\r\n",
        "    \r\n",
        "images_both_groups = list(X_train_unique.intersection(X_test_unique))\r\n",
        "images_both_groups == []"
      ],
      "execution_count": 12,
      "outputs": [
        {
          "output_type": "execute_result",
          "data": {
            "text/plain": [
              "True"
            ]
          },
          "metadata": {
            "tags": []
          },
          "execution_count": 12
        }
      ]
    },
    {
      "cell_type": "code",
      "metadata": {
        "id": "jsQKPPBHgweu"
      },
      "source": [
        "# Split train for 15% val\r\n",
        "\r\n",
        "from sklearn.model_selection import train_test_split\r\n",
        "\r\n",
        "X_train, X_val, y_train, y_val = train_test_split(X_train, y_train,\r\n",
        "                                                stratify=y_train, \r\n",
        "                                                test_size=0.15)"
      ],
      "execution_count": 13,
      "outputs": []
    },
    {
      "cell_type": "code",
      "metadata": {
        "colab": {
          "base_uri": "https://localhost:8080/"
        },
        "id": "LzZYzfOFkOOh",
        "outputId": "6856cdd5-2cfb-4af2-d02c-5ae1dee3efb6"
      },
      "source": [
        "# Check sizes\r\n",
        "\r\n",
        "print('X_train: ',X_train.shape)\r\n",
        "print('X_val: ',X_val.shape)\r\n",
        "print('y_train: ',y_train.shape)\r\n",
        "print('y_val: ',y_val.shape)\r\n"
      ],
      "execution_count": 14,
      "outputs": [
        {
          "output_type": "stream",
          "text": [
            "X_train:  (305,)\n",
            "X_val:  (54,)\n",
            "y_train:  (305,)\n",
            "y_val:  (54,)\n"
          ],
          "name": "stdout"
        }
      ]
    },
    {
      "cell_type": "code",
      "metadata": {
        "colab": {
          "base_uri": "https://localhost:8080/"
        },
        "id": "9kk2lguYm_Vk",
        "outputId": "a01b9531-237d-4690-c71f-94a83198886b"
      },
      "source": [
        "# Check class ratios\r\n",
        "\r\n",
        "print(y_train.value_counts())\r\n",
        "print()\r\n",
        "print(y_val.value_counts())"
      ],
      "execution_count": 15,
      "outputs": [
        {
          "output_type": "stream",
          "text": [
            "COVID-19           102\n",
            "Viral Pneumonia    102\n",
            "Normal             101\n",
            "Name: Class, dtype: int64\n",
            "\n",
            "Viral Pneumonia    18\n",
            "Normal             18\n",
            "COVID-19           18\n",
            "Name: Class, dtype: int64\n"
          ],
          "name": "stdout"
        }
      ]
    },
    {
      "cell_type": "code",
      "metadata": {
        "id": "pkrE4E3OctlK"
      },
      "source": [
        "# Concatenate dataframes\r\n",
        "\r\n",
        "training =  pd.concat([X_train, y_train], axis=1)\r\n",
        "validation = pd.concat([X_val, y_val], axis=1)"
      ],
      "execution_count": 16,
      "outputs": []
    },
    {
      "cell_type": "code",
      "metadata": {
        "colab": {
          "base_uri": "https://localhost:8080/"
        },
        "id": "zTdct_NUdwov",
        "outputId": "f1726f51-6cfe-49bc-89db-f48efa7d21d8"
      },
      "source": [
        "print(training.head())\r\n",
        "print()\r\n",
        "print(validation.head())"
      ],
      "execution_count": 17,
      "outputs": [
        {
          "output_type": "stream",
          "text": [
            "                     FILE NAME            Class\n",
            "275  Viral Pneumonia (769).png  Viral Pneumonia\n",
            "51   Viral Pneumonia (173).png  Viral Pneumonia\n",
            "398           NORMAL (278).png           Normal\n",
            "378           NORMAL (538).png           Normal\n",
            "315  Viral Pneumonia (690).png  Viral Pneumonia\n",
            "\n",
            "                      FILE NAME            Class\n",
            "68           COVID-19 (117).png         COVID-19\n",
            "13   Viral Pneumonia (1072).png  Viral Pneumonia\n",
            "250           NORMAL (1272).png           Normal\n",
            "212           NORMAL (1050).png           Normal\n",
            "199  Viral Pneumonia (1010).png  Viral Pneumonia\n"
          ],
          "name": "stdout"
        }
      ]
    },
    {
      "cell_type": "code",
      "metadata": {
        "colab": {
          "base_uri": "https://localhost:8080/"
        },
        "id": "46JsGw3HcS4g",
        "outputId": "9abd64d6-e59a-446b-8df7-94f32ec3ffcc"
      },
      "source": [
        "# Now we create generators without the original class imbalance and with\r\n",
        "# The normalized features, with 0 mean and a standard deviation of 1\r\n",
        "\r\n",
        "import os\r\n",
        "from keras.preprocessing.image import ImageDataGenerator\r\n",
        "\r\n",
        "# Recall that the images were moved to a folder names XRays. \r\n",
        "training_folder_name = '/gdrive/My Drive/XRays'\r\n",
        "\r\n",
        "# The folder contains a subfolder for each class of shape\r\n",
        "classes = sorted(os.listdir(training_folder_name))\r\n",
        "print(classes)\r\n",
        "\r\n",
        "# Our source images are 1024 x 1024, Resnet 50 is 224 by 224\r\n",
        "image_size = (224,224)\r\n",
        "batch_size = 32\r\n",
        "\r\n",
        "\r\n",
        "print(\"Getting Data...\")\r\n",
        "train_datagen = ImageDataGenerator(samplewise_center=True, # Set each sample mean to 0 \r\n",
        "                             samplewise_std_normalization=True, # Divide each input by its standard deviation\r\n",
        ")\r\n",
        "\r\n",
        "print(\"Preparing training dataset...\")\r\n",
        "\r\n",
        "# Flow from directory with specified batch size and target image size\r\n",
        "train_generator = train_datagen.flow_from_dataframe(\r\n",
        "        dataframe=training,\r\n",
        "        directory='/gdrive/My Drive/XRaysCombo',\r\n",
        "        x_col=\"FILE NAME\", # features\r\n",
        "        y_col= 'Class', # labels\r\n",
        "        class_mode='categorical', # 3 classes\r\n",
        "        batch_size= batch_size, # images per batch\r\n",
        "        shuffle=True, # shuffle the rows or not\r\n",
        "        target_size=(224,224) # width and height of output image this one matches RESNET50\r\n",
        ")"
      ],
      "execution_count": 18,
      "outputs": [
        {
          "output_type": "stream",
          "text": [
            "['COVID-19', 'Normal', 'Viral Pneumonia']\n",
            "Getting Data...\n",
            "Preparing training dataset...\n",
            "Found 305 validated image filenames belonging to 3 classes.\n"
          ],
          "name": "stdout"
        }
      ]
    },
    {
      "cell_type": "code",
      "metadata": {
        "colab": {
          "base_uri": "https://localhost:8080/"
        },
        "id": "JvdR5g8Rf302",
        "outputId": "aae34ec7-e6e9-4a34-e69d-c3c6caab3f21"
      },
      "source": [
        "# create validation set using normalization statistics from\r\n",
        "# the training set only\r\n",
        "\r\n",
        "print(classes)\r\n",
        "print(\"Getting Data...\")\r\n",
        "\r\n",
        "test_datagen = ImageDataGenerator(\r\n",
        "        featurewise_center=True,\r\n",
        "        featurewise_std_normalization= True)\r\n",
        "\r\n",
        "counter = 0\r\n",
        "\r\n",
        "train_generator.reset()\r\n",
        "\r\n",
        "# generate sample of entire training set\r\n",
        "train_sample =np.concatenate([train_generator.next()[0] for i in range(train_generator.__len__())])\r\n",
        "\r\n",
        "# generator fitted with training set only\r\n",
        "test_datagen.fit(train_sample)\r\n",
        "\r\n",
        "\r\n",
        "print(\"Preparing validation dataset...\")\r\n",
        "\r\n",
        "# Flow from directory with specified batch size and target image size\r\n",
        "validation_generator = test_datagen.flow_from_dataframe(\r\n",
        "        dataframe=validation,\r\n",
        "        directory='/gdrive/My Drive/XRaysCombo',\r\n",
        "        x_col=\"FILE NAME\", # features\r\n",
        "        y_col= 'Class', # labels\r\n",
        "        class_mode='categorical', # 3 classes\r\n",
        "        batch_size= batch_size, # images per batch\r\n",
        "        shuffle=True, # shuffle the rows or not\r\n",
        "        target_size=(224,224) # width and height of output image this one matches RESNET50\r\n",
        ")\r\n"
      ],
      "execution_count": 19,
      "outputs": [
        {
          "output_type": "stream",
          "text": [
            "['COVID-19', 'Normal', 'Viral Pneumonia']\n",
            "Getting Data...\n",
            "Preparing validation dataset...\n",
            "Found 54 validated image filenames belonging to 3 classes.\n"
          ],
          "name": "stdout"
        }
      ]
    },
    {
      "cell_type": "code",
      "metadata": {
        "id": "PmkuyeCmNtRl"
      },
      "source": [
        "# Reset training generator back to its original state\r\n",
        "train_generator.reset()"
      ],
      "execution_count": 20,
      "outputs": []
    },
    {
      "cell_type": "code",
      "metadata": {
        "id": "rq0AA6cVRfny"
      },
      "source": [
        "# save newly created dataframes for later use\r\n",
        "training_covid = training.to_csv('/gdrive/My Drive/training_covid', header=True)\r\n",
        "validation_covid = validation.to_csv('/gdrive/My Drive/validation_covid', header=True)\r\n",
        "X_test_covid = X_test.to_csv('/gdrive/My Drive/X_test_covid', header=True)\r\n",
        "y_test_covid = allclasses.to_csv('/gdrive/My Drive/y_test_covid', header=True)"
      ],
      "execution_count": 21,
      "outputs": []
    }
  ]
}