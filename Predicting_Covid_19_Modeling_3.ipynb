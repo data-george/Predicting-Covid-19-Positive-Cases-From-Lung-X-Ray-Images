{
 "cells": [
  {
   "cell_type": "code",
   "execution_count": 1,
   "metadata": {
    "colab": {
     "base_uri": "https://localhost:8080/"
    },
    "id": "dvR4XJ8m4sD9",
    "outputId": "58410fd5-81b9-4a3d-a229-5aea6c4ea1ff"
   },
   "outputs": [
    {
     "name": "stdout",
     "output_type": "stream",
     "text": [
      "2.4.0\n"
     ]
    }
   ],
   "source": [
    "# We will construct a Densenet121 transfer learning model with \n",
    "# a Densenet121 base and a custom head\n",
    "\n",
    "# Let's first import all necessary libraries\n",
    "\n",
    "import tensorflow as tf\n",
    "print(tf.__version__)"
   ]
  },
  {
   "cell_type": "code",
   "execution_count": 2,
   "metadata": {
    "id": "Y9PtHaKc49LC"
   },
   "outputs": [],
   "source": [
    "import pandas as pd\n",
    "import numpy as np"
   ]
  },
  {
   "cell_type": "code",
   "execution_count": 3,
   "metadata": {
    "colab": {
     "base_uri": "https://localhost:8080/"
    },
    "id": "bJjnuYG-4_xj",
    "outputId": "06506052-0cdb-4594-c485-d0fcc3257eed"
   },
   "outputs": [
    {
     "name": "stdout",
     "output_type": "stream",
     "text": [
      "Mounted at /gdrive\n"
     ]
    }
   ],
   "source": [
    "# mount drive\n",
    "\n",
    "from google.colab import drive\n",
    "drive.mount('/gdrive')"
   ]
  },
  {
   "cell_type": "code",
   "execution_count": 4,
   "metadata": {
    "id": "a7SZDcXe5Clc"
   },
   "outputs": [],
   "source": [
    "# previously constructed dataframes that split the data\n",
    "\n",
    "training_covid = pd.read_csv('/gdrive/My Drive/training_covid')\n",
    "validation_covid = pd.read_csv('/gdrive/My Drive/validation_covid')\n",
    "X_test_covid = pd.read_csv('/gdrive/My Drive/X_test_covid')\n",
    "y_test_covid = pd.read_csv('/gdrive/My Drive/y_test_covid')"
   ]
  },
  {
   "cell_type": "code",
   "execution_count": 5,
   "metadata": {
    "id": "uplCP81h5F8a"
   },
   "outputs": [],
   "source": [
    "testing_covid = pd.concat([X_test_covid, y_test_covid], axis=1)"
   ]
  },
  {
   "cell_type": "code",
   "execution_count": 6,
   "metadata": {
    "id": "HpBaZVY75LNE"
   },
   "outputs": [],
   "source": [
    "# Now we create generators without the original class imbalance and with\n",
    "# The normalized features, with 0 mean and a standard deviation of 1\n",
    "\n",
    "import os\n",
    "from keras.preprocessing.image import ImageDataGenerator\n",
    "\n",
    "# Recall that the images were moved to a folder names XRays. \n",
    "image_dir = '/gdrive/My Drive/XRays'"
   ]
  },
  {
   "cell_type": "code",
   "execution_count": 7,
   "metadata": {
    "id": "C7KXECkj5O8e"
   },
   "outputs": [],
   "source": [
    "\n",
    "def get_train_generator(train_df, image_dir, x_col, y_col, shuffle=True, batch_size=8, target_w = 224, target_h = 224):\n",
    "  \"\"\"\n",
    "  Return generator for training set, normalizing using batch\n",
    "  statistics.\n",
    "\n",
    "  Args:\n",
    "    train_df (dataframe): dataframe specifying training data.\n",
    "    image_dir (str): directory where image files are held.\n",
    "    x_col (str): name of column in df that holds filenames.\n",
    "    y_cols (list): list of strings that hold y labels for images.\n",
    "    batch_size (int): images per batch to be fed into model during training.\n",
    "    seed (int): random seed.\n",
    "    target_w (int): final width of input images.\n",
    "    target_h (int): final height of input images.\n",
    "    \n",
    "    Returns:\n",
    "      train_generator (DataFrameIterator): iterator over training set\n",
    "    \"\"\" \n",
    "  # The folder contains a subfolder for each class of shape\n",
    "    \n",
    "  classes = sorted(os.listdir(image_dir))\n",
    "  print(classes)\n",
    "  train_datagen = ImageDataGenerator(samplewise_center=True, # Set each sample mean to 0 \n",
    "                             samplewise_std_normalization=True, # Divide each input by its standard deviation\n",
    "  )\n",
    "\n",
    "  print(\"Preparing training dataset...\\n\")\n",
    "\n",
    "  # Flow from directory with specified batch size and target image size\n",
    "  train_generator = train_datagen.flow_from_dataframe(\n",
    "        dataframe=train_df,\n",
    "        directory='/gdrive/My Drive/XRaysCombo',\n",
    "        x_col=x_col, # features\n",
    "        y_col=y_col, # labels\n",
    "        class_mode='categorical', # 3 classes\n",
    "        batch_size= batch_size, # images per batch\n",
    "        shuffle=shuffle, # shuffle the rows or not\n",
    "        target_size=(target_w, target_h) # width and height of output image this one matches RESNET50\n",
    "  )\n",
    "  return train_generator"
   ]
  },
  {
   "cell_type": "code",
   "execution_count": 8,
   "metadata": {
    "id": "sX9XCXmX5UWy"
   },
   "outputs": [],
   "source": [
    "def get_test_and_valid_generator(valid_df, test_df, train_df, image_dir, x_col, y_col, sample_batch_size=305, batch_size=8, target_w = 224, target_h = 224):\n",
    "  \"\"\"\n",
    "  Return generator for validation set and test test set using \n",
    "  normalization statistics from training set.\n",
    "\n",
    "  Args:\n",
    "    valid_df (dataframe): dataframe specifying validation data.\n",
    "    test_df (dataframe): dataframe specifying test data.\n",
    "    train_df (dataframe): dataframe specifying training data.\n",
    "    image_dir (str): directory where image files are held.\n",
    "    x_col (str): name of column in df that holds filenames.\n",
    "    y_cols (list): list of strings that hold y labels for images.\n",
    "    sample_size (int): size of sample to use for normalization statistics.\n",
    "    batch_size (int): images per batch to be fed into model during training.\n",
    "    seed (int): random seed.\n",
    "    target_w (int): final width of input images.\n",
    "    target_h (int): final height of input images.\n",
    "    \n",
    "  Returns:\n",
    "      test_generator (DataFrameIterator) and valid_generator: iterators over test set and validation set respectively\n",
    "    \"\"\"\n",
    "\n",
    "  # create validation set using normalization statistics from\n",
    "  # the training set only\n",
    "\n",
    "  print(\"\\nSampling normalization statistics from training only...\\n\")\n",
    "\n",
    "  \n",
    "  \n",
    "  # Flow from directory with specified batch size and target image size\n",
    "  sample_generator = ImageDataGenerator().flow_from_dataframe(\n",
    "        dataframe=train_df,\n",
    "        directory='/gdrive/My Drive/XRaysCombo',\n",
    "        x_col=x_col, # features\n",
    "        y_col=y_col, # labels\n",
    "        class_mode='categorical', # 3 classes\n",
    "        batch_size= batch_size, # images per batch\n",
    "        shuffle=True, # shuffle the rows or not\n",
    "        target_size=(target_w, target_h) # width and height of output image this one matches DensNet\n",
    "  \n",
    "  )\n",
    "  # get data sample\n",
    "  batch = sample_generator.next()\n",
    "  data_sample = batch[0]\n",
    "\n",
    "\n",
    "  # generator fitted with training set only\n",
    "\n",
    "  # use sample to fit mean and std for test set generator\n",
    "  test_datagen = ImageDataGenerator(\n",
    "        featurewise_center=True,\n",
    "        featurewise_std_normalization= True)\n",
    "  \n",
    "  test_datagen.fit(data_sample)\n",
    "\n",
    "\n",
    "  print(\"\\nPreparing validation dataset...\\n\")\n",
    "\n",
    "  # Flow from directory with specified batch size and target image size\n",
    "  validation_generator = test_datagen.flow_from_dataframe(\n",
    "        dataframe=valid_df,\n",
    "        directory='/gdrive/My Drive/XRaysCombo',\n",
    "        x_col=x_col, # features\n",
    "        y_col= y_col, # labels\n",
    "        class_mode='categorical', # 3 classes\n",
    "        batch_size= batch_size, # images per batch\n",
    "        shuffle=False, # shuffle the rows or not\n",
    "        target_size=(target_w, target_h) # width and height of output image this one matches DenseNet\n",
    "  )\n",
    "\n",
    "  print(\"\\nPreparing testing dataset...\\n\")\n",
    "\n",
    "  # Flow from directory with specified batch size and target image size\n",
    "  test_generator = test_datagen.flow_from_dataframe(\n",
    "        dataframe=test_df,\n",
    "        directory='/gdrive/My Drive/XRaysCombo',\n",
    "        x_col=x_col, # features\n",
    "        y_col=y_col, # labels\n",
    "        class_mode='categorical', # 3 classes\n",
    "        batch_size= batch_size, # images per batch\n",
    "        shuffle=False, # shuffle the rows or not\n",
    "        target_size=(target_w, target_h) # width and height of output image this one matches DenseNet\n",
    "  )\n",
    "  return validation_generator, test_generator\n"
   ]
  },
  {
   "cell_type": "code",
   "execution_count": 9,
   "metadata": {
    "colab": {
     "base_uri": "https://localhost:8080/"
    },
    "id": "65XC9ZPL5iJe",
    "outputId": "7d3148e8-9787-41ab-9f41-c0ae36b68a67"
   },
   "outputs": [
    {
     "name": "stdout",
     "output_type": "stream",
     "text": [
      "['COVID-19', 'Normal', 'Viral Pneumonia']\n",
      "Preparing training dataset...\n",
      "\n",
      "Found 305 validated image filenames belonging to 3 classes.\n",
      "\n",
      "Sampling normalization statistics from training only...\n",
      "\n",
      "Found 305 validated image filenames belonging to 3 classes.\n",
      "\n",
      "Preparing validation dataset...\n",
      "\n",
      "Found 54 validated image filenames belonging to 3 classes.\n",
      "\n",
      "Preparing testing dataset...\n",
      "\n",
      "Found 40 validated image filenames belonging to 3 classes.\n"
     ]
    }
   ],
   "source": [
    "train_df = training_covid \n",
    "valid_df = validation_covid\n",
    "test_df = testing_covid\n",
    "x_col = \"FILE NAME\"\n",
    "y_col = 'Class'\n",
    "\n",
    "train_generator = get_train_generator(train_df, image_dir, x_col, y_col)\n",
    "valid_generator, test_generator = get_test_and_valid_generator(valid_df, test_df, train_df, image_dir, x_col, y_col)"
   ]
  },
  {
   "cell_type": "code",
   "execution_count": 10,
   "metadata": {
    "id": "rLieK1OG5oMw"
   },
   "outputs": [],
   "source": [
    "def create_model():\n",
    "  \"\"\"\n",
    "  This function returns a base DenseNet121 transfer learning model trained on\n",
    "  imagenet connected to a head adapted to a 3 class softmax probability\n",
    "  \"\"\"\n",
    "  # we will start by building a DenseNet model\n",
    "  # Build model freezing top layers and adding a dense layer \n",
    "  # with the number of classes\n",
    "  model = tf.keras.Sequential()\n",
    "  # load the DenseNet121 network, ensuring the head FC layer sets are left\n",
    "  # off\n",
    "  base = tf.keras.applications.DenseNet121(weights=\"imagenet\", include_top=False,\n",
    "\t  input_tensor=tf.keras.Input(shape=(224,224,3)))\n",
    "\n",
    "  # construct custom head of the model that will be placed on top of the\n",
    "  # the base model\n",
    "  head = base.output\n",
    "  head = tf.keras.layers.AveragePooling2D(pool_size=(4, 4))(head)\n",
    "  head = tf.keras.layers.Flatten()(head)\n",
    "  head = tf.keras.layers.Dense(528, activation=\"relu\")(head) # Increased complexity\n",
    "  head = tf.keras.layers.Dropout(0.2)(head) # Decreased dropout\n",
    "  head = tf.keras.layers.Dense(3, activation=\"softmax\")(head)\n",
    "\n",
    "  # place the head FC model on top of the base model (this will become\n",
    "  # the actual model we will train)\n",
    "  model = tf.keras.Model(inputs=base.input, outputs=head)\n",
    "\n",
    "  # loop over all layers in the base model and freeze them \n",
    "  for layer in base.layers:\n",
    "\t  layer.trainable = False\n",
    "\n",
    "\n",
    "\n",
    "  # compile model\n",
    "  model.compile(optimizer=tf.keras.optimizers.Adam(), loss='categorical_crossentropy', metrics=['accuracy'])\n",
    "  return model\n",
    "\n"
   ]
  },
  {
   "cell_type": "code",
   "execution_count": 11,
   "metadata": {
    "id": "6UnNAp4y5pg8"
   },
   "outputs": [],
   "source": [
    "# call back to save best weights only (entire model)\n",
    "\n",
    "def get_checkpoint_best_only_conv():\n",
    "    \"\"\"\n",
    "    This function returns a ModelCheckpoint object that:\n",
    "    - saves only the weights that generate the highest validation (testing) accuracy\n",
    "    \"\"\"\n",
    "    checkpoint_path = '/gdrive/MyDrive/covid_densenet121.pb'\n",
    "    model_checkpoint_callback = tf.keras.callbacks.ModelCheckpoint(\n",
    "        filepath=checkpoint_path,\n",
    "        save_weights_only=False,\n",
    "        monitor='val_accuracy',\n",
    "        mode='max',\n",
    "        save_best_only=True\n",
    "        )\n",
    "  \n",
    "    return model_checkpoint_callback"
   ]
  },
  {
   "cell_type": "code",
   "execution_count": 12,
   "metadata": {
    "id": "m6fmOtxX5tph"
   },
   "outputs": [],
   "source": [
    "# callback to stop training if no further improvement\n",
    "\n",
    "def get_early_stopping():\n",
    "    \"\"\"\n",
    "    This function should return an EarlyStopping callback that stops training when\n",
    "    the validation loss has not improved in the last 3 epochs.\n",
    "    \n",
    "    \"\"\"\n",
    "    return tf.keras.callbacks.EarlyStopping(monitor='val_loss', mode=\"min\", patience=3)"
   ]
  },
  {
   "cell_type": "code",
   "execution_count": 13,
   "metadata": {
    "id": "gEokyiOe5w0x"
   },
   "outputs": [],
   "source": [
    "# call back to reduce the learning rate if the model plateaus using recommended parameters\n",
    "# for the Adam optimizer (reduce_on_plateau)\n",
    "\n",
    "# call back to reduce the learning rate (lr_schedule) by the function given every epoch\n",
    "# we can plot the schedule against the loss to set the learning rate\n",
    "\n",
    "checkpoint_best_only = get_checkpoint_best_only_conv()\n",
    "reduce_on_plateau = tf.keras.callbacks.ReduceLROnPlateau(\n",
    "                              monitor='val_loss', \n",
    "                              factor=0.1, patience=2, #kept this factor used for ResNet also\n",
    "                              verbose=1, mode='auto', min_delta=0.0001,\n",
    "                              cooldown=0, min_lr=0)\n",
    "lr_schedule = tf.keras.callbacks.LearningRateScheduler(\n",
    "    lambda epoch: 1e-3 * 10**(epoch / 30))\n",
    "\n",
    "# at first, set the lr only\n",
    "\n",
    "callbacks = [lr_schedule]"
   ]
  },
  {
   "cell_type": "code",
   "execution_count": 14,
   "metadata": {
    "colab": {
     "base_uri": "https://localhost:8080/"
    },
    "id": "lof6NdtJ52SI",
    "outputId": "cce5f4e0-657a-4ef2-ecc8-9ba32fbc8823"
   },
   "outputs": [
    {
     "name": "stdout",
     "output_type": "stream",
     "text": [
      "Downloading data from https://storage.googleapis.com/tensorflow/keras-applications/densenet/densenet121_weights_tf_dim_ordering_tf_kernels_notop.h5\n",
      "29089792/29084464 [==============================] - 0s 0us/step\n",
      "Epoch 1/10\n",
      "38/38 [==============================] - 108s 3s/step - loss: 1.3865 - accuracy: 0.6014 - val_loss: 0.2323 - val_accuracy: 0.8958\n",
      "Epoch 2/10\n",
      "38/38 [==============================] - 59s 2s/step - loss: 0.2854 - accuracy: 0.8614 - val_loss: 0.1799 - val_accuracy: 0.9375\n",
      "Epoch 3/10\n",
      "38/38 [==============================] - 55s 1s/step - loss: 0.2346 - accuracy: 0.8995 - val_loss: 0.3193 - val_accuracy: 0.8750\n",
      "Epoch 4/10\n",
      "38/38 [==============================] - 54s 1s/step - loss: 0.1457 - accuracy: 0.9584 - val_loss: 0.0713 - val_accuracy: 0.9583\n",
      "Epoch 5/10\n",
      "38/38 [==============================] - 55s 1s/step - loss: 0.1329 - accuracy: 0.9412 - val_loss: 0.1302 - val_accuracy: 0.9583\n",
      "Epoch 6/10\n",
      "38/38 [==============================] - 54s 1s/step - loss: 0.0452 - accuracy: 0.9877 - val_loss: 0.1460 - val_accuracy: 0.9583\n",
      "Epoch 7/10\n",
      "38/38 [==============================] - 54s 1s/step - loss: 0.0297 - accuracy: 0.9877 - val_loss: 0.3124 - val_accuracy: 0.9167\n",
      "Epoch 8/10\n",
      "38/38 [==============================] - 54s 1s/step - loss: 0.1446 - accuracy: 0.9342 - val_loss: 0.2193 - val_accuracy: 0.8750\n",
      "Epoch 9/10\n",
      "38/38 [==============================] - 55s 1s/step - loss: 0.1298 - accuracy: 0.9517 - val_loss: 0.2212 - val_accuracy: 0.9167\n",
      "Epoch 10/10\n",
      "38/38 [==============================] - 55s 1s/step - loss: 0.2179 - accuracy: 0.9199 - val_loss: 0.2710 - val_accuracy: 0.9375\n"
     ]
    }
   ],
   "source": [
    "tf.keras.backend.clear_session()\n",
    "tf.random.set_seed(51)\n",
    "np.random.seed(51)\n",
    "\n",
    "# create the model\n",
    "model = create_model()\n",
    "\n",
    "# Fit the model to the training data\n",
    "history = model.fit(train_generator, \n",
    "                              validation_data=valid_generator,\n",
    "                              steps_per_epoch=305//8, \n",
    "                              validation_steps=54//8, \n",
    "                              epochs = 10,\n",
    "                              callbacks=callbacks)"
   ]
  },
  {
   "cell_type": "code",
   "execution_count": 15,
   "metadata": {
    "colab": {
     "base_uri": "https://localhost:8080/",
     "height": 290
    },
    "id": "e4ous32WD0TF",
    "outputId": "6991af13-0508-4f2e-a156-4c3a20dc1dea"
   },
   "outputs": [
    {
     "data": {
      "text/plain": [
       "(0.001, 0.003, 0.0, 2.0)"
      ]
     },
     "execution_count": 15,
     "metadata": {
      "tags": []
     },
     "output_type": "execute_result"
    },
    {
     "data": {
      "image/png": "[encoded data removed]",
      "text/plain": [
       "<Figure size 432x288 with 1 Axes>"
      ]
     },
     "metadata": {
      "needs_background": "light",
      "tags": []
     },
     "output_type": "display_data"
    }
   ],
   "source": [
    "# Check for best rate\n",
    "import matplotlib.pyplot as plt\n",
    "plt.semilogx(history.history[\"lr\"], history.history[\"loss\"])\n",
    "plt.axis([1e-3, 3*1e-3, 0, 2])"
   ]
  },
  {
   "cell_type": "code",
   "execution_count": 16,
   "metadata": {
    "id": "aesw0vVdEXp_"
   },
   "outputs": [],
   "source": [
    "# keep the learning rate at 1e-3 and decrease rate on plateau slightly\n",
    "# save best model, stop training if no further improvement (early stopping callback)\n",
    "\n",
    "checkpoint_best_only = get_checkpoint_best_only_conv()\n",
    "early_stopping = get_early_stopping()\n",
    "reduce_on_plateau = tf.keras.callbacks.ReduceLROnPlateau(\n",
    "                              monitor='val_loss', \n",
    "                              factor=1/30, patience=2,\n",
    "                              verbose=1, mode='auto', min_delta=0.0001,\n",
    "                              cooldown=0, min_lr=0)\n",
    "lr_schedule = tf.keras.callbacks.LearningRateScheduler(\n",
    "    lambda epoch: 1e-3 * 10**(epoch / 30))\n",
    "\n",
    "# now that the range for the best lr is known\n",
    "# use all callbacks\n",
    "\n",
    "callbacks = [checkpoint_best_only, early_stopping, reduce_on_plateau]"
   ]
  },
  {
   "cell_type": "code",
   "execution_count": 17,
   "metadata": {
    "colab": {
     "base_uri": "https://localhost:8080/"
    },
    "id": "UtNGZfQr552F",
    "outputId": "eb4a2b2b-997d-473c-eccd-8404ab8c5b40"
   },
   "outputs": [
    {
     "name": "stdout",
     "output_type": "stream",
     "text": [
      "Epoch 1/30\n",
      "38/38 [==============================] - 63s 1s/step - loss: 1.2359 - accuracy: 0.5654 - val_loss: 0.1472 - val_accuracy: 0.9583\n",
      "INFO:tensorflow:Assets written to: /gdrive/MyDrive/covid_densenet121.pb/assets\n",
      "Epoch 2/30\n",
      "38/38 [==============================] - 60s 2s/step - loss: 0.1734 - accuracy: 0.9514 - val_loss: 0.2926 - val_accuracy: 0.8750\n",
      "Epoch 3/30\n",
      "38/38 [==============================] - 56s 1s/step - loss: 0.1928 - accuracy: 0.9313 - val_loss: 0.0720 - val_accuracy: 0.9792\n",
      "INFO:tensorflow:Assets written to: /gdrive/MyDrive/covid_densenet121.pb/assets\n",
      "Epoch 4/30\n",
      "38/38 [==============================] - 56s 1s/step - loss: 0.1062 - accuracy: 0.9447 - val_loss: 0.1142 - val_accuracy: 0.9583\n",
      "Epoch 5/30\n",
      "38/38 [==============================] - 56s 1s/step - loss: 0.0564 - accuracy: 0.9878 - val_loss: 0.0932 - val_accuracy: 0.9375\n",
      "\n",
      "Epoch 00005: ReduceLROnPlateau reducing learning rate to 3.333333491658171e-05.\n",
      "Epoch 6/30\n",
      "38/38 [==============================] - 57s 1s/step - loss: 0.0395 - accuracy: 0.9871 - val_loss: 0.0720 - val_accuracy: 0.9792\n",
      "Epoch 7/30\n",
      "38/38 [==============================] - 56s 1s/step - loss: 0.0565 - accuracy: 0.9926 - val_loss: 0.0632 - val_accuracy: 0.9792\n",
      "Epoch 8/30\n",
      "38/38 [==============================] - 56s 1s/step - loss: 0.0622 - accuracy: 0.9776 - val_loss: 0.0640 - val_accuracy: 0.9792\n",
      "Epoch 9/30\n",
      "38/38 [==============================] - 57s 2s/step - loss: 0.0447 - accuracy: 0.9851 - val_loss: 0.0645 - val_accuracy: 0.9792\n",
      "\n",
      "Epoch 00009: ReduceLROnPlateau reducing learning rate to 1.1111111234640703e-06.\n",
      "Epoch 10/30\n",
      "38/38 [==============================] - 56s 1s/step - loss: 0.0494 - accuracy: 0.9886 - val_loss: 0.0644 - val_accuracy: 0.9792\n"
     ]
    }
   ],
   "source": [
    "tf.keras.backend.clear_session()\n",
    "tf.random.set_seed(51)\n",
    "np.random.seed(51)\n",
    "\n",
    "# create the model\n",
    "model = create_model()\n",
    "\n",
    "# Fit the model to the training data\n",
    "history = model.fit(train_generator, \n",
    "                              validation_data=valid_generator,\n",
    "                              steps_per_epoch=305//8, \n",
    "                              validation_steps=54//8, \n",
    "                              epochs = 30,\n",
    "                              callbacks=callbacks)"
   ]
  },
  {
   "cell_type": "code",
   "execution_count": 18,
   "metadata": {
    "id": "MnHFL_BLAC4F"
   },
   "outputs": [],
   "source": [
    "# note how the model was last saved at at epoch #6 with a validation accuracy of 0.9792\n",
    "# delete current model variable\n",
    "del model"
   ]
  },
  {
   "cell_type": "code",
   "execution_count": 19,
   "metadata": {
    "id": "yHF0O_jsA6r_"
   },
   "outputs": [],
   "source": [
    "from tensorflow.keras.models import load_model"
   ]
  },
  {
   "cell_type": "code",
   "execution_count": 20,
   "metadata": {
    "id": "EF6SgZkCAL2D"
   },
   "outputs": [],
   "source": [
    "# Reload model from scratch this way we test our saved model\n",
    "\n",
    "model = load_model('/gdrive/MyDrive/covid_densenet121.pb')"
   ]
  },
  {
   "cell_type": "code",
   "execution_count": 21,
   "metadata": {
    "id": "x1bOOjDZARFQ"
   },
   "outputs": [],
   "source": [
    "# predictions with unseen test data\n",
    "prediction = model.predict(test_generator, steps = len(test_generator))"
   ]
  },
  {
   "cell_type": "code",
   "execution_count": 22,
   "metadata": {
    "colab": {
     "base_uri": "https://localhost:8080/"
    },
    "id": "Ary7CkssAVHO",
    "outputId": "b188cc48-9d50-4bbf-bec9-23eb7f55fa90"
   },
   "outputs": [
    {
     "data": {
      "text/plain": [
       "array([2, 1, 2, 2, 2, 2, 2, 2, 0, 0, 2, 1, 1, 1, 1, 2, 1, 0, 0, 1, 0, 0,\n",
       "       0, 2, 1, 2, 2, 0, 1, 2, 2, 2, 1, 0, 2, 0, 0, 0, 0, 2])"
      ]
     },
     "execution_count": 22,
     "metadata": {
      "tags": []
     },
     "output_type": "execute_result"
    }
   ],
   "source": [
    "y_pred = np.argmax(prediction, axis = 1)\n",
    "y_pred"
   ]
  },
  {
   "cell_type": "code",
   "execution_count": 23,
   "metadata": {
    "id": "GgF_fsnTAYl5"
   },
   "outputs": [],
   "source": [
    "# make a list of the class names\n",
    "class_names = ['COVID-19', 'Normal', 'Viral Pneumonia']"
   ]
  },
  {
   "cell_type": "code",
   "execution_count": 24,
   "metadata": {
    "colab": {
     "base_uri": "https://localhost:8080/"
    },
    "id": "QjDrKdf1AcBQ",
    "outputId": "5b9adb0f-da99-4845-824a-6809f0d30df4"
   },
   "outputs": [
    {
     "data": {
      "text/plain": [
       "2    14\n",
       "1    13\n",
       "0    13\n",
       "Name: y_true, dtype: int64"
      ]
     },
     "execution_count": 24,
     "metadata": {
      "tags": []
     },
     "output_type": "execute_result"
    }
   ],
   "source": [
    "# convert test entries to integers for comparison with predictions\n",
    "classcategories = {'COVID-19': 0,'Normal':1,'Viral Pneumonia':2}\n",
    "y_test_covid['y_true'] = [classcategories[x] for x in y_test_covid['Class']]\n",
    "y_test_covid['y_true'].value_counts()"
   ]
  },
  {
   "cell_type": "code",
   "execution_count": 25,
   "metadata": {
    "colab": {
     "base_uri": "https://localhost:8080/"
    },
    "id": "FgqlTwEMAfku",
    "outputId": "5a965d9a-7c4d-4c50-a98a-edeeafbfb1f5"
   },
   "outputs": [
    {
     "data": {
      "text/plain": [
       "array([2, 1, 2, 2, 1, 2, 2, 2, 0, 0, 2, 1, 1, 1, 1, 2, 1, 0, 0, 1, 0, 0,\n",
       "       0, 1, 1, 2, 2, 0, 1, 2, 2, 2, 1, 0, 1, 0, 0, 0, 0, 2])"
      ]
     },
     "execution_count": 25,
     "metadata": {
      "tags": []
     },
     "output_type": "execute_result"
    }
   ],
   "source": [
    "# true values\n",
    "y_test = y_test_covid['y_true'].values\n",
    "y_test"
   ]
  },
  {
   "cell_type": "code",
   "execution_count": 26,
   "metadata": {
    "colab": {
     "base_uri": "https://localhost:8080/",
     "height": 711
    },
    "id": "ZZsaUKyoAjah",
    "outputId": "ba108935-909d-4168-a733-049ec2d8d614"
   },
   "outputs": [
    {
     "name": "stdout",
     "output_type": "stream",
     "text": [
      "Confusion matrix, without normalization\n",
      "[[13  0  0]\n",
      " [ 0 10  3]\n",
      " [ 0  0 14]]\n",
      "Normalized confusion matrix\n",
      "[[1.   0.   0.  ]\n",
      " [0.   0.77 0.23]\n",
      " [0.   0.   1.  ]]\n"
     ]
    },
    {
     "data": {
      "image/png": "[encoded data removed]",
      "text/plain": [
       "<Figure size 432x288 with 2 Axes>"
      ]
     },
     "metadata": {
      "needs_background": "light",
      "tags": []
     },
     "output_type": "display_data"
    },
    {
     "data": {
      "image/png": "[encoded data removed]",
      "text/plain": [
       "<Figure size 432x288 with 2 Axes>"
      ]
     },
     "metadata": {
      "needs_background": "light",
      "tags": []
     },
     "output_type": "display_data"
    }
   ],
   "source": [
    "# confusion matrix\n",
    "\n",
    "import itertools\n",
    "import numpy as np\n",
    "import matplotlib.pyplot as plt\n",
    "\n",
    "from sklearn import svm, datasets\n",
    "from sklearn.model_selection import train_test_split\n",
    "from sklearn.metrics import confusion_matrix\n",
    "\n",
    "def plot_confusion_matrix(cm, classes,\n",
    "                          normalize=False,\n",
    "                          title='Confusion matrix',\n",
    "                          cmap=plt.cm.Blues):\n",
    "    \"\"\"\n",
    "    This function prints and plots the confusion matrix.\n",
    "    Normalization can be applied by setting `normalize=True`.\n",
    "    \"\"\"\n",
    "    if normalize:\n",
    "        cm = cm.astype('float') / cm.sum(axis=1)[:, np.newaxis]\n",
    "        print(\"Normalized confusion matrix\")\n",
    "    else:\n",
    "        print('Confusion matrix, without normalization')\n",
    "\n",
    "    print(cm)\n",
    "\n",
    "    plt.imshow(cm, interpolation='nearest', cmap=cmap)\n",
    "    plt.title(title)\n",
    "    plt.colorbar()\n",
    "    tick_marks = np.arange(len(classes))\n",
    "    plt.xticks(tick_marks, classes, rotation=45)\n",
    "    plt.yticks(tick_marks, classes)\n",
    "\n",
    "    fmt = '.2f' if normalize else 'd'\n",
    "    thresh = cm.max() / 2.\n",
    "    for i, j in itertools.product(range(cm.shape[0]), range(cm.shape[1])):\n",
    "        plt.text(j, i, format(cm[i, j], fmt),\n",
    "                 horizontalalignment=\"center\",\n",
    "                 color=\"white\" if cm[i, j] > thresh else \"black\")\n",
    "\n",
    "    plt.ylabel('True label')\n",
    "    plt.xlabel('Predicted label')\n",
    "    plt.tight_layout()\n",
    "\n",
    "\n",
    "# Compute confusion matrix\n",
    "cnf_matrix = confusion_matrix(y_test, y_pred)\n",
    "np.set_printoptions(precision=2)\n",
    "\n",
    "# Plot non-normalized confusion matrix\n",
    "plt.figure()\n",
    "plot_confusion_matrix(cnf_matrix, classes=class_names,\n",
    "                      title='Confusion matrix, without normalization')\n",
    "#plt.savefig('figures/RF_cm_multi_class.png')\n",
    "\n",
    "# Plot normalized confusion matrix\n",
    "plt.figure()\n",
    "plot_confusion_matrix(cnf_matrix, classes=class_names, normalize=True,\n",
    "                      title='Normalized confusion matrix')\n",
    "#plt.savefig('figures/RF_cm_proportion_multi_class.png', bbox_inches=\"tight\")"
   ]
  },
  {
   "cell_type": "code",
   "execution_count": 27,
   "metadata": {
    "colab": {
     "base_uri": "https://localhost:8080/"
    },
    "id": "syq8ImUpAsSZ",
    "outputId": "5dc29d77-b14f-4f5e-d901-9f59b62f9cb3"
   },
   "outputs": [
    {
     "name": "stdout",
     "output_type": "stream",
     "text": [
      "                 precision    recall  f1-score   support\n",
      "\n",
      "       COVID-19       1.00      1.00      1.00        13\n",
      "         Normal       1.00      0.77      0.87        13\n",
      "Viral Pneumonia       0.82      1.00      0.90        14\n",
      "\n",
      "       accuracy                           0.93        40\n",
      "      macro avg       0.94      0.92      0.92        40\n",
      "   weighted avg       0.94      0.93      0.92        40\n",
      "\n"
     ]
    }
   ],
   "source": [
    "\n",
    "# It looks like the densenet model had a good\n",
    "# recall for covid and viral pneumonia (it would be a medical\n",
    "# team decision as to whether this is most important) but\n",
    "# this is the reason why we must not be misguided by high\n",
    "# accuracy results, there was a high percentage of normal\n",
    "# patients misclassified as pneumonia, thus the normal patient recall\n",
    "# suffered and this model did not do better than \n",
    "# the vgg16, although it did have a validation accuracy of 97.92\n",
    "# the highest we have seen, reminding us not to rely on accuracy\n",
    "# alone as a metric,\n",
    "# to verify, of course with the right computation resources\n",
    "# optimized for neural networks\n",
    "# a cross validation study can be set up when modeling\n",
    "# to verify the robustness of the metrics with averages\n",
    "\n",
    "from sklearn.metrics import classification_report\n",
    "\n",
    "print(classification_report(y_test, y_pred, target_names=class_names))"
   ]
  },
  {
   "cell_type": "code",
   "execution_count": 30,
   "metadata": {
    "colab": {
     "base_uri": "https://localhost:8080/",
     "height": 295
    },
    "id": "7avLRfmvAxIX",
    "outputId": "d7f4715a-08a7-44c7-87c1-b7ca0772c14a"
   },
   "outputs": [
    {
     "data": {
      "image/png": "[encoded data removed]",
      "text/plain": [
       "<Figure size 432x288 with 1 Axes>"
      ]
     },
     "metadata": {
      "needs_background": "light",
      "tags": []
     },
     "output_type": "display_data"
    }
   ],
   "source": [
    "# Visualize training and testing loss (validation set)\n",
    "\n",
    "def plot_loss(history):\n",
    "    '''Function to plot the loss vs. epoch'''\n",
    "    train_loss = history.history['loss'][:3]\n",
    "    test_loss = history.history['val_loss'][:3]\n",
    "    x = list(range(1, len(test_loss) + 1))\n",
    "    plt.plot(x, test_loss, color = 'red', label = 'Test loss')\n",
    "    plt.plot(x, train_loss, label = 'Training losss')\n",
    "    plt.legend()\n",
    "    plt.xlabel('Epoch')\n",
    "    plt.ylabel('Loss')\n",
    "    plt.title('Loss vs. Epoch')\n",
    "    \n",
    "plot_loss(history) "
   ]
  },
  {
   "cell_type": "code",
   "execution_count": 31,
   "metadata": {
    "colab": {
     "base_uri": "https://localhost:8080/",
     "height": 295
    },
    "id": "3MKfKfmxA0-2",
    "outputId": "bcfaa0a3-bee4-4c0c-93f1-36bad2ec638e"
   },
   "outputs": [
    {
     "data": {
      "image/png": "[encoded data removed]",
      "text/plain": [
       "<Figure size 432x288 with 1 Axes>"
      ]
     },
     "metadata": {
      "needs_background": "light",
      "tags": []
     },
     "output_type": "display_data"
    }
   ],
   "source": [
    "# Visualize training and testing accuracy (validation set)\n",
    "\n",
    "def plot_accuracy(history):\n",
    "    train_acc = history.history['accuracy'][:3]\n",
    "    test_acc = history.history['val_accuracy'][:3]\n",
    "    x = list(range(1, len(test_acc) + 1))\n",
    "    plt.plot(x, test_acc, color = 'red', label = 'Test accuracy')\n",
    "    plt.plot(x, train_acc, label = 'Training accuracy')\n",
    "    plt.legend()\n",
    "    plt.xlabel('Epoch')\n",
    "    plt.ylabel('Accuracy')\n",
    "    plt.title('Accuracy vs. Epoch')  \n",
    "    \n",
    "plot_accuracy(history) "
   ]
  },
  {
   "cell_type": "code",
   "execution_count": 32,
   "metadata": {
    "id": "5s8qggPR6Ttn"
   },
   "outputs": [],
   "source": [
    "# You may have noted in our models we have lower loss and higher accuracy\n",
    "# on the validation set. With the architecture we used in this model it does\n",
    "# not seem like it needs an edit as the testing and accuracy\n",
    "# curves do appear to be converging\n",
    "# We knew from the onset that there was very little\n",
    "# covid data, and after we balanced the data, effectively making the exact\n",
    "# amount of covid data the total number we had for each class, we needed to\n",
    "# use just enough validation and test data and still have robust training\n",
    "# which is very challenging with limited data, we need to make\n",
    "# triple sure that we maintained separate test data, validation data\n",
    "# and normalization statistics were from training for\n",
    "# all sample sets. Just for a sanity check, we'll check for leakage one\n",
    "# more time to convince ourselves,"
   ]
  },
  {
   "cell_type": "code",
   "execution_count": 37,
   "metadata": {
    "colab": {
     "base_uri": "https://localhost:8080/"
    },
    "id": "SV8y8BQJ7cdI",
    "outputId": "7b0416f9-4660-43b2-f3d8-81b1c37125f1"
   },
   "outputs": [
    {
     "data": {
      "text/plain": [
       "True"
      ]
     },
     "execution_count": 37,
     "metadata": {
      "tags": []
     },
     "output_type": "execute_result"
    }
   ],
   "source": [
    "\n",
    "# Check no data leakage between feature sets we used\n",
    "\n",
    "training_unique = set(training_covid['FILE NAME'].values)\n",
    "validation_unique = set(validation_covid['FILE NAME'].values)\n",
    "testing_unique = set(testing_covid['FILE NAME'].values)\n",
    "\n",
    "images_both_groups = list(training_unique.intersection(validation_unique).intersection(testing_unique))\n",
    "images_both_groups == []\n",
    "\n",
    "# We should see a convergence on the loss curves and\n",
    "# accuracy curves in validation and test sets as we\n",
    "# gather more data, higher testing and validation\n",
    "# metrics are due to the small test size and the \n",
    "# gap will decrease with more data and running\n",
    "# longer for more epochs, there is no leakage\n",
    "# a viable alternative will be to reduce the \n",
    "# regularization on the affected models as we\n",
    "# briefly mentioned before"
   ]
  }
 ],
 "metadata": {
  "colab": {
   "collapsed_sections": [],
   "name": "Predicting_Covid_19_Modeling_3.ipynb",
   "provenance": []
  },
  "kernelspec": {
   "display_name": "Python 3",
   "language": "python",
   "name": "python3"
  },
  "language_info": {
   "codemirror_mode": {
    "name": "ipython",
    "version": 3
   },
   "file_extension": ".py",
   "mimetype": "text/x-python",
   "name": "python",
   "nbconvert_exporter": "python",
   "pygments_lexer": "ipython3",
   "version": "3.7.3"
  }
 },
 "nbformat": 4,
 "nbformat_minor": 1
}
