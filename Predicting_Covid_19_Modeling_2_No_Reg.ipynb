{
 "cells": [
  {
   "cell_type": "code",
   "execution_count": 1,
   "metadata": {
    "colab": {
     "base_uri": "https://localhost:8080/"
    },
    "id": "3f8ZsiUrH8Uy",
    "outputId": "45301848-f2f6-4d44-aa6b-768b658f2f04"
   },
   "outputs": [
    {
     "name": "stdout",
     "output_type": "stream",
     "text": [
      "2.4.0\n"
     ]
    }
   ],
   "source": [
    "# we will also remove dropout from our ResNet50 model and run again\n",
    "# to see if we can also improve the training vs validation curves\n",
    "# as in the previous notebook with vgg16, architecturally\n",
    "# also note we have to increase in the number of units and dense layers\n",
    "# prior to the softmax layer in the head model\n",
    "\n",
    "# Let's first import all necessary libraries\n",
    "\n",
    "import tensorflow as tf\n",
    "print(tf.__version__)"
   ]
  },
  {
   "cell_type": "code",
   "execution_count": 2,
   "metadata": {
    "id": "wCkPuL29IPX8"
   },
   "outputs": [],
   "source": [
    "import pandas as pd\n",
    "import numpy as np"
   ]
  },
  {
   "cell_type": "code",
   "execution_count": 3,
   "metadata": {
    "colab": {
     "base_uri": "https://localhost:8080/"
    },
    "id": "LeeGsW_KIYr2",
    "outputId": "3475a1e8-9b7e-4905-9758-d454f7f21fc9"
   },
   "outputs": [
    {
     "name": "stdout",
     "output_type": "stream",
     "text": [
      "Mounted at /gdrive\n"
     ]
    }
   ],
   "source": [
    "# mount drive\n",
    "\n",
    "from google.colab import drive\n",
    "drive.mount('/gdrive')"
   ]
  },
  {
   "cell_type": "code",
   "execution_count": 4,
   "metadata": {
    "id": "RtoFZI_6IcmI"
   },
   "outputs": [],
   "source": [
    "# previously constructed dataframes that split the data\n",
    "\n",
    "training_covid = pd.read_csv('/gdrive/My Drive/training_covid')\n",
    "validation_covid = pd.read_csv('/gdrive/My Drive/validation_covid')\n",
    "X_test_covid = pd.read_csv('/gdrive/My Drive/X_test_covid')\n",
    "y_test_covid = pd.read_csv('/gdrive/My Drive/y_test_covid')"
   ]
  },
  {
   "cell_type": "code",
   "execution_count": 5,
   "metadata": {
    "id": "t2RZNWMgIeub"
   },
   "outputs": [],
   "source": [
    "testing_covid = pd.concat([X_test_covid, y_test_covid], axis=1)"
   ]
  },
  {
   "cell_type": "code",
   "execution_count": 6,
   "metadata": {
    "id": "EgGTSAkAImJC"
   },
   "outputs": [],
   "source": [
    "# Now we create generators without the original class imbalance and with\n",
    "# The normalized features, with 0 mean and a standard deviation of 1\n",
    "\n",
    "import os\n",
    "from keras.preprocessing.image import ImageDataGenerator\n",
    "\n",
    "# Recall that the images were moved to a folder names XRays. \n",
    "image_dir = '/gdrive/My Drive/XRays'"
   ]
  },
  {
   "cell_type": "code",
   "execution_count": 7,
   "metadata": {
    "id": "oWv_dp-mIokK"
   },
   "outputs": [],
   "source": [
    "\n",
    "def get_train_generator(train_df, image_dir, x_col, y_col, shuffle=True, batch_size=8, target_w = 224, target_h = 224):\n",
    "  \"\"\"\n",
    "  Return generator for training set, normalizing using batch\n",
    "  statistics.\n",
    "\n",
    "  Args:\n",
    "    train_df (dataframe): dataframe specifying training data.\n",
    "    image_dir (str): directory where image files are held.\n",
    "    x_col (str): name of column in df that holds filenames.\n",
    "    y_cols (list): list of strings that hold y labels for images.\n",
    "    batch_size (int): images per batch to be fed into model during training.\n",
    "    seed (int): random seed.\n",
    "    target_w (int): final width of input images.\n",
    "    target_h (int): final height of input images.\n",
    "    \n",
    "    Returns:\n",
    "      train_generator (DataFrameIterator): iterator over training set\n",
    "    \"\"\" \n",
    "  # The folder contains a subfolder for each class of shape\n",
    "    \n",
    "  classes = sorted(os.listdir(image_dir))\n",
    "  print(classes)\n",
    "  train_datagen = ImageDataGenerator(samplewise_center=True, # Set each sample mean to 0 \n",
    "                             samplewise_std_normalization=True, # Divide each input by its standard deviation\n",
    "  )\n",
    "\n",
    "  print(\"Preparing training dataset...\\n\")\n",
    "\n",
    "  # Flow from directory with specified batch size and target image size\n",
    "  train_generator = train_datagen.flow_from_dataframe(\n",
    "        dataframe=train_df,\n",
    "        directory='/gdrive/My Drive/XRaysCombo',\n",
    "        x_col=x_col, # features\n",
    "        y_col=y_col, # labels\n",
    "        class_mode='categorical', # 3 classes\n",
    "        batch_size= batch_size, # images per batch\n",
    "        shuffle=shuffle, # shuffle the rows or not\n",
    "        target_size=(target_w, target_h) # width and height of output image this one matches RESNET50\n",
    "  )\n",
    "  return train_generator"
   ]
  },
  {
   "cell_type": "code",
   "execution_count": 8,
   "metadata": {
    "id": "qNyNPzXZIvUI"
   },
   "outputs": [],
   "source": [
    "def get_test_and_valid_generator(valid_df, test_df, train_df, image_dir, x_col, y_col, sample_batch_size=305, batch_size=8, target_w = 224, target_h = 224):\n",
    "  \"\"\"\n",
    "  Return generator for validation set and test test set using \n",
    "  normalization statistics from training set.\n",
    "\n",
    "  Args:\n",
    "    valid_df (dataframe): dataframe specifying validation data.\n",
    "    test_df (dataframe): dataframe specifying test data.\n",
    "    train_df (dataframe): dataframe specifying training data.\n",
    "    image_dir (str): directory where image files are held.\n",
    "    x_col (str): name of column in df that holds filenames.\n",
    "    y_cols (list): list of strings that hold y labels for images.\n",
    "    sample_size (int): size of sample to use for normalization statistics.\n",
    "    batch_size (int): images per batch to be fed into model during training.\n",
    "    seed (int): random seed.\n",
    "    target_w (int): final width of input images.\n",
    "    target_h (int): final height of input images.\n",
    "    \n",
    "  Returns:\n",
    "      test_generator (DataFrameIterator) and valid_generator: iterators over test set and validation set respectively\n",
    "    \"\"\"\n",
    "\n",
    "  # create validation set using normalization statistics from\n",
    "  # the training set only\n",
    "\n",
    "  print(\"\\nSampling normalization statistics from training only...\\n\")\n",
    "\n",
    "  \n",
    "  \n",
    "  # Flow from directory with specified batch size and target image size\n",
    "  sample_generator = ImageDataGenerator().flow_from_dataframe(\n",
    "        dataframe=train_df,\n",
    "        directory='/gdrive/My Drive/XRaysCombo',\n",
    "        x_col=x_col, # features\n",
    "        y_col=y_col, # labels\n",
    "        class_mode='categorical', # 3 classes\n",
    "        batch_size= batch_size, # images per batch\n",
    "        shuffle=True, # shuffle the rows or not\n",
    "        target_size=(target_w, target_h) # width and height of output image this one matches RESNET50\n",
    "  \n",
    "  )\n",
    "  # get data sample\n",
    "  batch = sample_generator.next()\n",
    "  data_sample = batch[0]\n",
    "\n",
    "\n",
    "  # generator fitted with training set only\n",
    "\n",
    "  # use sample to fit mean and std for test set generator\n",
    "  test_datagen = ImageDataGenerator(\n",
    "        featurewise_center=True,\n",
    "        featurewise_std_normalization= True)\n",
    "  \n",
    "  test_datagen.fit(data_sample)\n",
    "\n",
    "\n",
    "  print(\"\\nPreparing validation dataset...\\n\")\n",
    "\n",
    "  # Flow from directory with specified batch size and target image size\n",
    "  validation_generator = test_datagen.flow_from_dataframe(\n",
    "        dataframe=valid_df,\n",
    "        directory='/gdrive/My Drive/XRaysCombo',\n",
    "        x_col=x_col, # features\n",
    "        y_col= y_col, # labels\n",
    "        class_mode='categorical', # 3 classes\n",
    "        batch_size= batch_size, # images per batch\n",
    "        shuffle=False, # shuffle the rows or not\n",
    "        target_size=(target_w, target_h) # width and height of output image this one matches RESNET50\n",
    "  )\n",
    "\n",
    "  print(\"\\nPreparing testing dataset...\\n\")\n",
    "\n",
    "  # Flow from directory with specified batch size and target image size\n",
    "  test_generator = test_datagen.flow_from_dataframe(\n",
    "        dataframe=test_df,\n",
    "        directory='/gdrive/My Drive/XRaysCombo',\n",
    "        x_col=x_col, # features\n",
    "        y_col=y_col, # labels\n",
    "        class_mode='categorical', # 3 classes\n",
    "        batch_size= batch_size, # images per batch\n",
    "        shuffle=False, # shuffle the rows or not\n",
    "        target_size=(target_w, target_h) # width and height of output image this one matches RESNET50\n",
    "  )\n",
    "  return validation_generator, test_generator"
   ]
  },
  {
   "cell_type": "code",
   "execution_count": 9,
   "metadata": {
    "colab": {
     "base_uri": "https://localhost:8080/"
    },
    "id": "uvdBWIAvJBpH",
    "outputId": "8c13743a-ba62-40e7-9fcb-0fcf01edd8d0"
   },
   "outputs": [
    {
     "name": "stdout",
     "output_type": "stream",
     "text": [
      "['COVID-19', 'Normal', 'Viral Pneumonia']\n",
      "Preparing training dataset...\n",
      "\n",
      "Found 305 validated image filenames belonging to 3 classes.\n",
      "\n",
      "Sampling normalization statistics from training only...\n",
      "\n",
      "Found 305 validated image filenames belonging to 3 classes.\n",
      "\n",
      "Preparing validation dataset...\n",
      "\n",
      "Found 54 validated image filenames belonging to 3 classes.\n",
      "\n",
      "Preparing testing dataset...\n",
      "\n",
      "Found 40 validated image filenames belonging to 3 classes.\n"
     ]
    }
   ],
   "source": [
    "train_df = training_covid \n",
    "valid_df = validation_covid\n",
    "test_df = testing_covid\n",
    "x_col = \"FILE NAME\"\n",
    "y_col = 'Class'\n",
    "\n",
    "train_generator = get_train_generator(train_df, image_dir, x_col, y_col)\n",
    "valid_generator, test_generator = get_test_and_valid_generator(valid_df, test_df, train_df, image_dir, x_col, y_col)"
   ]
  },
  {
   "cell_type": "code",
   "execution_count": 10,
   "metadata": {
    "id": "6kW7_CudYnHf"
   },
   "outputs": [],
   "source": [
    "def create_model():\n",
    "  \"\"\"\n",
    "  This function returns a base ResNet50 transfer learning model trained on\n",
    "  imagenet connected to a custom head adapted to a 3 class softmax probability\n",
    "  \"\"\"\n",
    "  # we will start by building a ResNet50 model\n",
    "  # Build model freezing top layers and adding a dense layer \n",
    "  # with the number of classes\n",
    "  model = tf.keras.Sequential()\n",
    "  # load the ResNet50 network, ensuring the head FC layer sets are left\n",
    "  # off\n",
    "  base = tf.keras.applications.ResNet50(weights=\"imagenet\", include_top=False,\n",
    "\t  input_tensor=tf.keras.Input(shape=(224,224,3)))\n",
    "\n",
    "  # construct the head of the model that will be placed on top of the\n",
    "  # the base model\n",
    "  head = base.output\n",
    "  head = tf.keras.layers.AveragePooling2D(pool_size=(4, 4))(head)\n",
    "  head = tf.keras.layers.Flatten()(head)\n",
    "  head = tf.keras.layers.Dense(256, activation=\"relu\")(head) # increase units\n",
    "  head = tf.keras.layers.Dense(512, activation=\"relu\")(head) # increase units\n",
    "  head = tf.keras.layers.Dense(512, activation=\"relu\")(head) # increase units\n",
    "  # head = tf.keras.layers.Dropout(0.5)(head) # remove dropout\n",
    "  head = tf.keras.layers.Dense(3, activation=\"softmax\")(head)\n",
    "\n",
    "  # place the head FC model on top of the base model (this will become\n",
    "  # the actual model we will train)\n",
    "  model = tf.keras.Model(inputs=base.input, outputs=head)\n",
    "\n",
    "  # loop over all layers in the base model and freeze them\n",
    "  for layer in base.layers:\n",
    "\t  layer.trainable = False\n",
    "\n",
    "\n",
    "\n",
    "  # compile model\n",
    "  model.compile(optimizer=tf.keras.optimizers.Adam(), loss='categorical_crossentropy', metrics=['accuracy'])\n",
    "  return model"
   ]
  },
  {
   "cell_type": "code",
   "execution_count": 11,
   "metadata": {
    "id": "xdoavvbqY-W1"
   },
   "outputs": [],
   "source": [
    "# call back to save best weights only (entire model)\n",
    "\n",
    "def get_checkpoint_best_only_conv():\n",
    "    \"\"\"\n",
    "    This function returns a ModelCheckpoint object that:\n",
    "    - saves only the weights that generate the highest validation (testing) accuracy\n",
    "    \"\"\"\n",
    "    checkpoint_path = '/gdrive/My Drive/covid_resnet50_no_reg.pb'\n",
    "    model_checkpoint_callback = tf.keras.callbacks.ModelCheckpoint(\n",
    "        filepath=checkpoint_path,\n",
    "        save_weights_only=False,\n",
    "        monitor='val_accuracy',\n",
    "        mode='max',\n",
    "        save_best_only=True\n",
    "        )\n",
    "  \n",
    "    return model_checkpoint_callback"
   ]
  },
  {
   "cell_type": "code",
   "execution_count": 12,
   "metadata": {
    "id": "YS2YZdxP7aeb"
   },
   "outputs": [],
   "source": [
    "# callback to stop training if no further improvement\n",
    "def get_early_stopping():\n",
    "    \"\"\"\n",
    "    This function should return an EarlyStopping callback that stops training when\n",
    "    the validation (testing) loss has not improved in the last 3 epochs.\n",
    "    \n",
    "    \"\"\"\n",
    "    return tf.keras.callbacks.EarlyStopping(monitor='val_loss', mode=\"min\", patience=3)"
   ]
  },
  {
   "cell_type": "code",
   "execution_count": 13,
   "metadata": {
    "id": "y5zIMQCQZKPZ"
   },
   "outputs": [],
   "source": [
    "# call back to reduce the learning rate if the model plateaus using recommended parameters\n",
    "# for the Adam optimizer (reduce_on_plateau)\n",
    "\n",
    "# call back to reduce the learning rate (lr_schedule) by the function given every epoch\n",
    "# we can plot the schedule against the loss to set the learning rate\n",
    "\n",
    "checkpoint_best_only = get_checkpoint_best_only_conv()\n",
    "reduce_on_plateau = tf.keras.callbacks.ReduceLROnPlateau(\n",
    "                              monitor='val_loss', \n",
    "                              factor=0.1, patience=2,\n",
    "                              verbose=1, mode='auto', min_delta=0.0001,\n",
    "                              cooldown=0, min_lr=0)\n",
    "lr_schedule = tf.keras.callbacks.LearningRateScheduler(\n",
    "    lambda epoch: 1e-3 * 10**(epoch / 30))\n",
    "\n",
    "# at first, set the lr only\n",
    "\n",
    "callbacks = [lr_schedule]"
   ]
  },
  {
   "cell_type": "code",
   "execution_count": 14,
   "metadata": {
    "colab": {
     "base_uri": "https://localhost:8080/"
    },
    "id": "pje9vYiaJzJ8",
    "outputId": "16a9bc46-407b-4609-f738-4504c4d7b40e"
   },
   "outputs": [
    {
     "name": "stdout",
     "output_type": "stream",
     "text": [
      "Downloading data from https://storage.googleapis.com/tensorflow/keras-applications/resnet/resnet50_weights_tf_dim_ordering_tf_kernels_notop.h5\n",
      "94773248/94765736 [==============================] - 3s 0us/step\n",
      "Epoch 1/10\n",
      "38/38 [==============================] - 173s 4s/step - loss: 0.8910 - accuracy: 0.5709 - val_loss: 0.4709 - val_accuracy: 0.9167\n",
      "Epoch 2/10\n",
      "38/38 [==============================] - 7s 196ms/step - loss: 0.6027 - accuracy: 0.7435 - val_loss: 0.3718 - val_accuracy: 0.8958\n",
      "Epoch 3/10\n",
      "38/38 [==============================] - 7s 196ms/step - loss: 0.3326 - accuracy: 0.8729 - val_loss: 0.4887 - val_accuracy: 0.8333\n",
      "Epoch 4/10\n",
      "38/38 [==============================] - 7s 197ms/step - loss: 0.4169 - accuracy: 0.8397 - val_loss: 0.3091 - val_accuracy: 0.8750\n",
      "Epoch 5/10\n",
      "38/38 [==============================] - 8s 203ms/step - loss: 0.3050 - accuracy: 0.9117 - val_loss: 0.4561 - val_accuracy: 0.7708\n",
      "Epoch 6/10\n",
      "38/38 [==============================] - 7s 198ms/step - loss: 0.4376 - accuracy: 0.8234 - val_loss: 0.2874 - val_accuracy: 0.8958\n",
      "Epoch 7/10\n",
      "38/38 [==============================] - 7s 197ms/step - loss: 0.3280 - accuracy: 0.8910 - val_loss: 0.2429 - val_accuracy: 0.9167\n",
      "Epoch 8/10\n",
      "38/38 [==============================] - 8s 198ms/step - loss: 0.3068 - accuracy: 0.8767 - val_loss: 0.5611 - val_accuracy: 0.7708\n",
      "Epoch 9/10\n",
      "38/38 [==============================] - 7s 197ms/step - loss: 0.3032 - accuracy: 0.8873 - val_loss: 0.3121 - val_accuracy: 0.8750\n",
      "Epoch 10/10\n",
      "38/38 [==============================] - 7s 197ms/step - loss: 0.2311 - accuracy: 0.9398 - val_loss: 0.3284 - val_accuracy: 0.9167\n"
     ]
    }
   ],
   "source": [
    "tf.keras.backend.clear_session()\n",
    "tf.random.set_seed(51)\n",
    "np.random.seed(51)\n",
    "\n",
    "# create the model\n",
    "model = create_model()\n",
    "\n",
    "# Fit the model to the training data\n",
    "history = model.fit(train_generator, \n",
    "                              validation_data=valid_generator,\n",
    "                              steps_per_epoch=305//8, \n",
    "                              validation_steps=54//8, \n",
    "                              epochs = 10,\n",
    "                              callbacks=callbacks)"
   ]
  },
  {
   "cell_type": "code",
   "execution_count": 15,
   "metadata": {
    "colab": {
     "base_uri": "https://localhost:8080/",
     "height": 290
    },
    "id": "B15qg1zmZXh7",
    "outputId": "4379ab90-a440-4eff-f0c8-b6997fab5c52"
   },
   "outputs": [
    {
     "data": {
      "text/plain": [
       "(0.001, 0.003, 0.0, 2.0)"
      ]
     },
     "execution_count": 15,
     "metadata": {
      "tags": []
     },
     "output_type": "execute_result"
    },
    {
     "data": {
      "image/png": "[encoded data removed]",
      "text/plain": [
       "<Figure size 432x288 with 1 Axes>"
      ]
     },
     "metadata": {
      "needs_background": "light",
      "tags": []
     },
     "output_type": "display_data"
    }
   ],
   "source": [
    "# Check for best rate\n",
    "import matplotlib.pyplot as plt\n",
    "plt.semilogx(history.history[\"lr\"], history.history[\"loss\"])\n",
    "plt.axis([1e-3, 3*1e-3, 0, 2])"
   ]
  },
  {
   "cell_type": "code",
   "execution_count": 16,
   "metadata": {
    "id": "K9qGOmrF8QbZ"
   },
   "outputs": [],
   "source": [
    "# keep the learning rate at 1e-3 and decrease rate on plateau slightly\n",
    "# save best model, stop training if no further improvement (early stopping callback)\n",
    "\n",
    "checkpoint_best_only = get_checkpoint_best_only_conv()\n",
    "early_stopping = get_early_stopping()\n",
    "reduce_on_plateau = tf.keras.callbacks.ReduceLROnPlateau(\n",
    "                              monitor='val_loss', \n",
    "                              factor=0.1, patience=2,\n",
    "                              verbose=1, mode='auto', min_delta=0.0001,\n",
    "                              cooldown=0, min_lr=0)\n",
    "lr_schedule = tf.keras.callbacks.LearningRateScheduler(\n",
    "    lambda epoch: 1e-3 * 10**(epoch / 30))\n",
    "\n",
    "# now that the best range for the learning rate is known\n",
    "# use all callbacks\n",
    "\n",
    "callbacks = [checkpoint_best_only, early_stopping, reduce_on_plateau]"
   ]
  },
  {
   "cell_type": "code",
   "execution_count": 17,
   "metadata": {
    "colab": {
     "base_uri": "https://localhost:8080/"
    },
    "id": "gjnwPMvX8eE6",
    "outputId": "6533d8bd-c3b5-40f5-b550-1ff7d462f294"
   },
   "outputs": [
    {
     "name": "stdout",
     "output_type": "stream",
     "text": [
      "Epoch 1/30\n",
      "38/38 [==============================] - 11s 225ms/step - loss: 1.1636 - accuracy: 0.4391 - val_loss: 0.5905 - val_accuracy: 0.7500\n",
      "INFO:tensorflow:Assets written to: /gdrive/My Drive/covid_resnet50_no_reg.pb/assets\n",
      "Epoch 2/30\n",
      "38/38 [==============================] - 8s 200ms/step - loss: 0.5688 - accuracy: 0.8008 - val_loss: 0.5452 - val_accuracy: 0.7917\n",
      "INFO:tensorflow:Assets written to: /gdrive/My Drive/covid_resnet50_no_reg.pb/assets\n",
      "Epoch 3/30\n",
      "38/38 [==============================] - 8s 199ms/step - loss: 0.4331 - accuracy: 0.8287 - val_loss: 0.6600 - val_accuracy: 0.6667\n",
      "Epoch 4/30\n",
      "38/38 [==============================] - 8s 205ms/step - loss: 0.3953 - accuracy: 0.8570 - val_loss: 0.3638 - val_accuracy: 0.8958\n",
      "INFO:tensorflow:Assets written to: /gdrive/My Drive/covid_resnet50_no_reg.pb/assets\n",
      "Epoch 5/30\n",
      "38/38 [==============================] - 8s 199ms/step - loss: 0.2615 - accuracy: 0.8856 - val_loss: 0.4034 - val_accuracy: 0.9167\n",
      "INFO:tensorflow:Assets written to: /gdrive/My Drive/covid_resnet50_no_reg.pb/assets\n",
      "Epoch 6/30\n",
      "38/38 [==============================] - 8s 200ms/step - loss: 0.2681 - accuracy: 0.9255 - val_loss: 0.4935 - val_accuracy: 0.7917\n",
      "\n",
      "Epoch 00006: ReduceLROnPlateau reducing learning rate to 0.00010000000474974513.\n",
      "Epoch 7/30\n",
      "38/38 [==============================] - 8s 207ms/step - loss: 0.3072 - accuracy: 0.8790 - val_loss: 0.2193 - val_accuracy: 0.8958\n",
      "Epoch 8/30\n",
      "38/38 [==============================] - 8s 197ms/step - loss: 0.1718 - accuracy: 0.9421 - val_loss: 0.2112 - val_accuracy: 0.9167\n",
      "Epoch 9/30\n",
      "38/38 [==============================] - 8s 199ms/step - loss: 0.1224 - accuracy: 0.9679 - val_loss: 0.2099 - val_accuracy: 0.9375\n",
      "INFO:tensorflow:Assets written to: /gdrive/My Drive/covid_resnet50_no_reg.pb/assets\n",
      "Epoch 10/30\n",
      "38/38 [==============================] - 8s 199ms/step - loss: 0.1279 - accuracy: 0.9614 - val_loss: 0.2066 - val_accuracy: 0.9167\n",
      "Epoch 11/30\n",
      "38/38 [==============================] - 8s 217ms/step - loss: 0.1352 - accuracy: 0.9581 - val_loss: 0.2046 - val_accuracy: 0.8958\n",
      "Epoch 12/30\n",
      "38/38 [==============================] - 8s 202ms/step - loss: 0.1148 - accuracy: 0.9660 - val_loss: 0.2046 - val_accuracy: 0.9375\n",
      "Epoch 13/30\n",
      "38/38 [==============================] - 7s 197ms/step - loss: 0.0984 - accuracy: 0.9568 - val_loss: 0.2087 - val_accuracy: 0.9375\n",
      "\n",
      "Epoch 00013: ReduceLROnPlateau reducing learning rate to 1.0000000474974514e-05.\n",
      "Epoch 14/30\n",
      "38/38 [==============================] - 7s 197ms/step - loss: 0.0637 - accuracy: 0.9844 - val_loss: 0.2087 - val_accuracy: 0.9375\n",
      "Epoch 15/30\n",
      "38/38 [==============================] - 8s 199ms/step - loss: 0.0862 - accuracy: 0.9828 - val_loss: 0.2063 - val_accuracy: 0.9375\n",
      "\n",
      "Epoch 00015: ReduceLROnPlateau reducing learning rate to 1.0000000656873453e-06.\n"
     ]
    }
   ],
   "source": [
    "tf.keras.backend.clear_session()\n",
    "tf.random.set_seed(51)\n",
    "np.random.seed(51)\n",
    "\n",
    "# create the model\n",
    "model = create_model()\n",
    "\n",
    "# Fit the model to the training data\n",
    "history = model.fit(train_generator, \n",
    "                              validation_data=valid_generator,\n",
    "                              steps_per_epoch=305//8, \n",
    "                              validation_steps=54//8, \n",
    "                              epochs = 30,\n",
    "                              callbacks=callbacks)"
   ]
  },
  {
   "cell_type": "code",
   "execution_count": 18,
   "metadata": {
    "id": "sWGJcTOj8gAV"
   },
   "outputs": [],
   "source": [
    "# note how the model was last saved at at epoch #9 with a validation accuracy of 0.9375\n",
    "# delete current model variable\n",
    "del model"
   ]
  },
  {
   "cell_type": "code",
   "execution_count": 19,
   "metadata": {
    "id": "ZfaAf1pG8lr2"
   },
   "outputs": [],
   "source": [
    "from tensorflow.keras.models import load_model"
   ]
  },
  {
   "cell_type": "code",
   "execution_count": 30,
   "metadata": {
    "id": "4qnGwmiA8o-_"
   },
   "outputs": [],
   "source": [
    "# Reload model from scratch this way we test our saved model\n",
    "\n",
    "model = load_model('/gdrive/My Drive/covid_resnet50_no_reg.pb')"
   ]
  },
  {
   "cell_type": "code",
   "execution_count": 31,
   "metadata": {
    "id": "jxr5c9d9J01F"
   },
   "outputs": [],
   "source": [
    "# predictions with unseen test data\n",
    "prediction = model.predict(test_generator, steps = len(test_generator))"
   ]
  },
  {
   "cell_type": "code",
   "execution_count": 32,
   "metadata": {
    "colab": {
     "base_uri": "https://localhost:8080/"
    },
    "id": "leywYGvFJ7Nj",
    "outputId": "35a5eb9c-f25d-4bdc-959f-589c003a4102"
   },
   "outputs": [
    {
     "data": {
      "text/plain": [
       "array([0, 1, 2, 2, 2, 2, 2, 2, 0, 0, 2, 1, 1, 2, 1, 2, 1, 0, 2, 2, 0, 0,\n",
       "       0, 1, 1, 2, 2, 0, 1, 2, 2, 2, 1, 0, 2, 0, 0, 0, 0, 2])"
      ]
     },
     "execution_count": 32,
     "metadata": {
      "tags": []
     },
     "output_type": "execute_result"
    }
   ],
   "source": [
    "y_pred = np.argmax(prediction, axis = 1)\n",
    "y_pred"
   ]
  },
  {
   "cell_type": "code",
   "execution_count": 33,
   "metadata": {
    "id": "s2kp8nKfKFjg"
   },
   "outputs": [],
   "source": [
    "# make a list of the class names\n",
    "class_names = ['COVID-19', 'Normal', 'Viral Pneumonia']"
   ]
  },
  {
   "cell_type": "code",
   "execution_count": 34,
   "metadata": {
    "colab": {
     "base_uri": "https://localhost:8080/"
    },
    "id": "74-8fgzRKJfO",
    "outputId": "376df212-8f2b-44ea-8508-c256282e5f20"
   },
   "outputs": [
    {
     "data": {
      "text/plain": [
       "2    14\n",
       "1    13\n",
       "0    13\n",
       "Name: y_true, dtype: int64"
      ]
     },
     "execution_count": 34,
     "metadata": {
      "tags": []
     },
     "output_type": "execute_result"
    }
   ],
   "source": [
    "# convert test entries to integers for comparison with predictions\n",
    "classcategories = {'COVID-19': 0,'Normal':1,'Viral Pneumonia':2}\n",
    "y_test_covid['y_true'] = [classcategories[x] for x in y_test_covid['Class']]\n",
    "y_test_covid['y_true'].value_counts()"
   ]
  },
  {
   "cell_type": "code",
   "execution_count": 35,
   "metadata": {
    "colab": {
     "base_uri": "https://localhost:8080/"
    },
    "id": "_6dyt6AnKKqO",
    "outputId": "b90efb31-bae7-4a75-976a-e7c4dfe50138"
   },
   "outputs": [
    {
     "data": {
      "text/plain": [
       "array([2, 1, 2, 2, 1, 2, 2, 2, 0, 0, 2, 1, 1, 1, 1, 2, 1, 0, 0, 1, 0, 0,\n",
       "       0, 1, 1, 2, 2, 0, 1, 2, 2, 2, 1, 0, 1, 0, 0, 0, 0, 2])"
      ]
     },
     "execution_count": 35,
     "metadata": {
      "tags": []
     },
     "output_type": "execute_result"
    }
   ],
   "source": [
    "# true values\n",
    "y_test = y_test_covid['y_true'].values\n",
    "y_test"
   ]
  },
  {
   "cell_type": "code",
   "execution_count": 36,
   "metadata": {
    "colab": {
     "base_uri": "https://localhost:8080/",
     "height": 711
    },
    "id": "UdIQdN62KTr7",
    "outputId": "9ab7c543-fd99-4643-f1e2-6267611ceebd"
   },
   "outputs": [
    {
     "name": "stdout",
     "output_type": "stream",
     "text": [
      "Confusion matrix, without normalization\n",
      "[[12  0  1]\n",
      " [ 0  9  4]\n",
      " [ 1  0 13]]\n",
      "Normalized confusion matrix\n",
      "[[0.92 0.   0.08]\n",
      " [0.   0.69 0.31]\n",
      " [0.07 0.   0.93]]\n"
     ]
    },
    {
     "data": {
      "image/png": "[encoded data removed]",
      "text/plain": [
       "<Figure size 432x288 with 2 Axes>"
      ]
     },
     "metadata": {
      "needs_background": "light",
      "tags": []
     },
     "output_type": "display_data"
    },
    {
     "data": {
      "image/png": "[encoded data removed]",
      "text/plain": [
       "<Figure size 432x288 with 2 Axes>"
      ]
     },
     "metadata": {
      "needs_background": "light",
      "tags": []
     },
     "output_type": "display_data"
    }
   ],
   "source": [
    "# confusion matrix\n",
    "\n",
    "import itertools\n",
    "import numpy as np\n",
    "import matplotlib.pyplot as plt\n",
    "\n",
    "from sklearn import svm, datasets\n",
    "from sklearn.model_selection import train_test_split\n",
    "from sklearn.metrics import confusion_matrix\n",
    "\n",
    "def plot_confusion_matrix(cm, classes,\n",
    "                          normalize=False,\n",
    "                          title='Confusion matrix',\n",
    "                          cmap=plt.cm.Blues):\n",
    "    \"\"\"\n",
    "    This function prints and plots the confusion matrix.\n",
    "    Normalization can be applied by setting `normalize=True`.\n",
    "    \"\"\"\n",
    "    if normalize:\n",
    "        cm = cm.astype('float') / cm.sum(axis=1)[:, np.newaxis]\n",
    "        print(\"Normalized confusion matrix\")\n",
    "    else:\n",
    "        print('Confusion matrix, without normalization')\n",
    "\n",
    "    print(cm)\n",
    "\n",
    "    plt.imshow(cm, interpolation='nearest', cmap=cmap)\n",
    "    plt.title(title)\n",
    "    plt.colorbar()\n",
    "    tick_marks = np.arange(len(classes))\n",
    "    plt.xticks(tick_marks, classes, rotation=45)\n",
    "    plt.yticks(tick_marks, classes)\n",
    "\n",
    "    fmt = '.2f' if normalize else 'd'\n",
    "    thresh = cm.max() / 2.\n",
    "    for i, j in itertools.product(range(cm.shape[0]), range(cm.shape[1])):\n",
    "        plt.text(j, i, format(cm[i, j], fmt),\n",
    "                 horizontalalignment=\"center\",\n",
    "                 color=\"white\" if cm[i, j] > thresh else \"black\")\n",
    "\n",
    "    plt.ylabel('True label')\n",
    "    plt.xlabel('Predicted label')\n",
    "    plt.tight_layout()\n",
    "\n",
    "\n",
    "# Compute confusion matrix\n",
    "cnf_matrix = confusion_matrix(y_test, y_pred)\n",
    "np.set_printoptions(precision=2)\n",
    "\n",
    "# Plot non-normalized confusion matrix\n",
    "plt.figure()\n",
    "plot_confusion_matrix(cnf_matrix, classes=class_names,\n",
    "                      title='Confusion matrix, without normalization')\n",
    "#plt.savefig('figures/RF_cm_multi_class.png')\n",
    "\n",
    "# Plot normalized confusion matrix\n",
    "plt.figure()\n",
    "plot_confusion_matrix(cnf_matrix, classes=class_names, normalize=True,\n",
    "                      title='Normalized confusion matrix')\n",
    "#plt.savefig('figures/RF_cm_proportion_multi_class.png', bbox_inches=\"tight\")"
   ]
  },
  {
   "cell_type": "code",
   "execution_count": 37,
   "metadata": {
    "colab": {
     "base_uri": "https://localhost:8080/"
    },
    "id": "fJ-7Av6FKU_J",
    "outputId": "6f915daf-7de6-4779-dae1-e83b1e437402"
   },
   "outputs": [
    {
     "name": "stdout",
     "output_type": "stream",
     "text": [
      "                 precision    recall  f1-score   support\n",
      "\n",
      "       COVID-19       0.92      0.92      0.92        13\n",
      "         Normal       1.00      0.69      0.82        13\n",
      "Viral Pneumonia       0.72      0.93      0.81        14\n",
      "\n",
      "       accuracy                           0.85        40\n",
      "      macro avg       0.88      0.85      0.85        40\n",
      "   weighted avg       0.88      0.85      0.85        40\n",
      "\n"
     ]
    }
   ],
   "source": [
    "\n",
    "# we have one covid 19 misclassified patient as viral pneumonia\n",
    "# 4 normal patients misclassified as viral pneumonia\n",
    "# and 1 viral pneumonia patient misclassified as covid 19\n",
    "# but either way it looks like the vgg16 model is still doing a better job with\n",
    "# classification with this small amount of data,\n",
    "# since this is obvious we will not try to further improve\n",
    "# the model, we can already see that we were able to close\n",
    "# the gap significantly between the training and test \n",
    "# losses but the metrics did not really change that \n",
    "# much, there are other things that we can try to do,\n",
    "# like normalization, but, in the interest of efficient \n",
    "# iteration, we know we have a good model, \n",
    "# so we are going with the vgg16 model,\n",
    "# again, of course with the right computation resources\n",
    "# a cross validation study can also be set up when modeling\n",
    "# to verify the robustness of the metrics with averages\n",
    "\n",
    "from sklearn.metrics import classification_report\n",
    "\n",
    "print(classification_report(y_test, y_pred, target_names=class_names))"
   ]
  },
  {
   "cell_type": "code",
   "execution_count": 40,
   "metadata": {
    "colab": {
     "base_uri": "https://localhost:8080/",
     "height": 295
    },
    "id": "sAYuUTGSPBcx",
    "outputId": "f990e7aa-bd49-4ae6-9fae-b2e0fb56f248"
   },
   "outputs": [
    {
     "data": {
      "image/png": "[encoded data removed]",
      "text/plain": [
       "<Figure size 432x288 with 1 Axes>"
      ]
     },
     "metadata": {
      "needs_background": "light",
      "tags": []
     },
     "output_type": "display_data"
    }
   ],
   "source": [
    "# Visualize training and testing loss (validation set)\n",
    "\n",
    "def plot_loss(history):\n",
    "    '''Function to plot the loss vs. epoch'''\n",
    "    train_loss = history.history['loss'][:9]\n",
    "    test_loss = history.history['val_loss'][:9]\n",
    "    x = list(range(1, len(test_loss) + 1))\n",
    "    plt.plot(x, test_loss, color = 'red', label = 'Test loss')\n",
    "    plt.plot(x, train_loss, label = 'Training losss')\n",
    "    plt.legend()\n",
    "    plt.xlabel('Epoch')\n",
    "    plt.ylabel('Loss')\n",
    "    plt.title('Loss vs. Epoch')\n",
    "    \n",
    "plot_loss(history) "
   ]
  },
  {
   "cell_type": "code",
   "execution_count": 41,
   "metadata": {
    "colab": {
     "base_uri": "https://localhost:8080/",
     "height": 295
    },
    "id": "-mNsX8zbOyaH",
    "outputId": "6ec07a11-cab2-47d5-eeeb-e745147d6b5d"
   },
   "outputs": [
    {
     "data": {
      "image/png": "[encoded data removed]",
      "text/plain": [
       "<Figure size 432x288 with 1 Axes>"
      ]
     },
     "metadata": {
      "needs_background": "light",
      "tags": []
     },
     "output_type": "display_data"
    }
   ],
   "source": [
    "# Visualize training and testing accuracy (validation set)\n",
    "\n",
    "def plot_accuracy(history):\n",
    "    train_acc = history.history['accuracy'][:9]\n",
    "    test_acc = history.history['val_accuracy'][:9]\n",
    "    x = list(range(1, len(test_acc) + 1))\n",
    "    plt.plot(x, test_acc, color = 'red', label = 'Test accuracy')\n",
    "    plt.plot(x, train_acc, label = 'Training accuracy')\n",
    "    plt.legend()\n",
    "    plt.xlabel('Epoch')\n",
    "    plt.ylabel('Accuracy')\n",
    "    plt.title('Accuracy vs. Epoch')  \n",
    "    \n",
    "plot_accuracy(history) "
   ]
  }
 ],
 "metadata": {
  "accelerator": "GPU",
  "colab": {
   "collapsed_sections": [],
   "name": "Predicting Covid 19 Modeling 2 No Reg.ipynb",
   "provenance": []
  },
  "kernelspec": {
   "display_name": "Python 3",
   "language": "python",
   "name": "python3"
  },
  "language_info": {
   "codemirror_mode": {
    "name": "ipython",
    "version": 3
   },
   "file_extension": ".py",
   "mimetype": "text/x-python",
   "name": "python",
   "nbconvert_exporter": "python",
   "pygments_lexer": "ipython3",
   "version": "3.7.3"
  }
 },
 "nbformat": 4,
 "nbformat_minor": 1
}
